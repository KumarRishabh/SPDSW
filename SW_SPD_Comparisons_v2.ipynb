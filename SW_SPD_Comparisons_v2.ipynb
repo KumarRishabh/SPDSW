{
  "cells": [
    {
      "cell_type": "code",
      "source": [
        "!pip install pot\n",
        "!pip install geoopt\n",
        "!pip install pyriemann"
      ],
      "metadata": {
        "colab": {
          "base_uri": "https://localhost:8080/"
        },
        "id": "CS5wU91w63HW",
        "outputId": "8b89bc1b-f878-4717-af95-c2c841651410"
      },
      "execution_count": 1,
      "outputs": [
        {
          "output_type": "stream",
          "name": "stdout",
          "text": [
            "Looking in indexes: https://pypi.org/simple, https://us-python.pkg.dev/colab-wheels/public/simple/\n",
            "Collecting pot\n",
            "  Downloading POT-0.8.2-cp38-cp38-manylinux_2_12_x86_64.manylinux2010_x86_64.whl (682 kB)\n",
            "\u001b[K     |████████████████████████████████| 682 kB 1.0 MB/s \n",
            "\u001b[?25hRequirement already satisfied: numpy>=1.16 in /usr/local/lib/python3.8/dist-packages (from pot) (1.21.6)\n",
            "Requirement already satisfied: scipy>=1.0 in /usr/local/lib/python3.8/dist-packages (from pot) (1.7.3)\n",
            "Installing collected packages: pot\n",
            "Successfully installed pot-0.8.2\n",
            "Looking in indexes: https://pypi.org/simple, https://us-python.pkg.dev/colab-wheels/public/simple/\n",
            "Collecting geoopt\n",
            "  Downloading geoopt-0.5.0-py3-none-any.whl (90 kB)\n",
            "\u001b[K     |████████████████████████████████| 90 kB 9.2 MB/s \n",
            "\u001b[?25hRequirement already satisfied: torch>=1.9.0 in /usr/local/lib/python3.8/dist-packages (from geoopt) (1.13.0+cu116)\n",
            "Requirement already satisfied: scipy in /usr/local/lib/python3.8/dist-packages (from geoopt) (1.7.3)\n",
            "Requirement already satisfied: numpy in /usr/local/lib/python3.8/dist-packages (from geoopt) (1.21.6)\n",
            "Requirement already satisfied: typing-extensions in /usr/local/lib/python3.8/dist-packages (from torch>=1.9.0->geoopt) (4.4.0)\n",
            "Installing collected packages: geoopt\n",
            "Successfully installed geoopt-0.5.0\n",
            "Looking in indexes: https://pypi.org/simple, https://us-python.pkg.dev/colab-wheels/public/simple/\n",
            "Collecting pyriemann\n",
            "  Downloading pyriemann-0.3.tar.gz (365 kB)\n",
            "\u001b[K     |████████████████████████████████| 365 kB 31.1 MB/s \n",
            "\u001b[?25hRequirement already satisfied: numpy in /usr/local/lib/python3.8/dist-packages (from pyriemann) (1.21.6)\n",
            "Requirement already satisfied: scipy in /usr/local/lib/python3.8/dist-packages (from pyriemann) (1.7.3)\n",
            "Requirement already satisfied: scikit-learn in /usr/local/lib/python3.8/dist-packages (from pyriemann) (1.0.2)\n",
            "Requirement already satisfied: joblib in /usr/local/lib/python3.8/dist-packages (from pyriemann) (1.2.0)\n",
            "Requirement already satisfied: pandas in /usr/local/lib/python3.8/dist-packages (from pyriemann) (1.3.5)\n",
            "Requirement already satisfied: pytz>=2017.3 in /usr/local/lib/python3.8/dist-packages (from pandas->pyriemann) (2022.6)\n",
            "Requirement already satisfied: python-dateutil>=2.7.3 in /usr/local/lib/python3.8/dist-packages (from pandas->pyriemann) (2.8.2)\n",
            "Requirement already satisfied: six>=1.5 in /usr/local/lib/python3.8/dist-packages (from python-dateutil>=2.7.3->pandas->pyriemann) (1.15.0)\n",
            "Requirement already satisfied: threadpoolctl>=2.0.0 in /usr/local/lib/python3.8/dist-packages (from scikit-learn->pyriemann) (3.1.0)\n",
            "Building wheels for collected packages: pyriemann\n",
            "  Building wheel for pyriemann (setup.py) ... \u001b[?25l\u001b[?25hdone\n",
            "  Created wheel for pyriemann: filename=pyriemann-0.3-py2.py3-none-any.whl size=78032 sha256=4a43d4c5e4fa2140062dc9bc4f6cf4ab2e34c5214de6c92d76d553e8b4d3dea4\n",
            "  Stored in directory: /root/.cache/pip/wheels/8f/08/26/3bee80f73136e2669b530a30dade9ae56422203a09e0400995\n",
            "Successfully built pyriemann\n",
            "Installing collected packages: pyriemann\n",
            "Successfully installed pyriemann-0.3\n"
          ]
        }
      ]
    },
    {
      "cell_type": "code",
      "execution_count": 2,
      "metadata": {
        "id": "8DktMM_Y-mqP"
      },
      "outputs": [],
      "source": [
        "import torch\n",
        "import ot\n",
        "import geoopt\n",
        "# import scipy.linalg\n",
        "import sys\n",
        "\n",
        "import numpy as np\n",
        "import matplotlib.pyplot as plt\n",
        "import torch.nn.functional as F\n",
        "import torch.distributions as D\n",
        "\n",
        "from tqdm.auto import trange\n",
        "from geoopt import linalg\n",
        "from pyriemann.datasets import sample_gaussian_spd, generate_random_spd_matrix\n",
        "\n",
        "sys.path.append(\"./lib\")\n",
        "from swspd import *\n",
        "from utils_spd import busemann_spd"
      ]
    },
    {
      "cell_type": "code",
      "execution_count": 3,
      "metadata": {
        "id": "WX56t54f-mqd"
      },
      "outputs": [],
      "source": [
        "device = \"cuda\" if torch.cuda.is_available() else \"cpu\"\n",
        "# device"
      ]
    },
    {
      "cell_type": "markdown",
      "metadata": {
        "id": "gd5tvcI8-mq_"
      },
      "source": [
        "## Sliced-Wasserstein"
      ]
    },
    {
      "cell_type": "markdown",
      "metadata": {
        "id": "t0dwcohk-mrE"
      },
      "source": [
        "### Wishart Distribution"
      ]
    },
    {
      "cell_type": "code",
      "execution_count": 4,
      "metadata": {
        "colab": {
          "base_uri": "https://localhost:8080/",
          "height": 138,
          "referenced_widgets": [
            "cc20cb4a14174dc988f6cef9edfe461d",
            "83203ce71d6844aa8acc0ad7aee887a2",
            "e83345cfe8304a058df933d5b5cf60e3",
            "2233e2d5cb8c4fe7971d7ec065873ec1",
            "164111c3d3854599a351ae909953a701",
            "254df5b5bf5c4592b2a28ae39e55c68b",
            "df41fd6b8faf4fa2a6a5769a33ce83cd",
            "859cee3396df4997a9ea961274d78b02",
            "2c1cdfea0d6041428c0b9a85865b1ead",
            "80e82e12528b47f7b5d14af0584c9830",
            "a34f33ddcb09440299a7c7366ea51464"
          ]
        },
        "id": "2VTSjEFh-mrK",
        "outputId": "55fd99bd-ff9d-42bc-e235-3cd826daf5f7",
        "scrolled": true
      },
      "outputs": [
        {
          "output_type": "stream",
          "name": "stderr",
          "text": [
            "/usr/local/lib/python3.8/dist-packages/geoopt/manifolds/symmetric_positive_definite.py:52: UserWarning: SPDMetric.LEM is not fully implemented and results may be not as you expect\n",
            "  warnings.warn(\n"
          ]
        },
        {
          "output_type": "display_data",
          "data": {
            "text/plain": [
              "  0%|          | 0/20 [00:00<?, ?it/s]"
            ],
            "application/vnd.jupyter.widget-view+json": {
              "version_major": 2,
              "version_minor": 0,
              "model_id": "cc20cb4a14174dc988f6cef9edfe461d"
            }
          },
          "metadata": {}
        },
        {
          "output_type": "stream",
          "name": "stderr",
          "text": [
            "/usr/local/lib/python3.8/dist-packages/torch/distributions/wishart.py:250: UserWarning: Singular sample detected.\n",
            "  warnings.warn(\"Singular sample detected.\")\n"
          ]
        }
      ],
      "source": [
        "m0 = D.Wishart(torch.tensor([2], dtype=torch.float64).to(device), torch.eye(2, dtype=torch.float64, device=device))\n",
        "\n",
        "manifold_ai = geoopt.SymmetricPositiveDefinite(\"AIM\")\n",
        "manifold_le = geoopt.SymmetricPositiveDefinite(\"LEM\")\n",
        "\n",
        "ntry = 20\n",
        "nsamples = 500\n",
        "nprojs = 500\n",
        "\n",
        "a = torch.ones((nsamples,), device=device, dtype=torch.float64)/nsamples\n",
        "b = torch.ones((nsamples,), device=device, dtype=torch.float64)/nsamples\n",
        "\n",
        "ts = torch.linspace(0.1,10,100)\n",
        "L_sw_wishart = np.zeros((ntry, len(ts)))\n",
        "L_sw_diag_wishart = np.zeros((ntry, len(ts)))\n",
        "L_w_ai_wishart = np.zeros((ntry, len(ts)))\n",
        "L_w_le_wishart = np.zeros((ntry, len(ts)))\n",
        "\n",
        "bar = trange(ntry)\n",
        "for k in bar:\n",
        "    # pbar = trange(len(ts))\n",
        "    pbar = range(len(ts))\n",
        "    for i in pbar:\n",
        "        t = ts[i]\n",
        "        mt = D.Wishart(torch.tensor([2], dtype=torch.float64).to(device), t*torch.eye(2, dtype=torch.float64, device=device))\n",
        "        B0 = m0.sample((nsamples,))[:,0]\n",
        "        Bt = mt.sample((nsamples,))[:,0]\n",
        "\n",
        "        sw = sliced_wasserstein_spd(B0, Bt, nprojs, device=device).item()\n",
        "        L_sw_wishart[k, i] = sw\n",
        "\n",
        "        sw = sliced_wasserstein_spd_diagbasis(B0, Bt, nprojs, device=device).item()\n",
        "        L_sw_diag_wishart[k, i] = sw\n",
        "\n",
        "\n",
        "        M = manifold_ai.dist(B0[:,None], Bt[None])**2\n",
        "\n",
        "        w = ot.emd2(a, b, M)\n",
        "        L_w_ai_wishart[k, i] = w.item()\n",
        "\n",
        "\n",
        "        M = manifold_le.dist(B0[:,None], Bt[None])**2\n",
        "\n",
        "        w = ot.emd2(a, b, M)\n",
        "        L_w_le_wishart[k, i] = w.item()"
      ]
    },
    {
      "cell_type": "code",
      "execution_count": 5,
      "metadata": {
        "colab": {
          "base_uri": "https://localhost:8080/",
          "height": 229
        },
        "id": "fdMLocrwQmA9",
        "outputId": "754c0336-4273-4283-92eb-1c7212a65dcd"
      },
      "outputs": [
        {
          "output_type": "display_data",
          "data": {
            "text/plain": [
              "<Figure size 432x216 with 1 Axes>"
            ],
            "image/png": "[encoded data removed]"
          },
          "metadata": {
            "needs_background": "light"
          }
        }
      ],
      "source": [
        "plt.figure(figsize=(6,3))\n",
        "\n",
        "m = np.mean(L_sw_wishart, axis=0)\n",
        "s = np.std(L_sw_wishart, axis=0)\n",
        "\n",
        "plt.plot(ts, m, label=r\"$SPDSW_2^2$\")\n",
        "plt.fill_between(ts, m-s, m+s, alpha=0.5)\n",
        "\n",
        "\n",
        "m = np.mean(L_w_ai_wishart/2, axis=0)\n",
        "s = np.std(L_w_ai_wishart/2, axis=0)\n",
        "\n",
        "plt.plot(ts, m, label=r\"$\\frac{1}{2} AIW_2^2$\")\n",
        "plt.fill_between(ts, m-s, m+s, alpha=0.5)\n",
        "\n",
        "m = np.mean(L_w_le_wishart/2, axis=0)\n",
        "s = np.std(L_w_le_wishart/2, axis=0)\n",
        "\n",
        "plt.plot(ts, m, label=r\"$\\frac{1}{2} LEW_2^2$\")\n",
        "plt.fill_between(ts, m-s, m+s, alpha=0.5)\n",
        "\n",
        "plt.xlabel(\"t\", fontsize=13)\n",
        "plt.legend(fontsize=13)\n",
        "plt.grid(True)\n",
        "plt.savefig(\"./SW_vs_W_Wishart.pdf\", format=\"pdf\", bbox_inches=\"tight\")\n",
        "plt.show()"
      ]
    },
    {
      "cell_type": "code",
      "execution_count": 6,
      "metadata": {
        "colab": {
          "base_uri": "https://localhost:8080/",
          "height": 229
        },
        "id": "p4FG1sT81I8t",
        "outputId": "5f436815-f166-4b74-c9d4-1f0cbee08a74"
      },
      "outputs": [
        {
          "output_type": "display_data",
          "data": {
            "text/plain": [
              "<Figure size 432x216 with 1 Axes>"
            ],
            "image/png": "[encoded data removed]"
          },
          "metadata": {
            "needs_background": "light"
          }
        }
      ],
      "source": [
        "plt.figure(figsize=(6,3))\n",
        "\n",
        "m = np.mean(L_sw_wishart, axis=0)\n",
        "s = np.std(L_sw_wishart, axis=0)\n",
        "\n",
        "plt.plot(ts, m, label=r\"$SPDSW_2^2$\")\n",
        "plt.fill_between(ts, m-s, m+s, alpha=0.5)\n",
        "\n",
        "\n",
        "m = np.mean(L_sw_diag_wishart, axis=0)\n",
        "s = np.std(L_sw_diag_wishart, axis=0)\n",
        "\n",
        "plt.plot(ts, m, label=r\"Diag $SPDSW_2^2$\")\n",
        "plt.fill_between(ts, m-s, m+s, alpha=0.5)\n",
        "\n",
        "\n",
        "m = np.mean(L_w_ai_wishart/2, axis=0)\n",
        "s = np.std(L_w_ai_wishart/2, axis=0)\n",
        "\n",
        "plt.plot(ts, m, label=r\"$\\frac{1}{2} AIW_2^2$\")\n",
        "plt.fill_between(ts, m-s, m+s, alpha=0.5)\n",
        "\n",
        "m = np.mean(L_w_le_wishart/2, axis=0)\n",
        "s = np.std(L_w_le_wishart/2, axis=0)\n",
        "\n",
        "plt.plot(ts, m, label=r\"$\\frac{1}{2} LEW_2^2$\")\n",
        "plt.fill_between(ts, m-s, m+s, alpha=0.5)\n",
        "\n",
        "plt.xlabel(\"t\", fontsize=13)\n",
        "plt.legend(fontsize=13)\n",
        "plt.grid(True)\n",
        "# plt.savefig(\"./SW_vs_W_Wishart.pdf\", format=\"pdf\", bbox_inches=\"tight\")\n",
        "plt.show()"
      ]
    },
    {
      "cell_type": "code",
      "execution_count": null,
      "metadata": {
        "id": "5BorkvkIRDrJ"
      },
      "outputs": [],
      "source": []
    },
    {
      "cell_type": "markdown",
      "metadata": {
        "id": "wjvzDG7jtdDY"
      },
      "source": [
        "### Test Gaussian Distributions"
      ]
    },
    {
      "cell_type": "markdown",
      "metadata": {
        "id": "R7G4cd7A1V4g"
      },
      "source": [
        "#### Random geodesic"
      ]
    },
    {
      "cell_type": "code",
      "execution_count": 7,
      "metadata": {
        "id": "vAzhe1pfxU8j"
      },
      "outputs": [],
      "source": [
        "B = torch.rand(2,2)\n",
        "A = (B+B.T)/2 "
      ]
    },
    {
      "cell_type": "code",
      "execution_count": 8,
      "metadata": {
        "colab": {
          "base_uri": "https://localhost:8080/",
          "height": 138,
          "referenced_widgets": [
            "ae365eaf70b4478fb2c0cc7abf364510",
            "5d4cc6a2daaf4c15b1ea39a8e4fbb5a2",
            "6eff86458a2643d19487c7fbeee61c85",
            "9e1f5ebc472f48ecb3932561d09692d0",
            "4a5d882e81aa48d58f982581516f09e6",
            "a7b66b81fa354439b23233200de452f4",
            "4dcd9b725c0640b5afbe183f1522fa7c",
            "816b946c89d54aca8e4bcf24b8e4d16b",
            "4852fc03a48748f9bd8fde39b3cb4363",
            "c7b59b0de1784ab7b755b1ec589fabfe",
            "a244a6a197bd48e3a159e64de86f61ce"
          ]
        },
        "id": "OjrMs3ijxU_v",
        "outputId": "8e1d63d7-4989-4948-d813-6684186c0654"
      },
      "outputs": [
        {
          "output_type": "stream",
          "name": "stderr",
          "text": [
            "/usr/local/lib/python3.8/dist-packages/geoopt/manifolds/symmetric_positive_definite.py:52: UserWarning: SPDMetric.LEM is not fully implemented and results may be not as you expect\n",
            "  warnings.warn(\n"
          ]
        },
        {
          "output_type": "display_data",
          "data": {
            "text/plain": [
              "  0%|          | 0/10 [00:00<?, ?it/s]"
            ],
            "application/vnd.jupyter.widget-view+json": {
              "version_major": 2,
              "version_minor": 0,
              "model_id": "ae365eaf70b4478fb2c0cc7abf364510"
            }
          },
          "metadata": {}
        },
        {
          "output_type": "stream",
          "name": "stderr",
          "text": [
            "/usr/local/lib/python3.8/dist-packages/pyriemann/datasets/sampling.py:363: UserWarning: Some of the sampled matrices are very badly conditioned and                may not behave numerically as a SPD matrix. Try sampling again                or reducing the dimensionality of the matrix.\n",
            "  warnings.warn(msg)\n"
          ]
        }
      ],
      "source": [
        "manifold_ai = geoopt.SymmetricPositiveDefinite(\"AIM\")\n",
        "manifold_le = geoopt.SymmetricPositiveDefinite(\"LEM\")\n",
        "\n",
        "ntry = 10\n",
        "nsamples = 250\n",
        "nprojs = 500\n",
        "\n",
        "ts = torch.linspace(-10,10,100)\n",
        "L_sw_gaussians = np.zeros((ntry, len(ts)))\n",
        "L_sw_diag_gaussians = np.zeros((ntry, len(ts)))\n",
        "L_w_ai_gaussians = np.zeros((ntry, len(ts)))\n",
        "L_w_le_gaussians = np.zeros((ntry, len(ts)))\n",
        "\n",
        "\n",
        "mean0 = np.eye(2)\n",
        "sigma0 = 1\n",
        "sigma1 = 1\n",
        "\n",
        "bar = trange(ntry)\n",
        "for k in bar:\n",
        "    pbar = range(len(ts))\n",
        "\n",
        "    for i in pbar:\n",
        "        t = ts[i]\n",
        "        \n",
        "        mean1 = torch.linalg.matrix_exp(t*A).cpu().numpy()\n",
        "\n",
        "        ## Slow as not implemented on pytorch\n",
        "        B0 = torch.tensor(sample_gaussian_spd(n_matrices=nsamples, mean=mean0, sigma=sigma0), device=device)\n",
        "        Bt = torch.tensor(sample_gaussian_spd(n_matrices=nsamples, mean=mean1, sigma=sigma1), device=device)\n",
        "        \n",
        "        sw = sliced_wasserstein_spd(B0, Bt, nprojs, device=device).item()\n",
        "        L_sw_gaussians[k, i] = sw\n",
        "\n",
        "\n",
        "        sw = sliced_wasserstein_spd_diagbasis(B0, Bt, nprojs, device=device).item()\n",
        "        L_sw_diag_gaussians[k, i] = sw\n",
        "\n",
        "\n",
        "        a = torch.ones((nsamples,), device=device, dtype=torch.float64)/nsamples\n",
        "        b = torch.ones((nsamples,), device=device, dtype=torch.float64)/nsamples\n",
        "\n",
        "        M = manifold_ai.dist(B0[:,None], Bt[None])**2\n",
        "        w = ot.emd2(a, b, M)\n",
        "        L_w_ai_gaussians[k, i] = w.item()\n",
        "\n",
        "\n",
        "        M = manifold_le.dist(B0[:,None], Bt[None])**2\n",
        "        w = ot.emd2(a, b, M)\n",
        "        L_w_le_gaussians[k, i] = w.item()\n",
        "\n",
        "    "
      ]
    },
    {
      "cell_type": "code",
      "execution_count": 9,
      "metadata": {
        "id": "oHce4-f1xVCf",
        "colab": {
          "base_uri": "https://localhost:8080/",
          "height": 228
        },
        "outputId": "b351ad49-f0ba-4f13-9a11-3464af94f375"
      },
      "outputs": [
        {
          "output_type": "display_data",
          "data": {
            "text/plain": [
              "<Figure size 432x216 with 1 Axes>"
            ],
            "image/png": "[encoded data removed]"
          },
          "metadata": {
            "needs_background": "light"
          }
        }
      ],
      "source": [
        "m = np.mean(L_sw_gaussians, axis=0)\n",
        "s = np.std(L_sw_gaussians, axis=0)\n",
        "\n",
        "plt.figure(figsize=(6,3))\n",
        "plt.plot(ts, m, label=r\"$SPDSW_2^2$\")\n",
        "plt.fill_between(ts, m-s, m+s, alpha=0.5)\n",
        "\n",
        "\n",
        "m = np.mean(L_w_ai_gaussians/2, axis=0)\n",
        "s = np.std(L_w_ai_gaussians/2, axis=0)\n",
        "\n",
        "plt.plot(ts, m, label=r\"$\\frac{1}{2} AIW_2^2$\")\n",
        "plt.fill_between(ts, m-s, m+s, alpha=0.5)\n",
        "\n",
        "m = np.mean(L_w_le_gaussians/2, axis=0)\n",
        "s = np.std(L_w_le_gaussians/2, axis=0)\n",
        "\n",
        "plt.plot(ts, m, label=r\"$\\frac{1}{2} LEW_2^2$\")\n",
        "plt.fill_between(ts, m-s, m+s, alpha=0.5)\n",
        "\n",
        "plt.xlabel(\"t\", fontsize=13)\n",
        "plt.legend(fontsize=13)\n",
        "plt.grid(True)\n",
        "plt.savefig(\"./SW_vs_W_Gaussians_DONTCOMMUTE.pdf\", format=\"pdf\", bbox_inches=\"tight\")\n",
        "plt.show()"
      ]
    },
    {
      "cell_type": "code",
      "execution_count": 10,
      "metadata": {
        "id": "g4AixHhexVHx",
        "colab": {
          "base_uri": "https://localhost:8080/",
          "height": 228
        },
        "outputId": "a159e585-57e1-4c69-c193-6995bd36f68f"
      },
      "outputs": [
        {
          "output_type": "display_data",
          "data": {
            "text/plain": [
              "<Figure size 432x216 with 1 Axes>"
            ],
            "image/png": "[encoded data removed]"
          },
          "metadata": {
            "needs_background": "light"
          }
        }
      ],
      "source": [
        "plt.figure(figsize=(6,3))\n",
        "\n",
        "m = np.mean(L_sw_gaussians, axis=0)\n",
        "s = np.std(L_sw_gaussians, axis=0)\n",
        "\n",
        "plt.plot(ts, m, label=r\"$SPDSW_2^2$\")\n",
        "plt.fill_between(ts, m-s, m+s, alpha=0.5)\n",
        "\n",
        "\n",
        "m = np.mean(L_sw_diag_gaussians, axis=0)\n",
        "s = np.std(L_sw_diag_gaussians, axis=0)\n",
        "\n",
        "plt.plot(ts, m, label=r\"Diag $SPDSW_2^2$\")\n",
        "plt.fill_between(ts, m-s, m+s, alpha=0.5)\n",
        "\n",
        "\n",
        "m = np.mean(L_w_ai_gaussians/2, axis=0)\n",
        "s = np.std(L_w_ai_gaussians/2, axis=0)\n",
        "\n",
        "plt.plot(ts, m, label=r\"$\\frac{1}{2} AIW_2^2$\")\n",
        "plt.fill_between(ts, m-s, m+s, alpha=0.5)\n",
        "\n",
        "m = np.mean(L_w_le_gaussians/2, axis=0)\n",
        "s = np.std(L_w_le_gaussians/2, axis=0)\n",
        "\n",
        "plt.plot(ts, m, label=r\"$\\frac{1}{2} LEW_2^2$\")\n",
        "plt.fill_between(ts, m-s, m+s, alpha=0.5)\n",
        "\n",
        "plt.xlabel(\"t\", fontsize=13)\n",
        "plt.legend(fontsize=13)\n",
        "plt.grid(True)\n",
        "# plt.savefig(\"./SW_vs_W_Gaussians_DONTCOMMUTE.pdf\", format=\"pdf\", bbox_inches=\"tight\")\n",
        "plt.show()"
      ]
    },
    {
      "cell_type": "markdown",
      "metadata": {
        "id": "VO0JO58y1aUb"
      },
      "source": [
        "#### Diagonal Geodesic"
      ]
    },
    {
      "cell_type": "code",
      "execution_count": 11,
      "metadata": {
        "id": "E4RNiUzOTvsR"
      },
      "outputs": [],
      "source": [
        "theta = np.random.normal(size=(1, 2))\n",
        "theta = F.normalize(torch.from_numpy(theta), p=2, dim=-1).to(device)\n",
        "\n",
        "A = theta[:,None] * torch.eye(theta.shape[-1], device=device)"
      ]
    },
    {
      "cell_type": "code",
      "execution_count": 12,
      "metadata": {
        "colab": {
          "base_uri": "https://localhost:8080/",
          "height": 104,
          "referenced_widgets": [
            "b72d59e8c8c44135a25c625eda3e76dd",
            "a7aad04dba504f37883503130e8e49fc",
            "f1f472f0048541748b682df2f9613714",
            "b469eca55d414572aedfa3b669058683",
            "37bae0dacf764627acf94105f433cd95",
            "3357cdd25c5f4c368a4a138f747955b9",
            "95349c72871443b3ac306d95d8d7feb8",
            "97fb984fa6ab4fd285df60b758345935",
            "1db99813ace045eb878d91ded368b523",
            "2137f92573fb45a98c41d4b8989f7fb9",
            "11bd766504e141a2abe1183efd7c8911"
          ]
        },
        "id": "tI7WQ5oUtqRD",
        "outputId": "38b272c9-8b19-4630-e5df-36dd7e3bd1dd"
      },
      "outputs": [
        {
          "metadata": {
            "tags": null
          },
          "name": "stderr",
          "output_type": "stream",
          "text": [
            "/usr/local/lib/python3.8/dist-packages/geoopt/manifolds/symmetric_positive_definite.py:52: UserWarning: SPDMetric.LEM is not fully implemented and results may be not as you expect\n",
            "  warnings.warn(\n"
          ]
        },
        {
          "data": {
            "application/vnd.jupyter.widget-view+json": {
              "model_id": "b72d59e8c8c44135a25c625eda3e76dd",
              "version_major": 2,
              "version_minor": 0
            },
            "text/plain": [
              "  0%|          | 0/10 [00:00<?, ?it/s]"
            ]
          },
          "metadata": {},
          "output_type": "display_data"
        }
      ],
      "source": [
        "manifold_ai = geoopt.SymmetricPositiveDefinite(\"AIM\")\n",
        "manifold_le = geoopt.SymmetricPositiveDefinite(\"LEM\")\n",
        "\n",
        "ntry = 10\n",
        "nsamples = 500\n",
        "nprojs = 500\n",
        "\n",
        "ts = torch.linspace(-10,10,100)\n",
        "L_sw_gaussians = np.zeros((ntry, len(ts)))\n",
        "L_sw_diag_gaussians = np.zeros((ntry, len(ts)))\n",
        "L_w_ai_gaussians = np.zeros((ntry, len(ts)))\n",
        "L_w_le_gaussians = np.zeros((ntry, len(ts)))\n",
        "\n",
        "\n",
        "mean0 = np.eye(2)\n",
        "sigma0 = 1\n",
        "sigma1 = 1\n",
        "\n",
        "bar = trange(ntry)\n",
        "for k in bar:\n",
        "    pbar = range(len(ts))\n",
        "\n",
        "    for i in pbar:\n",
        "        t = ts[i]\n",
        "        \n",
        "        mean1 = torch.linalg.matrix_exp(t*A[0]).cpu().numpy()\n",
        "\n",
        "        ## Slow as not implemented on pytorch\n",
        "        B0 = torch.tensor(sample_gaussian_spd(n_matrices=nsamples, mean=mean0, sigma=sigma0), device=device)\n",
        "        Bt = torch.tensor(sample_gaussian_spd(n_matrices=nsamples, mean=mean1, sigma=sigma1), device=device)\n",
        "        \n",
        "        sw = sliced_wasserstein_spd(B0, Bt, nprojs, device=device).item()\n",
        "        L_sw_gaussians[k, i] = sw\n",
        "\n",
        "\n",
        "        sw = sliced_wasserstein_spd_diagbasis(B0, Bt, nprojs, device=device).item()\n",
        "        L_sw_diag_gaussians[k, i] = sw\n",
        "\n",
        "\n",
        "        a = torch.ones((nsamples,), device=device, dtype=torch.float64)/nsamples\n",
        "        b = torch.ones((nsamples,), device=device, dtype=torch.float64)/nsamples\n",
        "\n",
        "        M = manifold_ai.dist(B0[:,None], Bt[None])**2\n",
        "        w = ot.emd2(a, b, M)\n",
        "        L_w_ai_gaussians[k, i] = w.item()\n",
        "\n",
        "\n",
        "        M = manifold_le.dist(B0[:,None], Bt[None])**2\n",
        "        w = ot.emd2(a, b, M)\n",
        "        L_w_le_gaussians[k, i] = w.item()\n",
        "\n",
        "    "
      ]
    },
    {
      "cell_type": "code",
      "execution_count": 13,
      "metadata": {
        "id": "FzWnSTCyzuA0",
        "colab": {
          "base_uri": "https://localhost:8080/",
          "height": 228
        },
        "outputId": "70958410-027e-4a98-e867-1aec9c341af4"
      },
      "outputs": [
        {
          "output_type": "display_data",
          "data": {
            "text/plain": [
              "<Figure size 432x216 with 1 Axes>"
            ],
            "image/png": "[encoded data removed]"
          },
          "metadata": {
            "needs_background": "light"
          }
        }
      ],
      "source": [
        "m = np.mean(L_sw_gaussians, axis=0)\n",
        "s = np.std(L_sw_gaussians, axis=0)\n",
        "\n",
        "plt.figure(figsize=(6,3))\n",
        "plt.plot(ts, m, label=r\"$SPDSW_2^2$\")\n",
        "plt.fill_between(ts, m-s, m+s, alpha=0.5)\n",
        "\n",
        "\n",
        "m = np.mean(L_w_ai_gaussians/2, axis=0)\n",
        "s = np.std(L_w_ai_gaussians/2, axis=0)\n",
        "\n",
        "plt.plot(ts, m, label=r\"$\\frac{1}{2} AIW_2^2$\")\n",
        "plt.fill_between(ts, m-s, m+s, alpha=0.5)\n",
        "\n",
        "# m = np.mean(L_w_le_gaussians/2, axis=0)\n",
        "# s = np.std(L_w_le_gaussians/2, axis=0)\n",
        "\n",
        "# plt.plot(ts, m, label=r\"$\\frac{1}{2} LEW_2^2$\")\n",
        "# plt.fill_between(ts, m-s, m+s, alpha=0.5)\n",
        "\n",
        "plt.xlabel(\"t\", fontsize=13)\n",
        "plt.legend(fontsize=13)\n",
        "plt.grid(True)\n",
        "plt.savefig(\"./SW_vs_W_Gaussians.pdf\", format=\"pdf\", bbox_inches=\"tight\")\n",
        "plt.show()"
      ]
    },
    {
      "cell_type": "code",
      "execution_count": 14,
      "metadata": {
        "id": "3EpA7Z6nwlDv",
        "colab": {
          "base_uri": "https://localhost:8080/",
          "height": 228
        },
        "outputId": "df33f5a0-e253-4afe-9b15-0ee6baa16c61"
      },
      "outputs": [
        {
          "output_type": "display_data",
          "data": {
            "text/plain": [
              "<Figure size 432x216 with 1 Axes>"
            ],
            "image/png": "[encoded data removed]"
          },
          "metadata": {
            "needs_background": "light"
          }
        }
      ],
      "source": [
        "plt.figure(figsize=(6,3))\n",
        "\n",
        "m = np.mean(L_sw_gaussians, axis=0)\n",
        "s = np.std(L_sw_gaussians, axis=0)\n",
        "\n",
        "plt.plot(ts, m, label=r\"$SPDSW_2^2$\")\n",
        "plt.fill_between(ts, m-s, m+s, alpha=0.5)\n",
        "\n",
        "\n",
        "m = np.mean(L_sw_diag_gaussians, axis=0)\n",
        "s = np.std(L_sw_diag_gaussians, axis=0)\n",
        "\n",
        "plt.plot(ts, m, label=r\"Diag $SPDSW_2^2$\")\n",
        "plt.fill_between(ts, m-s, m+s, alpha=0.5)\n",
        "\n",
        "\n",
        "m = np.mean(L_w_ai_gaussians/2, axis=0)\n",
        "s = np.std(L_w_ai_gaussians/2, axis=0)\n",
        "\n",
        "plt.plot(ts, m, label=r\"$\\frac{1}{2} AIW_2^2$\")\n",
        "plt.fill_between(ts, m-s, m+s, alpha=0.5)\n",
        "\n",
        "# m = np.mean(L_w_le_gaussians/2, axis=0)\n",
        "# s = np.std(L_w_le_gaussians/2, axis=0)\n",
        "\n",
        "# plt.plot(ts, m, label=r\"$\\frac{1}{2} LEW_2^2$\")\n",
        "# plt.fill_between(ts, m-s, m+s, alpha=0.5)\n",
        "\n",
        "plt.xlabel(\"t\", fontsize=13)\n",
        "plt.legend(fontsize=13)\n",
        "plt.grid(True)\n",
        "# plt.savefig(\"./SW_vs_W_Gaussians.pdf\", format=\"pdf\", bbox_inches=\"tight\")\n",
        "plt.show()"
      ]
    },
    {
      "cell_type": "code",
      "execution_count": null,
      "metadata": {
        "id": "8ZAMF3lYz69Z"
      },
      "outputs": [],
      "source": []
    },
    {
      "cell_type": "code",
      "execution_count": 15,
      "metadata": {
        "id": "GaoaxsMF1UQp"
      },
      "outputs": [],
      "source": [
        "B = torch.rand(2,2)\n",
        "A = (B+B.T)/2 "
      ]
    },
    {
      "cell_type": "code",
      "source": [
        "manifold_ai = geoopt.SymmetricPositiveDefinite(\"AIM\")\n",
        "manifold_le = geoopt.SymmetricPositiveDefinite(\"LEM\")\n",
        "\n",
        "ntry = 10\n",
        "nsamples = 250\n",
        "nprojs = 500\n",
        "\n",
        "ts = torch.linspace(-10,10,100)\n",
        "L_sw_gaussians = np.zeros((ntry, len(ts)))\n",
        "L_sw_diag_gaussians = np.zeros((ntry, len(ts)))\n",
        "L_w_ai_gaussians = np.zeros((ntry, len(ts)))\n",
        "L_w_le_gaussians = np.zeros((ntry, len(ts)))\n",
        "\n",
        "\n",
        "mean0 = np.eye(2)\n",
        "sigma0 = 1\n",
        "sigma1 = 1\n",
        "\n",
        "bar = trange(ntry)\n",
        "for k in bar:\n",
        "    pbar = range(len(ts))\n",
        "\n",
        "    for i in pbar:\n",
        "        t = ts[i]\n",
        "        \n",
        "        mean1 = torch.linalg.matrix_exp(t*A).cpu().numpy()\n",
        "\n",
        "        ## Slow as not implemented on pytorch\n",
        "        B0 = torch.tensor(sample_gaussian_spd(n_matrices=nsamples, mean=mean0, sigma=sigma0), device=device)\n",
        "        Bt = torch.tensor(sample_gaussian_spd(n_matrices=nsamples, mean=mean1, sigma=sigma1), device=device)\n",
        "        \n",
        "        sw = sliced_wasserstein_spd(B0, Bt, nprojs, device=device).item()\n",
        "        L_sw_gaussians[k, i] = sw\n",
        "\n",
        "\n",
        "        sw = sliced_wasserstein_spd_diagbasis(B0, Bt, nprojs, device=device).item()\n",
        "        L_sw_diag_gaussians[k, i] = sw\n",
        "\n",
        "\n",
        "        a = torch.ones((nsamples,), device=device, dtype=torch.float64)/nsamples\n",
        "        b = torch.ones((nsamples,), device=device, dtype=torch.float64)/nsamples\n",
        "\n",
        "        M = manifold_ai.dist(B0[:,None], Bt[None])**2\n",
        "        w = ot.emd2(a, b, M)\n",
        "        L_w_ai_gaussians[k, i] = w.item()\n",
        "\n",
        "\n",
        "        M = manifold_le.dist(B0[:,None], Bt[None])**2\n",
        "        w = ot.emd2(a, b, M)\n",
        "        L_w_le_gaussians[k, i] = w.item()\n",
        "\n",
        "    "
      ],
      "metadata": {
        "colab": {
          "base_uri": "https://localhost:8080/",
          "height": 173,
          "referenced_widgets": [
            "7dbd9b15095045f89b79099708a9a7c8",
            "ddf8890649e2472da91fa3379a852928",
            "d9b9088cd8a24f7aaca3f780b0589b94",
            "28f70d6d9785485c8e661acc64a9d2cb",
            "c3079f5e1f174e3c98266c5885d0a569",
            "4175120d6f7c4f7ab4ca3b700f719fce",
            "09c38bac9cc6475ab058912747bd6566",
            "4a9a369966664a3a8bee16c54da50d0c",
            "d62ecb075c5942cf9adcdc039eb2ec26",
            "15cdd4148cd14b84aed6bdc36af49d42",
            "0e01cff3ae4c4e30bdd431da5924bd37"
          ]
        },
        "id": "CujWO1cHIJvz",
        "outputId": "6632daa3-053c-45ff-a75d-ebbabc96ecd4"
      },
      "execution_count": 16,
      "outputs": [
        {
          "output_type": "stream",
          "name": "stderr",
          "text": [
            "/usr/local/lib/python3.8/dist-packages/geoopt/manifolds/symmetric_positive_definite.py:52: UserWarning: SPDMetric.LEM is not fully implemented and results may be not as you expect\n",
            "  warnings.warn(\n"
          ]
        },
        {
          "output_type": "display_data",
          "data": {
            "text/plain": [
              "  0%|          | 0/10 [00:00<?, ?it/s]"
            ],
            "application/vnd.jupyter.widget-view+json": {
              "version_major": 2,
              "version_minor": 0,
              "model_id": "7dbd9b15095045f89b79099708a9a7c8"
            }
          },
          "metadata": {}
        },
        {
          "output_type": "stream",
          "name": "stderr",
          "text": [
            "/usr/local/lib/python3.8/dist-packages/pyriemann/datasets/sampling.py:363: UserWarning: Some of the sampled matrices are very badly conditioned and                may not behave numerically as a SPD matrix. Try sampling again                or reducing the dimensionality of the matrix.\n",
            "  warnings.warn(msg)\n",
            "/usr/local/lib/python3.8/dist-packages/ot/lp/__init__.py:547: UserWarning: Problem infeasible. Check that a and b are in the simplex\n",
            "  check_result(result_code)\n"
          ]
        }
      ]
    },
    {
      "cell_type": "code",
      "source": [
        "plt.figure(figsize=(6,3))\n",
        "\n",
        "m = np.mean(L_sw_gaussians, axis=0)\n",
        "s = np.std(L_sw_gaussians, axis=0)\n",
        "\n",
        "plt.plot(ts, m, label=r\"$SPDSW_2^2$\")\n",
        "plt.fill_between(ts, m-s, m+s, alpha=0.5)\n",
        "\n",
        "\n",
        "m = np.mean(L_sw_diag_gaussians, axis=0)\n",
        "s = np.std(L_sw_diag_gaussians, axis=0)\n",
        "\n",
        "plt.plot(ts, m, label=r\"Diag $SPDSW_2^2$\")\n",
        "plt.fill_between(ts, m-s, m+s, alpha=0.5)\n",
        "\n",
        "\n",
        "m = np.mean(L_w_ai_gaussians/2, axis=0)\n",
        "s = np.std(L_w_ai_gaussians/2, axis=0)\n",
        "\n",
        "plt.plot(ts, m, label=r\"$\\frac{1}{2} AIW_2^2$\")\n",
        "plt.fill_between(ts, m-s, m+s, alpha=0.5)\n",
        "\n",
        "m = np.mean(L_w_le_gaussians/2, axis=0)\n",
        "s = np.std(L_w_le_gaussians/2, axis=0)\n",
        "\n",
        "plt.plot(ts, m, label=r\"$\\frac{1}{2} LEW_2^2$\")\n",
        "plt.fill_between(ts, m-s, m+s, alpha=0.5)\n",
        "\n",
        "plt.xlabel(\"t\", fontsize=13)\n",
        "plt.legend(fontsize=13)\n",
        "plt.grid(True)\n",
        "# plt.savefig(\"./SW_vs_W_Gaussians_DONTCOMMUTE.pdf\", format=\"pdf\", bbox_inches=\"tight\")\n",
        "plt.show()"
      ],
      "metadata": {
        "colab": {
          "base_uri": "https://localhost:8080/",
          "height": 228
        },
        "id": "8lEuYOXYIMSo",
        "outputId": "35cdb9ba-5b09-42ce-9e5b-4d293fc63a07"
      },
      "execution_count": 17,
      "outputs": [
        {
          "output_type": "display_data",
          "data": {
            "text/plain": [
              "<Figure size 432x216 with 1 Axes>"
            ],
            "image/png": "[encoded data removed]"
          },
          "metadata": {
            "needs_background": "light"
          }
        }
      ]
    },
    {
      "cell_type": "code",
      "source": [],
      "metadata": {
        "id": "RXRmSw9-IO1a"
      },
      "execution_count": null,
      "outputs": []
    }
  ],
  "metadata": {
    "accelerator": "GPU",
    "colab": {
      "provenance": []
    },
    "gpuClass": "standard",
    "kernelspec": {
      "display_name": "Python 3",
      "language": "python",
      "name": "python3"
    },
    "language_info": {
      "codemirror_mode": {
        "name": "ipython",
        "version": 3
      },
      "file_extension": ".py",
      "mimetype": "text/x-python",
      "name": "python",
      "nbconvert_exporter": "python",
      "pygments_lexer": "ipython3",
      "version": "3.7.9"
    },
    "toc": {
      "base_numbering": 1,
      "nav_menu": {},
      "number_sections": true,
      "sideBar": true,
      "skip_h1_title": false,
      "title_cell": "Table of Contents",
      "title_sidebar": "Contents",
      "toc_cell": false,
      "toc_position": {},
      "toc_section_display": true,
      "toc_window_display": true
    },
    "widgets": {
      "application/vnd.jupyter.widget-state+json": {
        "cc20cb4a14174dc988f6cef9edfe461d": {
          "model_module": "@jupyter-widgets/controls",
          "model_name": "HBoxModel",
          "model_module_version": "1.5.0",
          "state": {
            "_dom_classes": [],
            "_model_module": "@jupyter-widgets/controls",
            "_model_module_version": "1.5.0",
            "_model_name": "HBoxModel",
            "_view_count": null,
            "_view_module": "@jupyter-widgets/controls",
            "_view_module_version": "1.5.0",
            "_view_name": "HBoxView",
            "box_style": "",
            "children": [
              "IPY_MODEL_83203ce71d6844aa8acc0ad7aee887a2",
              "IPY_MODEL_e83345cfe8304a058df933d5b5cf60e3",
              "IPY_MODEL_2233e2d5cb8c4fe7971d7ec065873ec1"
            ],
            "layout": "IPY_MODEL_164111c3d3854599a351ae909953a701"
          }
        },
        "83203ce71d6844aa8acc0ad7aee887a2": {
          "model_module": "@jupyter-widgets/controls",
          "model_name": "HTMLModel",
          "model_module_version": "1.5.0",
          "state": {
            "_dom_classes": [],
            "_model_module": "@jupyter-widgets/controls",
            "_model_module_version": "1.5.0",
            "_model_name": "HTMLModel",
            "_view_count": null,
            "_view_module": "@jupyter-widgets/controls",
            "_view_module_version": "1.5.0",
            "_view_name": "HTMLView",
            "description": "",
            "description_tooltip": null,
            "layout": "IPY_MODEL_254df5b5bf5c4592b2a28ae39e55c68b",
            "placeholder": "​",
            "style": "IPY_MODEL_df41fd6b8faf4fa2a6a5769a33ce83cd",
            "value": "100%"
          }
        },
        "e83345cfe8304a058df933d5b5cf60e3": {
          "model_module": "@jupyter-widgets/controls",
          "model_name": "FloatProgressModel",
          "model_module_version": "1.5.0",
          "state": {
            "_dom_classes": [],
            "_model_module": "@jupyter-widgets/controls",
            "_model_module_version": "1.5.0",
            "_model_name": "FloatProgressModel",
            "_view_count": null,
            "_view_module": "@jupyter-widgets/controls",
            "_view_module_version": "1.5.0",
            "_view_name": "ProgressView",
            "bar_style": "success",
            "description": "",
            "description_tooltip": null,
            "layout": "IPY_MODEL_859cee3396df4997a9ea961274d78b02",
            "max": 20,
            "min": 0,
            "orientation": "horizontal",
            "style": "IPY_MODEL_2c1cdfea0d6041428c0b9a85865b1ead",
            "value": 20
          }
        },
        "2233e2d5cb8c4fe7971d7ec065873ec1": {
          "model_module": "@jupyter-widgets/controls",
          "model_name": "HTMLModel",
          "model_module_version": "1.5.0",
          "state": {
            "_dom_classes": [],
            "_model_module": "@jupyter-widgets/controls",
            "_model_module_version": "1.5.0",
            "_model_name": "HTMLModel",
            "_view_count": null,
            "_view_module": "@jupyter-widgets/controls",
            "_view_module_version": "1.5.0",
            "_view_name": "HTMLView",
            "description": "",
            "description_tooltip": null,
            "layout": "IPY_MODEL_80e82e12528b47f7b5d14af0584c9830",
            "placeholder": "​",
            "style": "IPY_MODEL_a34f33ddcb09440299a7c7366ea51464",
            "value": " 20/20 [08:11&lt;00:00, 24.12s/it]"
          }
        },
        "164111c3d3854599a351ae909953a701": {
          "model_module": "@jupyter-widgets/base",
          "model_name": "LayoutModel",
          "model_module_version": "1.2.0",
          "state": {
            "_model_module": "@jupyter-widgets/base",
            "_model_module_version": "1.2.0",
            "_model_name": "LayoutModel",
            "_view_count": null,
            "_view_module": "@jupyter-widgets/base",
            "_view_module_version": "1.2.0",
            "_view_name": "LayoutView",
            "align_content": null,
            "align_items": null,
            "align_self": null,
            "border": null,
            "bottom": null,
            "display": null,
            "flex": null,
            "flex_flow": null,
            "grid_area": null,
            "grid_auto_columns": null,
            "grid_auto_flow": null,
            "grid_auto_rows": null,
            "grid_column": null,
            "grid_gap": null,
            "grid_row": null,
            "grid_template_areas": null,
            "grid_template_columns": null,
            "grid_template_rows": null,
            "height": null,
            "justify_content": null,
            "justify_items": null,
            "left": null,
            "margin": null,
            "max_height": null,
            "max_width": null,
            "min_height": null,
            "min_width": null,
            "object_fit": null,
            "object_position": null,
            "order": null,
            "overflow": null,
            "overflow_x": null,
            "overflow_y": null,
            "padding": null,
            "right": null,
            "top": null,
            "visibility": null,
            "width": null
          }
        },
        "254df5b5bf5c4592b2a28ae39e55c68b": {
          "model_module": "@jupyter-widgets/base",
          "model_name": "LayoutModel",
          "model_module_version": "1.2.0",
          "state": {
            "_model_module": "@jupyter-widgets/base",
            "_model_module_version": "1.2.0",
            "_model_name": "LayoutModel",
            "_view_count": null,
            "_view_module": "@jupyter-widgets/base",
            "_view_module_version": "1.2.0",
            "_view_name": "LayoutView",
            "align_content": null,
            "align_items": null,
            "align_self": null,
            "border": null,
            "bottom": null,
            "display": null,
            "flex": null,
            "flex_flow": null,
            "grid_area": null,
            "grid_auto_columns": null,
            "grid_auto_flow": null,
            "grid_auto_rows": null,
            "grid_column": null,
            "grid_gap": null,
            "grid_row": null,
            "grid_template_areas": null,
            "grid_template_columns": null,
            "grid_template_rows": null,
            "height": null,
            "justify_content": null,
            "justify_items": null,
            "left": null,
            "margin": null,
            "max_height": null,
            "max_width": null,
            "min_height": null,
            "min_width": null,
            "object_fit": null,
            "object_position": null,
            "order": null,
            "overflow": null,
            "overflow_x": null,
            "overflow_y": null,
            "padding": null,
            "right": null,
            "top": null,
            "visibility": null,
            "width": null
          }
        },
        "df41fd6b8faf4fa2a6a5769a33ce83cd": {
          "model_module": "@jupyter-widgets/controls",
          "model_name": "DescriptionStyleModel",
          "model_module_version": "1.5.0",
          "state": {
            "_model_module": "@jupyter-widgets/controls",
            "_model_module_version": "1.5.0",
            "_model_name": "DescriptionStyleModel",
            "_view_count": null,
            "_view_module": "@jupyter-widgets/base",
            "_view_module_version": "1.2.0",
            "_view_name": "StyleView",
            "description_width": ""
          }
        },
        "859cee3396df4997a9ea961274d78b02": {
          "model_module": "@jupyter-widgets/base",
          "model_name": "LayoutModel",
          "model_module_version": "1.2.0",
          "state": {
            "_model_module": "@jupyter-widgets/base",
            "_model_module_version": "1.2.0",
            "_model_name": "LayoutModel",
            "_view_count": null,
            "_view_module": "@jupyter-widgets/base",
            "_view_module_version": "1.2.0",
            "_view_name": "LayoutView",
            "align_content": null,
            "align_items": null,
            "align_self": null,
            "border": null,
            "bottom": null,
            "display": null,
            "flex": null,
            "flex_flow": null,
            "grid_area": null,
            "grid_auto_columns": null,
            "grid_auto_flow": null,
            "grid_auto_rows": null,
            "grid_column": null,
            "grid_gap": null,
            "grid_row": null,
            "grid_template_areas": null,
            "grid_template_columns": null,
            "grid_template_rows": null,
            "height": null,
            "justify_content": null,
            "justify_items": null,
            "left": null,
            "margin": null,
            "max_height": null,
            "max_width": null,
            "min_height": null,
            "min_width": null,
            "object_fit": null,
            "object_position": null,
            "order": null,
            "overflow": null,
            "overflow_x": null,
            "overflow_y": null,
            "padding": null,
            "right": null,
            "top": null,
            "visibility": null,
            "width": null
          }
        },
        "2c1cdfea0d6041428c0b9a85865b1ead": {
          "model_module": "@jupyter-widgets/controls",
          "model_name": "ProgressStyleModel",
          "model_module_version": "1.5.0",
          "state": {
            "_model_module": "@jupyter-widgets/controls",
            "_model_module_version": "1.5.0",
            "_model_name": "ProgressStyleModel",
            "_view_count": null,
            "_view_module": "@jupyter-widgets/base",
            "_view_module_version": "1.2.0",
            "_view_name": "StyleView",
            "bar_color": null,
            "description_width": ""
          }
        },
        "80e82e12528b47f7b5d14af0584c9830": {
          "model_module": "@jupyter-widgets/base",
          "model_name": "LayoutModel",
          "model_module_version": "1.2.0",
          "state": {
            "_model_module": "@jupyter-widgets/base",
            "_model_module_version": "1.2.0",
            "_model_name": "LayoutModel",
            "_view_count": null,
            "_view_module": "@jupyter-widgets/base",
            "_view_module_version": "1.2.0",
            "_view_name": "LayoutView",
            "align_content": null,
            "align_items": null,
            "align_self": null,
            "border": null,
            "bottom": null,
            "display": null,
            "flex": null,
            "flex_flow": null,
            "grid_area": null,
            "grid_auto_columns": null,
            "grid_auto_flow": null,
            "grid_auto_rows": null,
            "grid_column": null,
            "grid_gap": null,
            "grid_row": null,
            "grid_template_areas": null,
            "grid_template_columns": null,
            "grid_template_rows": null,
            "height": null,
            "justify_content": null,
            "justify_items": null,
            "left": null,
            "margin": null,
            "max_height": null,
            "max_width": null,
            "min_height": null,
            "min_width": null,
            "object_fit": null,
            "object_position": null,
            "order": null,
            "overflow": null,
            "overflow_x": null,
            "overflow_y": null,
            "padding": null,
            "right": null,
            "top": null,
            "visibility": null,
            "width": null
          }
        },
        "a34f33ddcb09440299a7c7366ea51464": {
          "model_module": "@jupyter-widgets/controls",
          "model_name": "DescriptionStyleModel",
          "model_module_version": "1.5.0",
          "state": {
            "_model_module": "@jupyter-widgets/controls",
            "_model_module_version": "1.5.0",
            "_model_name": "DescriptionStyleModel",
            "_view_count": null,
            "_view_module": "@jupyter-widgets/base",
            "_view_module_version": "1.2.0",
            "_view_name": "StyleView",
            "description_width": ""
          }
        },
        "ae365eaf70b4478fb2c0cc7abf364510": {
          "model_module": "@jupyter-widgets/controls",
          "model_name": "HBoxModel",
          "model_module_version": "1.5.0",
          "state": {
            "_dom_classes": [],
            "_model_module": "@jupyter-widgets/controls",
            "_model_module_version": "1.5.0",
            "_model_name": "HBoxModel",
            "_view_count": null,
            "_view_module": "@jupyter-widgets/controls",
            "_view_module_version": "1.5.0",
            "_view_name": "HBoxView",
            "box_style": "",
            "children": [
              "IPY_MODEL_5d4cc6a2daaf4c15b1ea39a8e4fbb5a2",
              "IPY_MODEL_6eff86458a2643d19487c7fbeee61c85",
              "IPY_MODEL_9e1f5ebc472f48ecb3932561d09692d0"
            ],
            "layout": "IPY_MODEL_4a5d882e81aa48d58f982581516f09e6"
          }
        },
        "5d4cc6a2daaf4c15b1ea39a8e4fbb5a2": {
          "model_module": "@jupyter-widgets/controls",
          "model_name": "HTMLModel",
          "model_module_version": "1.5.0",
          "state": {
            "_dom_classes": [],
            "_model_module": "@jupyter-widgets/controls",
            "_model_module_version": "1.5.0",
            "_model_name": "HTMLModel",
            "_view_count": null,
            "_view_module": "@jupyter-widgets/controls",
            "_view_module_version": "1.5.0",
            "_view_name": "HTMLView",
            "description": "",
            "description_tooltip": null,
            "layout": "IPY_MODEL_a7b66b81fa354439b23233200de452f4",
            "placeholder": "​",
            "style": "IPY_MODEL_4dcd9b725c0640b5afbe183f1522fa7c",
            "value": "100%"
          }
        },
        "6eff86458a2643d19487c7fbeee61c85": {
          "model_module": "@jupyter-widgets/controls",
          "model_name": "FloatProgressModel",
          "model_module_version": "1.5.0",
          "state": {
            "_dom_classes": [],
            "_model_module": "@jupyter-widgets/controls",
            "_model_module_version": "1.5.0",
            "_model_name": "FloatProgressModel",
            "_view_count": null,
            "_view_module": "@jupyter-widgets/controls",
            "_view_module_version": "1.5.0",
            "_view_name": "ProgressView",
            "bar_style": "success",
            "description": "",
            "description_tooltip": null,
            "layout": "IPY_MODEL_816b946c89d54aca8e4bcf24b8e4d16b",
            "max": 10,
            "min": 0,
            "orientation": "horizontal",
            "style": "IPY_MODEL_4852fc03a48748f9bd8fde39b3cb4363",
            "value": 10
          }
        },
        "9e1f5ebc472f48ecb3932561d09692d0": {
          "model_module": "@jupyter-widgets/controls",
          "model_name": "HTMLModel",
          "model_module_version": "1.5.0",
          "state": {
            "_dom_classes": [],
            "_model_module": "@jupyter-widgets/controls",
            "_model_module_version": "1.5.0",
            "_model_name": "HTMLModel",
            "_view_count": null,
            "_view_module": "@jupyter-widgets/controls",
            "_view_module_version": "1.5.0",
            "_view_name": "HTMLView",
            "description": "",
            "description_tooltip": null,
            "layout": "IPY_MODEL_c7b59b0de1784ab7b755b1ec589fabfe",
            "placeholder": "​",
            "style": "IPY_MODEL_a244a6a197bd48e3a159e64de86f61ce",
            "value": " 10/10 [39:01&lt;00:00, 233.22s/it]"
          }
        },
        "4a5d882e81aa48d58f982581516f09e6": {
          "model_module": "@jupyter-widgets/base",
          "model_name": "LayoutModel",
          "model_module_version": "1.2.0",
          "state": {
            "_model_module": "@jupyter-widgets/base",
            "_model_module_version": "1.2.0",
            "_model_name": "LayoutModel",
            "_view_count": null,
            "_view_module": "@jupyter-widgets/base",
            "_view_module_version": "1.2.0",
            "_view_name": "LayoutView",
            "align_content": null,
            "align_items": null,
            "align_self": null,
            "border": null,
            "bottom": null,
            "display": null,
            "flex": null,
            "flex_flow": null,
            "grid_area": null,
            "grid_auto_columns": null,
            "grid_auto_flow": null,
            "grid_auto_rows": null,
            "grid_column": null,
            "grid_gap": null,
            "grid_row": null,
            "grid_template_areas": null,
            "grid_template_columns": null,
            "grid_template_rows": null,
            "height": null,
            "justify_content": null,
            "justify_items": null,
            "left": null,
            "margin": null,
            "max_height": null,
            "max_width": null,
            "min_height": null,
            "min_width": null,
            "object_fit": null,
            "object_position": null,
            "order": null,
            "overflow": null,
            "overflow_x": null,
            "overflow_y": null,
            "padding": null,
            "right": null,
            "top": null,
            "visibility": null,
            "width": null
          }
        },
        "a7b66b81fa354439b23233200de452f4": {
          "model_module": "@jupyter-widgets/base",
          "model_name": "LayoutModel",
          "model_module_version": "1.2.0",
          "state": {
            "_model_module": "@jupyter-widgets/base",
            "_model_module_version": "1.2.0",
            "_model_name": "LayoutModel",
            "_view_count": null,
            "_view_module": "@jupyter-widgets/base",
            "_view_module_version": "1.2.0",
            "_view_name": "LayoutView",
            "align_content": null,
            "align_items": null,
            "align_self": null,
            "border": null,
            "bottom": null,
            "display": null,
            "flex": null,
            "flex_flow": null,
            "grid_area": null,
            "grid_auto_columns": null,
            "grid_auto_flow": null,
            "grid_auto_rows": null,
            "grid_column": null,
            "grid_gap": null,
            "grid_row": null,
            "grid_template_areas": null,
            "grid_template_columns": null,
            "grid_template_rows": null,
            "height": null,
            "justify_content": null,
            "justify_items": null,
            "left": null,
            "margin": null,
            "max_height": null,
            "max_width": null,
            "min_height": null,
            "min_width": null,
            "object_fit": null,
            "object_position": null,
            "order": null,
            "overflow": null,
            "overflow_x": null,
            "overflow_y": null,
            "padding": null,
            "right": null,
            "top": null,
            "visibility": null,
            "width": null
          }
        },
        "4dcd9b725c0640b5afbe183f1522fa7c": {
          "model_module": "@jupyter-widgets/controls",
          "model_name": "DescriptionStyleModel",
          "model_module_version": "1.5.0",
          "state": {
            "_model_module": "@jupyter-widgets/controls",
            "_model_module_version": "1.5.0",
            "_model_name": "DescriptionStyleModel",
            "_view_count": null,
            "_view_module": "@jupyter-widgets/base",
            "_view_module_version": "1.2.0",
            "_view_name": "StyleView",
            "description_width": ""
          }
        },
        "816b946c89d54aca8e4bcf24b8e4d16b": {
          "model_module": "@jupyter-widgets/base",
          "model_name": "LayoutModel",
          "model_module_version": "1.2.0",
          "state": {
            "_model_module": "@jupyter-widgets/base",
            "_model_module_version": "1.2.0",
            "_model_name": "LayoutModel",
            "_view_count": null,
            "_view_module": "@jupyter-widgets/base",
            "_view_module_version": "1.2.0",
            "_view_name": "LayoutView",
            "align_content": null,
            "align_items": null,
            "align_self": null,
            "border": null,
            "bottom": null,
            "display": null,
            "flex": null,
            "flex_flow": null,
            "grid_area": null,
            "grid_auto_columns": null,
            "grid_auto_flow": null,
            "grid_auto_rows": null,
            "grid_column": null,
            "grid_gap": null,
            "grid_row": null,
            "grid_template_areas": null,
            "grid_template_columns": null,
            "grid_template_rows": null,
            "height": null,
            "justify_content": null,
            "justify_items": null,
            "left": null,
            "margin": null,
            "max_height": null,
            "max_width": null,
            "min_height": null,
            "min_width": null,
            "object_fit": null,
            "object_position": null,
            "order": null,
            "overflow": null,
            "overflow_x": null,
            "overflow_y": null,
            "padding": null,
            "right": null,
            "top": null,
            "visibility": null,
            "width": null
          }
        },
        "4852fc03a48748f9bd8fde39b3cb4363": {
          "model_module": "@jupyter-widgets/controls",
          "model_name": "ProgressStyleModel",
          "model_module_version": "1.5.0",
          "state": {
            "_model_module": "@jupyter-widgets/controls",
            "_model_module_version": "1.5.0",
            "_model_name": "ProgressStyleModel",
            "_view_count": null,
            "_view_module": "@jupyter-widgets/base",
            "_view_module_version": "1.2.0",
            "_view_name": "StyleView",
            "bar_color": null,
            "description_width": ""
          }
        },
        "c7b59b0de1784ab7b755b1ec589fabfe": {
          "model_module": "@jupyter-widgets/base",
          "model_name": "LayoutModel",
          "model_module_version": "1.2.0",
          "state": {
            "_model_module": "@jupyter-widgets/base",
            "_model_module_version": "1.2.0",
            "_model_name": "LayoutModel",
            "_view_count": null,
            "_view_module": "@jupyter-widgets/base",
            "_view_module_version": "1.2.0",
            "_view_name": "LayoutView",
            "align_content": null,
            "align_items": null,
            "align_self": null,
            "border": null,
            "bottom": null,
            "display": null,
            "flex": null,
            "flex_flow": null,
            "grid_area": null,
            "grid_auto_columns": null,
            "grid_auto_flow": null,
            "grid_auto_rows": null,
            "grid_column": null,
            "grid_gap": null,
            "grid_row": null,
            "grid_template_areas": null,
            "grid_template_columns": null,
            "grid_template_rows": null,
            "height": null,
            "justify_content": null,
            "justify_items": null,
            "left": null,
            "margin": null,
            "max_height": null,
            "max_width": null,
            "min_height": null,
            "min_width": null,
            "object_fit": null,
            "object_position": null,
            "order": null,
            "overflow": null,
            "overflow_x": null,
            "overflow_y": null,
            "padding": null,
            "right": null,
            "top": null,
            "visibility": null,
            "width": null
          }
        },
        "a244a6a197bd48e3a159e64de86f61ce": {
          "model_module": "@jupyter-widgets/controls",
          "model_name": "DescriptionStyleModel",
          "model_module_version": "1.5.0",
          "state": {
            "_model_module": "@jupyter-widgets/controls",
            "_model_module_version": "1.5.0",
            "_model_name": "DescriptionStyleModel",
            "_view_count": null,
            "_view_module": "@jupyter-widgets/base",
            "_view_module_version": "1.2.0",
            "_view_name": "StyleView",
            "description_width": ""
          }
        },
        "b72d59e8c8c44135a25c625eda3e76dd": {
          "model_module": "@jupyter-widgets/controls",
          "model_name": "HBoxModel",
          "model_module_version": "1.5.0",
          "state": {
            "_dom_classes": [],
            "_model_module": "@jupyter-widgets/controls",
            "_model_module_version": "1.5.0",
            "_model_name": "HBoxModel",
            "_view_count": null,
            "_view_module": "@jupyter-widgets/controls",
            "_view_module_version": "1.5.0",
            "_view_name": "HBoxView",
            "box_style": "",
            "children": [
              "IPY_MODEL_a7aad04dba504f37883503130e8e49fc",
              "IPY_MODEL_f1f472f0048541748b682df2f9613714",
              "IPY_MODEL_b469eca55d414572aedfa3b669058683"
            ],
            "layout": "IPY_MODEL_37bae0dacf764627acf94105f433cd95"
          }
        },
        "a7aad04dba504f37883503130e8e49fc": {
          "model_module": "@jupyter-widgets/controls",
          "model_name": "HTMLModel",
          "model_module_version": "1.5.0",
          "state": {
            "_dom_classes": [],
            "_model_module": "@jupyter-widgets/controls",
            "_model_module_version": "1.5.0",
            "_model_name": "HTMLModel",
            "_view_count": null,
            "_view_module": "@jupyter-widgets/controls",
            "_view_module_version": "1.5.0",
            "_view_name": "HTMLView",
            "description": "",
            "description_tooltip": null,
            "layout": "IPY_MODEL_3357cdd25c5f4c368a4a138f747955b9",
            "placeholder": "​",
            "style": "IPY_MODEL_95349c72871443b3ac306d95d8d7feb8",
            "value": "100%"
          }
        },
        "f1f472f0048541748b682df2f9613714": {
          "model_module": "@jupyter-widgets/controls",
          "model_name": "FloatProgressModel",
          "model_module_version": "1.5.0",
          "state": {
            "_dom_classes": [],
            "_model_module": "@jupyter-widgets/controls",
            "_model_module_version": "1.5.0",
            "_model_name": "FloatProgressModel",
            "_view_count": null,
            "_view_module": "@jupyter-widgets/controls",
            "_view_module_version": "1.5.0",
            "_view_name": "ProgressView",
            "bar_style": "success",
            "description": "",
            "description_tooltip": null,
            "layout": "IPY_MODEL_97fb984fa6ab4fd285df60b758345935",
            "max": 10,
            "min": 0,
            "orientation": "horizontal",
            "style": "IPY_MODEL_1db99813ace045eb878d91ded368b523",
            "value": 10
          }
        },
        "b469eca55d414572aedfa3b669058683": {
          "model_module": "@jupyter-widgets/controls",
          "model_name": "HTMLModel",
          "model_module_version": "1.5.0",
          "state": {
            "_dom_classes": [],
            "_model_module": "@jupyter-widgets/controls",
            "_model_module_version": "1.5.0",
            "_model_name": "HTMLModel",
            "_view_count": null,
            "_view_module": "@jupyter-widgets/controls",
            "_view_module_version": "1.5.0",
            "_view_name": "HTMLView",
            "description": "",
            "description_tooltip": null,
            "layout": "IPY_MODEL_2137f92573fb45a98c41d4b8989f7fb9",
            "placeholder": "​",
            "style": "IPY_MODEL_11bd766504e141a2abe1183efd7c8911",
            "value": " 10/10 [1:15:10&lt;00:00, 443.19s/it]"
          }
        },
        "37bae0dacf764627acf94105f433cd95": {
          "model_module": "@jupyter-widgets/base",
          "model_name": "LayoutModel",
          "model_module_version": "1.2.0",
          "state": {
            "_model_module": "@jupyter-widgets/base",
            "_model_module_version": "1.2.0",
            "_model_name": "LayoutModel",
            "_view_count": null,
            "_view_module": "@jupyter-widgets/base",
            "_view_module_version": "1.2.0",
            "_view_name": "LayoutView",
            "align_content": null,
            "align_items": null,
            "align_self": null,
            "border": null,
            "bottom": null,
            "display": null,
            "flex": null,
            "flex_flow": null,
            "grid_area": null,
            "grid_auto_columns": null,
            "grid_auto_flow": null,
            "grid_auto_rows": null,
            "grid_column": null,
            "grid_gap": null,
            "grid_row": null,
            "grid_template_areas": null,
            "grid_template_columns": null,
            "grid_template_rows": null,
            "height": null,
            "justify_content": null,
            "justify_items": null,
            "left": null,
            "margin": null,
            "max_height": null,
            "max_width": null,
            "min_height": null,
            "min_width": null,
            "object_fit": null,
            "object_position": null,
            "order": null,
            "overflow": null,
            "overflow_x": null,
            "overflow_y": null,
            "padding": null,
            "right": null,
            "top": null,
            "visibility": null,
            "width": null
          }
        },
        "3357cdd25c5f4c368a4a138f747955b9": {
          "model_module": "@jupyter-widgets/base",
          "model_name": "LayoutModel",
          "model_module_version": "1.2.0",
          "state": {
            "_model_module": "@jupyter-widgets/base",
            "_model_module_version": "1.2.0",
            "_model_name": "LayoutModel",
            "_view_count": null,
            "_view_module": "@jupyter-widgets/base",
            "_view_module_version": "1.2.0",
            "_view_name": "LayoutView",
            "align_content": null,
            "align_items": null,
            "align_self": null,
            "border": null,
            "bottom": null,
            "display": null,
            "flex": null,
            "flex_flow": null,
            "grid_area": null,
            "grid_auto_columns": null,
            "grid_auto_flow": null,
            "grid_auto_rows": null,
            "grid_column": null,
            "grid_gap": null,
            "grid_row": null,
            "grid_template_areas": null,
            "grid_template_columns": null,
            "grid_template_rows": null,
            "height": null,
            "justify_content": null,
            "justify_items": null,
            "left": null,
            "margin": null,
            "max_height": null,
            "max_width": null,
            "min_height": null,
            "min_width": null,
            "object_fit": null,
            "object_position": null,
            "order": null,
            "overflow": null,
            "overflow_x": null,
            "overflow_y": null,
            "padding": null,
            "right": null,
            "top": null,
            "visibility": null,
            "width": null
          }
        },
        "95349c72871443b3ac306d95d8d7feb8": {
          "model_module": "@jupyter-widgets/controls",
          "model_name": "DescriptionStyleModel",
          "model_module_version": "1.5.0",
          "state": {
            "_model_module": "@jupyter-widgets/controls",
            "_model_module_version": "1.5.0",
            "_model_name": "DescriptionStyleModel",
            "_view_count": null,
            "_view_module": "@jupyter-widgets/base",
            "_view_module_version": "1.2.0",
            "_view_name": "StyleView",
            "description_width": ""
          }
        },
        "97fb984fa6ab4fd285df60b758345935": {
          "model_module": "@jupyter-widgets/base",
          "model_name": "LayoutModel",
          "model_module_version": "1.2.0",
          "state": {
            "_model_module": "@jupyter-widgets/base",
            "_model_module_version": "1.2.0",
            "_model_name": "LayoutModel",
            "_view_count": null,
            "_view_module": "@jupyter-widgets/base",
            "_view_module_version": "1.2.0",
            "_view_name": "LayoutView",
            "align_content": null,
            "align_items": null,
            "align_self": null,
            "border": null,
            "bottom": null,
            "display": null,
            "flex": null,
            "flex_flow": null,
            "grid_area": null,
            "grid_auto_columns": null,
            "grid_auto_flow": null,
            "grid_auto_rows": null,
            "grid_column": null,
            "grid_gap": null,
            "grid_row": null,
            "grid_template_areas": null,
            "grid_template_columns": null,
            "grid_template_rows": null,
            "height": null,
            "justify_content": null,
            "justify_items": null,
            "left": null,
            "margin": null,
            "max_height": null,
            "max_width": null,
            "min_height": null,
            "min_width": null,
            "object_fit": null,
            "object_position": null,
            "order": null,
            "overflow": null,
            "overflow_x": null,
            "overflow_y": null,
            "padding": null,
            "right": null,
            "top": null,
            "visibility": null,
            "width": null
          }
        },
        "1db99813ace045eb878d91ded368b523": {
          "model_module": "@jupyter-widgets/controls",
          "model_name": "ProgressStyleModel",
          "model_module_version": "1.5.0",
          "state": {
            "_model_module": "@jupyter-widgets/controls",
            "_model_module_version": "1.5.0",
            "_model_name": "ProgressStyleModel",
            "_view_count": null,
            "_view_module": "@jupyter-widgets/base",
            "_view_module_version": "1.2.0",
            "_view_name": "StyleView",
            "bar_color": null,
            "description_width": ""
          }
        },
        "2137f92573fb45a98c41d4b8989f7fb9": {
          "model_module": "@jupyter-widgets/base",
          "model_name": "LayoutModel",
          "model_module_version": "1.2.0",
          "state": {
            "_model_module": "@jupyter-widgets/base",
            "_model_module_version": "1.2.0",
            "_model_name": "LayoutModel",
            "_view_count": null,
            "_view_module": "@jupyter-widgets/base",
            "_view_module_version": "1.2.0",
            "_view_name": "LayoutView",
            "align_content": null,
            "align_items": null,
            "align_self": null,
            "border": null,
            "bottom": null,
            "display": null,
            "flex": null,
            "flex_flow": null,
            "grid_area": null,
            "grid_auto_columns": null,
            "grid_auto_flow": null,
            "grid_auto_rows": null,
            "grid_column": null,
            "grid_gap": null,
            "grid_row": null,
            "grid_template_areas": null,
            "grid_template_columns": null,
            "grid_template_rows": null,
            "height": null,
            "justify_content": null,
            "justify_items": null,
            "left": null,
            "margin": null,
            "max_height": null,
            "max_width": null,
            "min_height": null,
            "min_width": null,
            "object_fit": null,
            "object_position": null,
            "order": null,
            "overflow": null,
            "overflow_x": null,
            "overflow_y": null,
            "padding": null,
            "right": null,
            "top": null,
            "visibility": null,
            "width": null
          }
        },
        "11bd766504e141a2abe1183efd7c8911": {
          "model_module": "@jupyter-widgets/controls",
          "model_name": "DescriptionStyleModel",
          "model_module_version": "1.5.0",
          "state": {
            "_model_module": "@jupyter-widgets/controls",
            "_model_module_version": "1.5.0",
            "_model_name": "DescriptionStyleModel",
            "_view_count": null,
            "_view_module": "@jupyter-widgets/base",
            "_view_module_version": "1.2.0",
            "_view_name": "StyleView",
            "description_width": ""
          }
        },
        "7dbd9b15095045f89b79099708a9a7c8": {
          "model_module": "@jupyter-widgets/controls",
          "model_name": "HBoxModel",
          "model_module_version": "1.5.0",
          "state": {
            "_dom_classes": [],
            "_model_module": "@jupyter-widgets/controls",
            "_model_module_version": "1.5.0",
            "_model_name": "HBoxModel",
            "_view_count": null,
            "_view_module": "@jupyter-widgets/controls",
            "_view_module_version": "1.5.0",
            "_view_name": "HBoxView",
            "box_style": "",
            "children": [
              "IPY_MODEL_ddf8890649e2472da91fa3379a852928",
              "IPY_MODEL_d9b9088cd8a24f7aaca3f780b0589b94",
              "IPY_MODEL_28f70d6d9785485c8e661acc64a9d2cb"
            ],
            "layout": "IPY_MODEL_c3079f5e1f174e3c98266c5885d0a569"
          }
        },
        "ddf8890649e2472da91fa3379a852928": {
          "model_module": "@jupyter-widgets/controls",
          "model_name": "HTMLModel",
          "model_module_version": "1.5.0",
          "state": {
            "_dom_classes": [],
            "_model_module": "@jupyter-widgets/controls",
            "_model_module_version": "1.5.0",
            "_model_name": "HTMLModel",
            "_view_count": null,
            "_view_module": "@jupyter-widgets/controls",
            "_view_module_version": "1.5.0",
            "_view_name": "HTMLView",
            "description": "",
            "description_tooltip": null,
            "layout": "IPY_MODEL_4175120d6f7c4f7ab4ca3b700f719fce",
            "placeholder": "​",
            "style": "IPY_MODEL_09c38bac9cc6475ab058912747bd6566",
            "value": "100%"
          }
        },
        "d9b9088cd8a24f7aaca3f780b0589b94": {
          "model_module": "@jupyter-widgets/controls",
          "model_name": "FloatProgressModel",
          "model_module_version": "1.5.0",
          "state": {
            "_dom_classes": [],
            "_model_module": "@jupyter-widgets/controls",
            "_model_module_version": "1.5.0",
            "_model_name": "FloatProgressModel",
            "_view_count": null,
            "_view_module": "@jupyter-widgets/controls",
            "_view_module_version": "1.5.0",
            "_view_name": "ProgressView",
            "bar_style": "success",
            "description": "",
            "description_tooltip": null,
            "layout": "IPY_MODEL_4a9a369966664a3a8bee16c54da50d0c",
            "max": 10,
            "min": 0,
            "orientation": "horizontal",
            "style": "IPY_MODEL_d62ecb075c5942cf9adcdc039eb2ec26",
            "value": 10
          }
        },
        "28f70d6d9785485c8e661acc64a9d2cb": {
          "model_module": "@jupyter-widgets/controls",
          "model_name": "HTMLModel",
          "model_module_version": "1.5.0",
          "state": {
            "_dom_classes": [],
            "_model_module": "@jupyter-widgets/controls",
            "_model_module_version": "1.5.0",
            "_model_name": "HTMLModel",
            "_view_count": null,
            "_view_module": "@jupyter-widgets/controls",
            "_view_module_version": "1.5.0",
            "_view_name": "HTMLView",
            "description": "",
            "description_tooltip": null,
            "layout": "IPY_MODEL_15cdd4148cd14b84aed6bdc36af49d42",
            "placeholder": "​",
            "style": "IPY_MODEL_0e01cff3ae4c4e30bdd431da5924bd37",
            "value": " 10/10 [37:28&lt;00:00, 223.98s/it]"
          }
        },
        "c3079f5e1f174e3c98266c5885d0a569": {
          "model_module": "@jupyter-widgets/base",
          "model_name": "LayoutModel",
          "model_module_version": "1.2.0",
          "state": {
            "_model_module": "@jupyter-widgets/base",
            "_model_module_version": "1.2.0",
            "_model_name": "LayoutModel",
            "_view_count": null,
            "_view_module": "@jupyter-widgets/base",
            "_view_module_version": "1.2.0",
            "_view_name": "LayoutView",
            "align_content": null,
            "align_items": null,
            "align_self": null,
            "border": null,
            "bottom": null,
            "display": null,
            "flex": null,
            "flex_flow": null,
            "grid_area": null,
            "grid_auto_columns": null,
            "grid_auto_flow": null,
            "grid_auto_rows": null,
            "grid_column": null,
            "grid_gap": null,
            "grid_row": null,
            "grid_template_areas": null,
            "grid_template_columns": null,
            "grid_template_rows": null,
            "height": null,
            "justify_content": null,
            "justify_items": null,
            "left": null,
            "margin": null,
            "max_height": null,
            "max_width": null,
            "min_height": null,
            "min_width": null,
            "object_fit": null,
            "object_position": null,
            "order": null,
            "overflow": null,
            "overflow_x": null,
            "overflow_y": null,
            "padding": null,
            "right": null,
            "top": null,
            "visibility": null,
            "width": null
          }
        },
        "4175120d6f7c4f7ab4ca3b700f719fce": {
          "model_module": "@jupyter-widgets/base",
          "model_name": "LayoutModel",
          "model_module_version": "1.2.0",
          "state": {
            "_model_module": "@jupyter-widgets/base",
            "_model_module_version": "1.2.0",
            "_model_name": "LayoutModel",
            "_view_count": null,
            "_view_module": "@jupyter-widgets/base",
            "_view_module_version": "1.2.0",
            "_view_name": "LayoutView",
            "align_content": null,
            "align_items": null,
            "align_self": null,
            "border": null,
            "bottom": null,
            "display": null,
            "flex": null,
            "flex_flow": null,
            "grid_area": null,
            "grid_auto_columns": null,
            "grid_auto_flow": null,
            "grid_auto_rows": null,
            "grid_column": null,
            "grid_gap": null,
            "grid_row": null,
            "grid_template_areas": null,
            "grid_template_columns": null,
            "grid_template_rows": null,
            "height": null,
            "justify_content": null,
            "justify_items": null,
            "left": null,
            "margin": null,
            "max_height": null,
            "max_width": null,
            "min_height": null,
            "min_width": null,
            "object_fit": null,
            "object_position": null,
            "order": null,
            "overflow": null,
            "overflow_x": null,
            "overflow_y": null,
            "padding": null,
            "right": null,
            "top": null,
            "visibility": null,
            "width": null
          }
        },
        "09c38bac9cc6475ab058912747bd6566": {
          "model_module": "@jupyter-widgets/controls",
          "model_name": "DescriptionStyleModel",
          "model_module_version": "1.5.0",
          "state": {
            "_model_module": "@jupyter-widgets/controls",
            "_model_module_version": "1.5.0",
            "_model_name": "DescriptionStyleModel",
            "_view_count": null,
            "_view_module": "@jupyter-widgets/base",
            "_view_module_version": "1.2.0",
            "_view_name": "StyleView",
            "description_width": ""
          }
        },
        "4a9a369966664a3a8bee16c54da50d0c": {
          "model_module": "@jupyter-widgets/base",
          "model_name": "LayoutModel",
          "model_module_version": "1.2.0",
          "state": {
            "_model_module": "@jupyter-widgets/base",
            "_model_module_version": "1.2.0",
            "_model_name": "LayoutModel",
            "_view_count": null,
            "_view_module": "@jupyter-widgets/base",
            "_view_module_version": "1.2.0",
            "_view_name": "LayoutView",
            "align_content": null,
            "align_items": null,
            "align_self": null,
            "border": null,
            "bottom": null,
            "display": null,
            "flex": null,
            "flex_flow": null,
            "grid_area": null,
            "grid_auto_columns": null,
            "grid_auto_flow": null,
            "grid_auto_rows": null,
            "grid_column": null,
            "grid_gap": null,
            "grid_row": null,
            "grid_template_areas": null,
            "grid_template_columns": null,
            "grid_template_rows": null,
            "height": null,
            "justify_content": null,
            "justify_items": null,
            "left": null,
            "margin": null,
            "max_height": null,
            "max_width": null,
            "min_height": null,
            "min_width": null,
            "object_fit": null,
            "object_position": null,
            "order": null,
            "overflow": null,
            "overflow_x": null,
            "overflow_y": null,
            "padding": null,
            "right": null,
            "top": null,
            "visibility": null,
            "width": null
          }
        },
        "d62ecb075c5942cf9adcdc039eb2ec26": {
          "model_module": "@jupyter-widgets/controls",
          "model_name": "ProgressStyleModel",
          "model_module_version": "1.5.0",
          "state": {
            "_model_module": "@jupyter-widgets/controls",
            "_model_module_version": "1.5.0",
            "_model_name": "ProgressStyleModel",
            "_view_count": null,
            "_view_module": "@jupyter-widgets/base",
            "_view_module_version": "1.2.0",
            "_view_name": "StyleView",
            "bar_color": null,
            "description_width": ""
          }
        },
        "15cdd4148cd14b84aed6bdc36af49d42": {
          "model_module": "@jupyter-widgets/base",
          "model_name": "LayoutModel",
          "model_module_version": "1.2.0",
          "state": {
            "_model_module": "@jupyter-widgets/base",
            "_model_module_version": "1.2.0",
            "_model_name": "LayoutModel",
            "_view_count": null,
            "_view_module": "@jupyter-widgets/base",
            "_view_module_version": "1.2.0",
            "_view_name": "LayoutView",
            "align_content": null,
            "align_items": null,
            "align_self": null,
            "border": null,
            "bottom": null,
            "display": null,
            "flex": null,
            "flex_flow": null,
            "grid_area": null,
            "grid_auto_columns": null,
            "grid_auto_flow": null,
            "grid_auto_rows": null,
            "grid_column": null,
            "grid_gap": null,
            "grid_row": null,
            "grid_template_areas": null,
            "grid_template_columns": null,
            "grid_template_rows": null,
            "height": null,
            "justify_content": null,
            "justify_items": null,
            "left": null,
            "margin": null,
            "max_height": null,
            "max_width": null,
            "min_height": null,
            "min_width": null,
            "object_fit": null,
            "object_position": null,
            "order": null,
            "overflow": null,
            "overflow_x": null,
            "overflow_y": null,
            "padding": null,
            "right": null,
            "top": null,
            "visibility": null,
            "width": null
          }
        },
        "0e01cff3ae4c4e30bdd431da5924bd37": {
          "model_module": "@jupyter-widgets/controls",
          "model_name": "DescriptionStyleModel",
          "model_module_version": "1.5.0",
          "state": {
            "_model_module": "@jupyter-widgets/controls",
            "_model_module_version": "1.5.0",
            "_model_name": "DescriptionStyleModel",
            "_view_count": null,
            "_view_module": "@jupyter-widgets/base",
            "_view_module_version": "1.2.0",
            "_view_name": "StyleView",
            "description_width": ""
          }
        }
      }
    }
  },
  "nbformat": 4,
  "nbformat_minor": 0
}