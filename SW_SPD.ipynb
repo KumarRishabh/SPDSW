{
  "cells": [
    {
      "cell_type": "code",
      "source": [
        "!pip install geoopt"
      ],
      "metadata": {
        "colab": {
          "base_uri": "https://localhost:8080/"
        },
        "id": "Lxcm4kgV-0Rt",
        "outputId": "f82a5c52-872b-46c9-ab17-956c1e7d647f"
      },
      "execution_count": 1,
      "outputs": [
        {
          "output_type": "stream",
          "name": "stdout",
          "text": [
            "Looking in indexes: https://pypi.org/simple, https://us-python.pkg.dev/colab-wheels/public/simple/\n",
            "Collecting geoopt\n",
            "  Downloading geoopt-0.5.0-py3-none-any.whl (90 kB)\n",
            "\u001b[?25l\r\u001b[K     |███▋                            | 10 kB 29.1 MB/s eta 0:00:01\r\u001b[K     |███████▎                        | 20 kB 15.9 MB/s eta 0:00:01\r\u001b[K     |███████████                     | 30 kB 21.4 MB/s eta 0:00:01\r\u001b[K     |██████████████▌                 | 40 kB 15.1 MB/s eta 0:00:01\r\u001b[K     |██████████████████▏             | 51 kB 13.2 MB/s eta 0:00:01\r\u001b[K     |█████████████████████▉          | 61 kB 15.4 MB/s eta 0:00:01\r\u001b[K     |█████████████████████████▌      | 71 kB 16.5 MB/s eta 0:00:01\r\u001b[K     |█████████████████████████████   | 81 kB 18.0 MB/s eta 0:00:01\r\u001b[K     |████████████████████████████████| 90 kB 7.2 MB/s \n",
            "\u001b[?25hRequirement already satisfied: numpy in /usr/local/lib/python3.7/dist-packages (from geoopt) (1.21.6)\n",
            "Requirement already satisfied: scipy in /usr/local/lib/python3.7/dist-packages (from geoopt) (1.7.3)\n",
            "Requirement already satisfied: torch>=1.9.0 in /usr/local/lib/python3.7/dist-packages (from geoopt) (1.12.1+cu113)\n",
            "Requirement already satisfied: typing-extensions in /usr/local/lib/python3.7/dist-packages (from torch>=1.9.0->geoopt) (4.1.1)\n",
            "Installing collected packages: geoopt\n",
            "Successfully installed geoopt-0.5.0\n"
          ]
        }
      ]
    },
    {
      "cell_type": "code",
      "execution_count": 3,
      "metadata": {
        "id": "8DktMM_Y-mqP"
      },
      "outputs": [],
      "source": [
        "import torch\n",
        "# import scipy.linalg\n",
        "import sys\n",
        "\n",
        "import numpy as np\n",
        "import matplotlib.pyplot as plt\n",
        "import torch.nn.functional as F\n",
        "import torch.distributions as D\n",
        "\n",
        "from tqdm.auto import trange\n",
        "from geoopt import linalg\n",
        "\n",
        "# sys.path.append(\"./lib\")\n",
        "from swspd import *\n",
        "from utils_spd import busemann_spd\n",
        "# from logm import logm"
      ]
    },
    {
      "cell_type": "code",
      "execution_count": 4,
      "metadata": {
        "id": "WX56t54f-mqd"
      },
      "outputs": [],
      "source": [
        "device = \"cuda\" if torch.cuda.is_available() else \"cpu\""
      ]
    },
    {
      "cell_type": "markdown",
      "metadata": {
        "id": "y_2VYR5x-mqf"
      },
      "source": [
        "### Busemann"
      ]
    },
    {
      "cell_type": "code",
      "execution_count": 5,
      "metadata": {
        "id": "qWIWqoLa-mql"
      },
      "outputs": [],
      "source": [
        "theta = torch.randn(1000, 2).to(device)\n",
        "theta = theta/torch.sqrt(torch.sum(theta**2, axis=-1))[:,None]\n",
        "A = theta[:,None] * torch.eye(theta.shape[-1], device=device)\n",
        "    \n",
        "## Preprocessing to compute the matrix product using a simple product\n",
        "diagA = torch.diagonal(A, dim1=-2, dim2=-1)\n",
        "dA = diagA.unsqueeze(-1)\n",
        "dA = dA.repeat(1,1,2)"
      ]
    },
    {
      "cell_type": "code",
      "execution_count": 8,
      "metadata": {
        "id": "ph8MzB_E-mqo"
      },
      "outputs": [],
      "source": [
        "M = torch.eye(2, device=device)\n",
        "M = M.reshape((1, 2, 2))\n",
        "M = M.repeat(10, 1, 1)\n",
        "\n",
        "## Compute logM in advance since we cannot batch it\n",
        "# log_M = torch.zeros(M.shape, device=device)\n",
        "# for k in range(len(log_M)):\n",
        "#     log_M[k] = logm(M[k])\n",
        "log_M = linalg.sym_logm(M)"
      ]
    },
    {
      "cell_type": "code",
      "execution_count": 9,
      "metadata": {
        "id": "TyZkG5H5-mqq"
      },
      "outputs": [],
      "source": [
        "b = busemann_spd(log_M, dA)"
      ]
    },
    {
      "cell_type": "code",
      "execution_count": 10,
      "metadata": {
        "colab": {
          "base_uri": "https://localhost:8080/"
        },
        "id": "g83j1b7W-mqs",
        "outputId": "82004351-7df0-43b4-da05-ce386e8ffb81"
      },
      "outputs": [
        {
          "output_type": "stream",
          "name": "stdout",
          "text": [
            "torch.Size([10, 2, 2]) torch.Size([1000, 2, 2])\n",
            "torch.Size([10, 1000])\n"
          ]
        }
      ],
      "source": [
        "print(log_M.shape, dA.shape)\n",
        "print(b.shape)"
      ]
    },
    {
      "cell_type": "code",
      "execution_count": 11,
      "metadata": {
        "colab": {
          "base_uri": "https://localhost:8080/"
        },
        "id": "eq960eZd-mqx",
        "outputId": "65fe08f4-4dfe-441b-b838-e50f2cbdb92d"
      },
      "outputs": [
        {
          "output_type": "execute_result",
          "data": {
            "text/plain": [
              "tensor([[-0., -0., -0.,  ..., -0., -0., -0.],\n",
              "        [-0., -0., -0.,  ..., -0., -0., -0.],\n",
              "        [-0., -0., -0.,  ..., -0., -0., -0.],\n",
              "        ...,\n",
              "        [-0., -0., -0.,  ..., -0., -0., -0.],\n",
              "        [-0., -0., -0.,  ..., -0., -0., -0.],\n",
              "        [-0., -0., -0.,  ..., -0., -0., -0.]], device='cuda:0')"
            ]
          },
          "metadata": {},
          "execution_count": 11
        }
      ],
      "source": [
        "b"
      ]
    },
    {
      "cell_type": "code",
      "execution_count": 11,
      "metadata": {
        "id": "Ln6lvaqQ-mq0"
      },
      "outputs": [],
      "source": []
    },
    {
      "cell_type": "code",
      "execution_count": 12,
      "metadata": {
        "id": "c6l48Rms-mq1"
      },
      "outputs": [],
      "source": [
        "ts = torch.linspace(-10,10,200).to(device)\n",
        "ts = ts.reshape(ts.shape[0],1,1)\n",
        "ts = ts.repeat(1,2,2)"
      ]
    },
    {
      "cell_type": "code",
      "execution_count": 13,
      "metadata": {
        "id": "g_FmTMqY-mq3"
      },
      "outputs": [],
      "source": [
        "theta = torch.randn(3, 2).to(device)\n",
        "theta = theta/torch.sqrt(torch.sum(theta**2, axis=-1))[:,None]\n",
        "A = theta[:,None] * torch.eye(theta.shape[-1], device=device)\n",
        "    \n",
        "## Preprocessing to compute the matrix product using a simple product\n",
        "diagA = torch.diagonal(A, dim1=-2, dim2=-1)\n",
        "dA = diagA.unsqueeze(-1)\n",
        "dA = dA.repeat(1,1,2)"
      ]
    },
    {
      "cell_type": "code",
      "execution_count": 14,
      "metadata": {
        "colab": {
          "base_uri": "https://localhost:8080/"
        },
        "id": "xPE2t_kO-mq5",
        "outputId": "d9db7d42-7984-4088-8a94-d23dfd79fdc7"
      },
      "outputs": [
        {
          "output_type": "stream",
          "name": "stderr",
          "text": [
            "/usr/local/lib/python3.7/dist-packages/ipykernel_launcher.py:1: UserWarning: An output with one or more elements was resized since it had shape [6, 2, 2], which does not match the required output shape [1, 6, 2, 2]. This behavior is deprecated, and in a future PyTorch release outputs will not be resized unless they have zero elements. You can explicitly reuse an out tensor t by resizing it, inplace, to zero elements with t.resize_(0). (Triggered internally at  ../aten/src/ATen/native/Resize.cpp:17.)\n",
            "  \"\"\"Entry point for launching an IPython kernel.\n",
            "/usr/local/lib/python3.7/dist-packages/ipykernel_launcher.py:1: UserWarning: An output with one or more elements was resized since it had shape [32, 2, 2], which does not match the required output shape [1, 32, 2, 2]. This behavior is deprecated, and in a future PyTorch release outputs will not be resized unless they have zero elements. You can explicitly reuse an out tensor t by resizing it, inplace, to zero elements with t.resize_(0). (Triggered internally at  ../aten/src/ATen/native/Resize.cpp:17.)\n",
            "  \"\"\"Entry point for launching an IPython kernel.\n"
          ]
        }
      ],
      "source": [
        "M = torch.linalg.matrix_exp(ts[:,None]*A[None])"
      ]
    },
    {
      "cell_type": "code",
      "execution_count": 15,
      "metadata": {
        "colab": {
          "base_uri": "https://localhost:8080/"
        },
        "id": "ahujlo_Z-mq6",
        "outputId": "03092415-3405-4f97-bbb7-7bb6d3b0120b"
      },
      "outputs": [
        {
          "output_type": "stream",
          "name": "stdout",
          "text": [
            "torch.Size([200, 2, 2]) torch.Size([3, 2, 2]) torch.Size([200, 3, 2, 2])\n"
          ]
        }
      ],
      "source": [
        "print(ts.shape, A.shape, M.shape)"
      ]
    },
    {
      "cell_type": "code",
      "execution_count": 16,
      "metadata": {
        "id": "YL9I-pWb-mq8"
      },
      "outputs": [],
      "source": [
        "L = np.zeros((ts.shape[0],M.shape[1],A.shape[0]))\n",
        "\n",
        "for i, t in enumerate(ts):\n",
        "    # log_M = torch.zeros(M[i].shape, device=device)\n",
        "    # for k in range(len(log_M)):\n",
        "    #     log_M[k] = logm(M[i][k])\n",
        "    \n",
        "    log_M = linalg.sym_logm(M[i])\n",
        "    b = busemann_spd(log_M, dA)\n",
        "    L[i] = b.detach().cpu()"
      ]
    },
    {
      "cell_type": "code",
      "execution_count": 17,
      "metadata": {
        "colab": {
          "base_uri": "https://localhost:8080/",
          "height": 815
        },
        "id": "l5OatUBa-mq9",
        "outputId": "dccfbcf6-8350-4b77-d3b0-6853cd3804a6"
      },
      "outputs": [
        {
          "output_type": "display_data",
          "data": {
            "text/plain": [
              "<Figure size 432x288 with 1 Axes>"
            ],
            "image/png": "[encoded data removed]"
          },
          "metadata": {
            "needs_background": "light"
          }
        },
        {
          "output_type": "display_data",
          "data": {
            "text/plain": [
              "<Figure size 432x288 with 1 Axes>"
            ],
            "image/png": "[encoded data removed]"
          },
          "metadata": {
            "needs_background": "light"
          }
        },
        {
          "output_type": "display_data",
          "data": {
            "text/plain": [
              "<Figure size 432x288 with 1 Axes>"
            ],
            "image/png": "[encoded data removed]"
          },
          "metadata": {
            "needs_background": "light"
          }
        }
      ],
      "source": [
        "for i in range(A.shape[0]):\n",
        "    for k in range(3):\n",
        "        plt.plot(ts[:,0,0].cpu(), L[:,k,i], label=r\"$\\exp(t A_\"+str(k)+r\")$\")\n",
        "    plt.title(r\"In direction $A_\"+str(i)+r\"$\")\n",
        "    plt.legend()\n",
        "    plt.grid(True)\n",
        "    plt.show()"
      ]
    },
    {
      "cell_type": "code",
      "execution_count": 17,
      "metadata": {
        "id": "4bWzlqZ5-mq_"
      },
      "outputs": [],
      "source": []
    },
    {
      "cell_type": "markdown",
      "metadata": {
        "id": "gd5tvcI8-mq_"
      },
      "source": [
        "### Sliced-Wasserstein"
      ]
    },
    {
      "cell_type": "code",
      "execution_count": 18,
      "metadata": {
        "id": "bl00RMpe-mrB"
      },
      "outputs": [],
      "source": [
        "X0 = M[:,0]\n",
        "X1 = M[:,1]"
      ]
    },
    {
      "cell_type": "code",
      "execution_count": 19,
      "metadata": {
        "colab": {
          "base_uri": "https://localhost:8080/"
        },
        "id": "KRexP0v8-mrC",
        "outputId": "722fb2bc-e863-49a2-bd8d-86365bd8c01e"
      },
      "outputs": [
        {
          "output_type": "execute_result",
          "data": {
            "text/plain": [
              "3.1841461658477783"
            ]
          },
          "metadata": {},
          "execution_count": 19
        }
      ],
      "source": [
        "sw = sliced_wasserstein_spd(X0, X1, 500, device=device).item()\n",
        "sw"
      ]
    },
    {
      "cell_type": "code",
      "execution_count": 20,
      "metadata": {
        "colab": {
          "base_uri": "https://localhost:8080/"
        },
        "id": "c3lFbXpW-mrD",
        "outputId": "c28bae13-4e26-4ba3-db14-e6eebd26c9d0"
      },
      "outputs": [
        {
          "output_type": "execute_result",
          "data": {
            "text/plain": [
              "0.0"
            ]
          },
          "metadata": {},
          "execution_count": 20
        }
      ],
      "source": [
        "X0 = M[:,0]\n",
        "X1 = M[:,0]\n",
        "\n",
        "sw = sliced_wasserstein_spd(X0, X1, 500, device=device).item()\n",
        "sw"
      ]
    },
    {
      "cell_type": "markdown",
      "metadata": {
        "id": "t0dwcohk-mrE"
      },
      "source": [
        "#### Test Wishart Distribution"
      ]
    },
    {
      "cell_type": "code",
      "execution_count": 33,
      "metadata": {
        "id": "YPTT-IHE-mrF"
      },
      "outputs": [],
      "source": [
        "m0 = D.Wishart(torch.tensor([2], dtype=torch.float64).to(device), torch.eye(2, dtype=torch.float64, device=device))"
      ]
    },
    {
      "cell_type": "code",
      "execution_count": 34,
      "metadata": {
        "colab": {
          "base_uri": "https://localhost:8080/"
        },
        "id": "KT6Va6hE-mrF",
        "outputId": "8593fd37-61cb-4cb3-b40f-5782a703c20a"
      },
      "outputs": [
        {
          "output_type": "stream",
          "name": "stderr",
          "text": [
            "/usr/local/lib/python3.7/dist-packages/torch/distributions/wishart.py:247: UserWarning: Singular sample detected.\n",
            "  warnings.warn(\"Singular sample detected.\")\n"
          ]
        }
      ],
      "source": [
        "B0 = m0.sample((100,))[:,0]"
      ]
    },
    {
      "cell_type": "code",
      "execution_count": 35,
      "metadata": {
        "colab": {
          "base_uri": "https://localhost:8080/"
        },
        "id": "LXdOwXAY-mrH",
        "outputId": "28b02e77-743b-4f54-b7fd-bf920adff640"
      },
      "outputs": [
        {
          "output_type": "execute_result",
          "data": {
            "text/plain": [
              "torch.Size([100, 2, 2])"
            ]
          },
          "metadata": {},
          "execution_count": 35
        }
      ],
      "source": [
        "B0.shape"
      ]
    },
    {
      "cell_type": "code",
      "execution_count": 36,
      "metadata": {
        "colab": {
          "base_uri": "https://localhost:8080/"
        },
        "id": "EtqDVEyI-mrI",
        "outputId": "d3da0e43-9e9e-46c1-cdb2-2f67629a4478"
      },
      "outputs": [
        {
          "output_type": "execute_result",
          "data": {
            "text/plain": [
              "7.876422655950246"
            ]
          },
          "metadata": {},
          "execution_count": 36
        }
      ],
      "source": [
        "sw = sliced_wasserstein_spd(X0, B0, 500, device=device).item()\n",
        "sw"
      ]
    },
    {
      "cell_type": "code",
      "execution_count": 36,
      "metadata": {
        "id": "q1XOlT4a-mrJ"
      },
      "outputs": [],
      "source": []
    },
    {
      "cell_type": "code",
      "execution_count": 38,
      "metadata": {
        "scrolled": true,
        "colab": {
          "base_uri": "https://localhost:8080/",
          "height": 84,
          "referenced_widgets": [
            "3d99f4ed6a454e9f8f1971a76a72bb81",
            "115c99b437b041e0b7b98a7bfbefcfa8",
            "82063e1668054766b91d9c76f2f3cdcb",
            "3293079260a04359b7f5259955a3a63c",
            "0933153479784a0a8d2b7359e0048704",
            "1c1ac301a31241ed8254eeda82699e32",
            "f393a656cec349e1b889aab1c882edd2",
            "6468f517155248769c4ea3d21a86391a",
            "f4cfd5fe28d84bf5bf49e3a8a9e56e36",
            "ec46e43d3850438ca47a67c43d45b436",
            "ab1c9c598e244cdbb9241787d9ce11f3"
          ]
        },
        "id": "2VTSjEFh-mrK",
        "outputId": "bcc8c49c-b9a7-4a44-9a89-a4ec8adda940"
      },
      "outputs": [
        {
          "output_type": "display_data",
          "data": {
            "text/plain": [
              "  0%|          | 0/20 [00:00<?, ?it/s]"
            ],
            "application/vnd.jupyter.widget-view+json": {
              "version_major": 2,
              "version_minor": 0,
              "model_id": "3d99f4ed6a454e9f8f1971a76a72bb81"
            }
          },
          "metadata": {}
        },
        {
          "output_type": "stream",
          "name": "stderr",
          "text": [
            "/usr/local/lib/python3.7/dist-packages/torch/distributions/wishart.py:247: UserWarning: Singular sample detected.\n",
            "  warnings.warn(\"Singular sample detected.\")\n"
          ]
        }
      ],
      "source": [
        "ntry = 20\n",
        "nsamples = 500\n",
        "nprojs = 500\n",
        "\n",
        "ts = torch.linspace(0.1,10,200)\n",
        "L = np.zeros((ntry, len(ts)))\n",
        "\n",
        "bar = trange(ntry)\n",
        "for k in bar:\n",
        "    # pbar = trange(len(ts))\n",
        "    pbar = range(len(ts))\n",
        "    for i in pbar:\n",
        "        t = ts[i]\n",
        "        mt = D.Wishart(torch.tensor([2], dtype=torch.float64).to(device), t*torch.eye(2, dtype=torch.float64, device=device))\n",
        "        B0 = m0.sample((nsamples,))[:,0]\n",
        "        Bt = mt.sample((nsamples,))[:,0]\n",
        "\n",
        "        sw = sliced_wasserstein_spd(B0, Bt, nprojs, device=device).item()\n",
        "        L[k, i] = sw"
      ]
    },
    {
      "cell_type": "code",
      "execution_count": 39,
      "metadata": {
        "colab": {
          "base_uri": "https://localhost:8080/",
          "height": 279
        },
        "id": "9ZhfV0ep-mrL",
        "outputId": "a4f90c35-4c27-4962-c10b-6386e090cb36"
      },
      "outputs": [
        {
          "output_type": "display_data",
          "data": {
            "text/plain": [
              "<Figure size 432x288 with 1 Axes>"
            ],
            "image/png": "[encoded data removed]"
          },
          "metadata": {
            "needs_background": "light"
          }
        }
      ],
      "source": [
        "m = np.mean(L, axis=0)\n",
        "s = np.std(L, axis=0)\n",
        "\n",
        "plt.plot(ts, m)\n",
        "plt.fill_between(ts, m-s, m+s, alpha=0.5)\n",
        "plt.xlabel(\"t\")\n",
        "plt.show()"
      ]
    },
    {
      "cell_type": "code",
      "execution_count": null,
      "metadata": {
        "id": "i8CWgPRE-mrM"
      },
      "outputs": [],
      "source": []
    },
    {
      "cell_type": "code",
      "execution_count": 41,
      "metadata": {
        "colab": {
          "base_uri": "https://localhost:8080/"
        },
        "id": "-nFNuB0E-mrN",
        "outputId": "c40465c7-60b2-42a0-aa0e-b9e694abe75f"
      },
      "outputs": [
        {
          "output_type": "stream",
          "name": "stderr",
          "text": [
            "/usr/local/lib/python3.7/dist-packages/torch/distributions/wishart.py:247: UserWarning: Singular sample detected.\n",
            "  warnings.warn(\"Singular sample detected.\")\n"
          ]
        },
        {
          "output_type": "execute_result",
          "data": {
            "text/plain": [
              "0.00840235133729288"
            ]
          },
          "metadata": {},
          "execution_count": 41
        }
      ],
      "source": [
        "mt = D.Wishart(torch.tensor([2], dtype=torch.float64, device=device), torch.eye(2, dtype=torch.float64, device=device))\n",
        "B0 = m0.sample((10000,))[:,0]\n",
        "Bt = mt.sample((10000,))[:,0]\n",
        "\n",
        "sw = sliced_wasserstein_spd(B0, Bt, 500, device=device).item()\n",
        "sw"
      ]
    },
    {
      "cell_type": "code",
      "execution_count": null,
      "metadata": {
        "id": "TPPiq89H-mrO"
      },
      "outputs": [],
      "source": []
    },
    {
      "cell_type": "code",
      "execution_count": 45,
      "metadata": {
        "colab": {
          "base_uri": "https://localhost:8080/",
          "height": 49,
          "referenced_widgets": [
            "78b9c8c4fdf2455d9d0a1b59baa2b452",
            "ca45f5ef805b49a1bc694753a1a33817",
            "88d130922fb140d59d1e82203de3c3e0",
            "c1bfa1681d894508894ffaccf5e79b0b",
            "9bb420cfa7a449c48f9c7235532227d8",
            "d77dc5295f194b80b73eb0ba77f35d1a",
            "810da25f2d2f4439ba4775c0549676e3",
            "f9c6f563f77c4554955b58990b273122",
            "5e14019cb4d2448f8d17caddad0d3914",
            "bcf22a9b7fa548c49ad7866520e5a151",
            "22e5b868b6484e09b49d489226e14656"
          ]
        },
        "id": "-OJE4Hbo-mrR",
        "outputId": "d149a004-c50d-41ed-ab14-52635816f30e"
      },
      "outputs": [
        {
          "output_type": "display_data",
          "data": {
            "text/plain": [
              "  0%|          | 0/20 [00:00<?, ?it/s]"
            ],
            "application/vnd.jupyter.widget-view+json": {
              "version_major": 2,
              "version_minor": 0,
              "model_id": "78b9c8c4fdf2455d9d0a1b59baa2b452"
            }
          },
          "metadata": {}
        }
      ],
      "source": [
        "ntry = 20\n",
        "nsamples = 500\n",
        "nprojs = 500\n",
        "\n",
        "ts = torch.linspace(1.1,10,200)\n",
        "L = np.zeros((ntry, len(ts)))\n",
        "\n",
        "bar = trange(ntry)\n",
        "for k in bar:\n",
        "    pbar = range(len(ts))\n",
        "\n",
        "    for i in pbar:\n",
        "        t = ts[i]\n",
        "        mt = D.Wishart(t*torch.tensor([1], dtype=torch.float64, device=device), torch.eye(2, dtype=torch.float64, device=device))\n",
        "        B0 = m0.sample((nsamples,))[:,0]\n",
        "        Bt = mt.sample((nsamples,))[:,0]\n",
        "        \n",
        "        sw = sliced_wasserstein_spd(B0, Bt, nprojs, device=device).item()\n",
        "        L[k, i] = sw\n",
        "    "
      ]
    },
    {
      "cell_type": "code",
      "source": [
        "m = np.mean(L, axis=0)\n",
        "s = np.std(L, axis=0)\n",
        "\n",
        "plt.plot(ts, m)\n",
        "plt.fill_between(ts, m-s, m+s, alpha=0.5)\n",
        "plt.xlabel(\"t\")\n",
        "plt.show()"
      ],
      "metadata": {
        "colab": {
          "base_uri": "https://localhost:8080/",
          "height": 279
        },
        "id": "yEqq7jJuAv-m",
        "outputId": "79a62b42-d2c6-4dd5-db98-fceddf8d6f8c"
      },
      "execution_count": 46,
      "outputs": [
        {
          "output_type": "display_data",
          "data": {
            "text/plain": [
              "<Figure size 432x288 with 1 Axes>"
            ],
            "image/png": "[encoded data removed]"
          },
          "metadata": {
            "needs_background": "light"
          }
        }
      ]
    },
    {
      "cell_type": "code",
      "source": [],
      "metadata": {
        "id": "FXUu6qeKA0Fs"
      },
      "execution_count": null,
      "outputs": []
    }
  ],
  "metadata": {
    "kernelspec": {
      "display_name": "Python 3",
      "language": "python",
      "name": "python3"
    },
    "language_info": {
      "codemirror_mode": {
        "name": "ipython",
        "version": 3
      },
      "file_extension": ".py",
      "mimetype": "text/x-python",
      "name": "python",
      "nbconvert_exporter": "python",
      "pygments_lexer": "ipython3",
      "version": "3.7.9"
    },
    "toc": {
      "base_numbering": 1,
      "nav_menu": {},
      "number_sections": true,
      "sideBar": true,
      "skip_h1_title": false,
      "title_cell": "Table of Contents",
      "title_sidebar": "Contents",
      "toc_cell": false,
      "toc_position": {},
      "toc_section_display": true,
      "toc_window_display": true
    },
    "colab": {
      "provenance": [],
      "collapsed_sections": []
    },
    "accelerator": "GPU",
    "gpuClass": "standard",
    "widgets": {
      "application/vnd.jupyter.widget-state+json": {
        "3d99f4ed6a454e9f8f1971a76a72bb81": {
          "model_module": "@jupyter-widgets/controls",
          "model_name": "HBoxModel",
          "model_module_version": "1.5.0",
          "state": {
            "_dom_classes": [],
            "_model_module": "@jupyter-widgets/controls",
            "_model_module_version": "1.5.0",
            "_model_name": "HBoxModel",
            "_view_count": null,
            "_view_module": "@jupyter-widgets/controls",
            "_view_module_version": "1.5.0",
            "_view_name": "HBoxView",
            "box_style": "",
            "children": [
              "IPY_MODEL_115c99b437b041e0b7b98a7bfbefcfa8",
              "IPY_MODEL_82063e1668054766b91d9c76f2f3cdcb",
              "IPY_MODEL_3293079260a04359b7f5259955a3a63c"
            ],
            "layout": "IPY_MODEL_0933153479784a0a8d2b7359e0048704"
          }
        },
        "115c99b437b041e0b7b98a7bfbefcfa8": {
          "model_module": "@jupyter-widgets/controls",
          "model_name": "HTMLModel",
          "model_module_version": "1.5.0",
          "state": {
            "_dom_classes": [],
            "_model_module": "@jupyter-widgets/controls",
            "_model_module_version": "1.5.0",
            "_model_name": "HTMLModel",
            "_view_count": null,
            "_view_module": "@jupyter-widgets/controls",
            "_view_module_version": "1.5.0",
            "_view_name": "HTMLView",
            "description": "",
            "description_tooltip": null,
            "layout": "IPY_MODEL_1c1ac301a31241ed8254eeda82699e32",
            "placeholder": "​",
            "style": "IPY_MODEL_f393a656cec349e1b889aab1c882edd2",
            "value": "100%"
          }
        },
        "82063e1668054766b91d9c76f2f3cdcb": {
          "model_module": "@jupyter-widgets/controls",
          "model_name": "FloatProgressModel",
          "model_module_version": "1.5.0",
          "state": {
            "_dom_classes": [],
            "_model_module": "@jupyter-widgets/controls",
            "_model_module_version": "1.5.0",
            "_model_name": "FloatProgressModel",
            "_view_count": null,
            "_view_module": "@jupyter-widgets/controls",
            "_view_module_version": "1.5.0",
            "_view_name": "ProgressView",
            "bar_style": "success",
            "description": "",
            "description_tooltip": null,
            "layout": "IPY_MODEL_6468f517155248769c4ea3d21a86391a",
            "max": 20,
            "min": 0,
            "orientation": "horizontal",
            "style": "IPY_MODEL_f4cfd5fe28d84bf5bf49e3a8a9e56e36",
            "value": 20
          }
        },
        "3293079260a04359b7f5259955a3a63c": {
          "model_module": "@jupyter-widgets/controls",
          "model_name": "HTMLModel",
          "model_module_version": "1.5.0",
          "state": {
            "_dom_classes": [],
            "_model_module": "@jupyter-widgets/controls",
            "_model_module_version": "1.5.0",
            "_model_name": "HTMLModel",
            "_view_count": null,
            "_view_module": "@jupyter-widgets/controls",
            "_view_module_version": "1.5.0",
            "_view_name": "HTMLView",
            "description": "",
            "description_tooltip": null,
            "layout": "IPY_MODEL_ec46e43d3850438ca47a67c43d45b436",
            "placeholder": "​",
            "style": "IPY_MODEL_ab1c9c598e244cdbb9241787d9ce11f3",
            "value": " 20/20 [00:33&lt;00:00,  1.65s/it]"
          }
        },
        "0933153479784a0a8d2b7359e0048704": {
          "model_module": "@jupyter-widgets/base",
          "model_name": "LayoutModel",
          "model_module_version": "1.2.0",
          "state": {
            "_model_module": "@jupyter-widgets/base",
            "_model_module_version": "1.2.0",
            "_model_name": "LayoutModel",
            "_view_count": null,
            "_view_module": "@jupyter-widgets/base",
            "_view_module_version": "1.2.0",
            "_view_name": "LayoutView",
            "align_content": null,
            "align_items": null,
            "align_self": null,
            "border": null,
            "bottom": null,
            "display": null,
            "flex": null,
            "flex_flow": null,
            "grid_area": null,
            "grid_auto_columns": null,
            "grid_auto_flow": null,
            "grid_auto_rows": null,
            "grid_column": null,
            "grid_gap": null,
            "grid_row": null,
            "grid_template_areas": null,
            "grid_template_columns": null,
            "grid_template_rows": null,
            "height": null,
            "justify_content": null,
            "justify_items": null,
            "left": null,
            "margin": null,
            "max_height": null,
            "max_width": null,
            "min_height": null,
            "min_width": null,
            "object_fit": null,
            "object_position": null,
            "order": null,
            "overflow": null,
            "overflow_x": null,
            "overflow_y": null,
            "padding": null,
            "right": null,
            "top": null,
            "visibility": null,
            "width": null
          }
        },
        "1c1ac301a31241ed8254eeda82699e32": {
          "model_module": "@jupyter-widgets/base",
          "model_name": "LayoutModel",
          "model_module_version": "1.2.0",
          "state": {
            "_model_module": "@jupyter-widgets/base",
            "_model_module_version": "1.2.0",
            "_model_name": "LayoutModel",
            "_view_count": null,
            "_view_module": "@jupyter-widgets/base",
            "_view_module_version": "1.2.0",
            "_view_name": "LayoutView",
            "align_content": null,
            "align_items": null,
            "align_self": null,
            "border": null,
            "bottom": null,
            "display": null,
            "flex": null,
            "flex_flow": null,
            "grid_area": null,
            "grid_auto_columns": null,
            "grid_auto_flow": null,
            "grid_auto_rows": null,
            "grid_column": null,
            "grid_gap": null,
            "grid_row": null,
            "grid_template_areas": null,
            "grid_template_columns": null,
            "grid_template_rows": null,
            "height": null,
            "justify_content": null,
            "justify_items": null,
            "left": null,
            "margin": null,
            "max_height": null,
            "max_width": null,
            "min_height": null,
            "min_width": null,
            "object_fit": null,
            "object_position": null,
            "order": null,
            "overflow": null,
            "overflow_x": null,
            "overflow_y": null,
            "padding": null,
            "right": null,
            "top": null,
            "visibility": null,
            "width": null
          }
        },
        "f393a656cec349e1b889aab1c882edd2": {
          "model_module": "@jupyter-widgets/controls",
          "model_name": "DescriptionStyleModel",
          "model_module_version": "1.5.0",
          "state": {
            "_model_module": "@jupyter-widgets/controls",
            "_model_module_version": "1.5.0",
            "_model_name": "DescriptionStyleModel",
            "_view_count": null,
            "_view_module": "@jupyter-widgets/base",
            "_view_module_version": "1.2.0",
            "_view_name": "StyleView",
            "description_width": ""
          }
        },
        "6468f517155248769c4ea3d21a86391a": {
          "model_module": "@jupyter-widgets/base",
          "model_name": "LayoutModel",
          "model_module_version": "1.2.0",
          "state": {
            "_model_module": "@jupyter-widgets/base",
            "_model_module_version": "1.2.0",
            "_model_name": "LayoutModel",
            "_view_count": null,
            "_view_module": "@jupyter-widgets/base",
            "_view_module_version": "1.2.0",
            "_view_name": "LayoutView",
            "align_content": null,
            "align_items": null,
            "align_self": null,
            "border": null,
            "bottom": null,
            "display": null,
            "flex": null,
            "flex_flow": null,
            "grid_area": null,
            "grid_auto_columns": null,
            "grid_auto_flow": null,
            "grid_auto_rows": null,
            "grid_column": null,
            "grid_gap": null,
            "grid_row": null,
            "grid_template_areas": null,
            "grid_template_columns": null,
            "grid_template_rows": null,
            "height": null,
            "justify_content": null,
            "justify_items": null,
            "left": null,
            "margin": null,
            "max_height": null,
            "max_width": null,
            "min_height": null,
            "min_width": null,
            "object_fit": null,
            "object_position": null,
            "order": null,
            "overflow": null,
            "overflow_x": null,
            "overflow_y": null,
            "padding": null,
            "right": null,
            "top": null,
            "visibility": null,
            "width": null
          }
        },
        "f4cfd5fe28d84bf5bf49e3a8a9e56e36": {
          "model_module": "@jupyter-widgets/controls",
          "model_name": "ProgressStyleModel",
          "model_module_version": "1.5.0",
          "state": {
            "_model_module": "@jupyter-widgets/controls",
            "_model_module_version": "1.5.0",
            "_model_name": "ProgressStyleModel",
            "_view_count": null,
            "_view_module": "@jupyter-widgets/base",
            "_view_module_version": "1.2.0",
            "_view_name": "StyleView",
            "bar_color": null,
            "description_width": ""
          }
        },
        "ec46e43d3850438ca47a67c43d45b436": {
          "model_module": "@jupyter-widgets/base",
          "model_name": "LayoutModel",
          "model_module_version": "1.2.0",
          "state": {
            "_model_module": "@jupyter-widgets/base",
            "_model_module_version": "1.2.0",
            "_model_name": "LayoutModel",
            "_view_count": null,
            "_view_module": "@jupyter-widgets/base",
            "_view_module_version": "1.2.0",
            "_view_name": "LayoutView",
            "align_content": null,
            "align_items": null,
            "align_self": null,
            "border": null,
            "bottom": null,
            "display": null,
            "flex": null,
            "flex_flow": null,
            "grid_area": null,
            "grid_auto_columns": null,
            "grid_auto_flow": null,
            "grid_auto_rows": null,
            "grid_column": null,
            "grid_gap": null,
            "grid_row": null,
            "grid_template_areas": null,
            "grid_template_columns": null,
            "grid_template_rows": null,
            "height": null,
            "justify_content": null,
            "justify_items": null,
            "left": null,
            "margin": null,
            "max_height": null,
            "max_width": null,
            "min_height": null,
            "min_width": null,
            "object_fit": null,
            "object_position": null,
            "order": null,
            "overflow": null,
            "overflow_x": null,
            "overflow_y": null,
            "padding": null,
            "right": null,
            "top": null,
            "visibility": null,
            "width": null
          }
        },
        "ab1c9c598e244cdbb9241787d9ce11f3": {
          "model_module": "@jupyter-widgets/controls",
          "model_name": "DescriptionStyleModel",
          "model_module_version": "1.5.0",
          "state": {
            "_model_module": "@jupyter-widgets/controls",
            "_model_module_version": "1.5.0",
            "_model_name": "DescriptionStyleModel",
            "_view_count": null,
            "_view_module": "@jupyter-widgets/base",
            "_view_module_version": "1.2.0",
            "_view_name": "StyleView",
            "description_width": ""
          }
        },
        "78b9c8c4fdf2455d9d0a1b59baa2b452": {
          "model_module": "@jupyter-widgets/controls",
          "model_name": "HBoxModel",
          "model_module_version": "1.5.0",
          "state": {
            "_dom_classes": [],
            "_model_module": "@jupyter-widgets/controls",
            "_model_module_version": "1.5.0",
            "_model_name": "HBoxModel",
            "_view_count": null,
            "_view_module": "@jupyter-widgets/controls",
            "_view_module_version": "1.5.0",
            "_view_name": "HBoxView",
            "box_style": "",
            "children": [
              "IPY_MODEL_ca45f5ef805b49a1bc694753a1a33817",
              "IPY_MODEL_88d130922fb140d59d1e82203de3c3e0",
              "IPY_MODEL_c1bfa1681d894508894ffaccf5e79b0b"
            ],
            "layout": "IPY_MODEL_9bb420cfa7a449c48f9c7235532227d8"
          }
        },
        "ca45f5ef805b49a1bc694753a1a33817": {
          "model_module": "@jupyter-widgets/controls",
          "model_name": "HTMLModel",
          "model_module_version": "1.5.0",
          "state": {
            "_dom_classes": [],
            "_model_module": "@jupyter-widgets/controls",
            "_model_module_version": "1.5.0",
            "_model_name": "HTMLModel",
            "_view_count": null,
            "_view_module": "@jupyter-widgets/controls",
            "_view_module_version": "1.5.0",
            "_view_name": "HTMLView",
            "description": "",
            "description_tooltip": null,
            "layout": "IPY_MODEL_d77dc5295f194b80b73eb0ba77f35d1a",
            "placeholder": "​",
            "style": "IPY_MODEL_810da25f2d2f4439ba4775c0549676e3",
            "value": "100%"
          }
        },
        "88d130922fb140d59d1e82203de3c3e0": {
          "model_module": "@jupyter-widgets/controls",
          "model_name": "FloatProgressModel",
          "model_module_version": "1.5.0",
          "state": {
            "_dom_classes": [],
            "_model_module": "@jupyter-widgets/controls",
            "_model_module_version": "1.5.0",
            "_model_name": "FloatProgressModel",
            "_view_count": null,
            "_view_module": "@jupyter-widgets/controls",
            "_view_module_version": "1.5.0",
            "_view_name": "ProgressView",
            "bar_style": "success",
            "description": "",
            "description_tooltip": null,
            "layout": "IPY_MODEL_f9c6f563f77c4554955b58990b273122",
            "max": 20,
            "min": 0,
            "orientation": "horizontal",
            "style": "IPY_MODEL_5e14019cb4d2448f8d17caddad0d3914",
            "value": 20
          }
        },
        "c1bfa1681d894508894ffaccf5e79b0b": {
          "model_module": "@jupyter-widgets/controls",
          "model_name": "HTMLModel",
          "model_module_version": "1.5.0",
          "state": {
            "_dom_classes": [],
            "_model_module": "@jupyter-widgets/controls",
            "_model_module_version": "1.5.0",
            "_model_name": "HTMLModel",
            "_view_count": null,
            "_view_module": "@jupyter-widgets/controls",
            "_view_module_version": "1.5.0",
            "_view_name": "HTMLView",
            "description": "",
            "description_tooltip": null,
            "layout": "IPY_MODEL_bcf22a9b7fa548c49ad7866520e5a151",
            "placeholder": "​",
            "style": "IPY_MODEL_22e5b868b6484e09b49d489226e14656",
            "value": " 20/20 [00:34&lt;00:00,  1.66s/it]"
          }
        },
        "9bb420cfa7a449c48f9c7235532227d8": {
          "model_module": "@jupyter-widgets/base",
          "model_name": "LayoutModel",
          "model_module_version": "1.2.0",
          "state": {
            "_model_module": "@jupyter-widgets/base",
            "_model_module_version": "1.2.0",
            "_model_name": "LayoutModel",
            "_view_count": null,
            "_view_module": "@jupyter-widgets/base",
            "_view_module_version": "1.2.0",
            "_view_name": "LayoutView",
            "align_content": null,
            "align_items": null,
            "align_self": null,
            "border": null,
            "bottom": null,
            "display": null,
            "flex": null,
            "flex_flow": null,
            "grid_area": null,
            "grid_auto_columns": null,
            "grid_auto_flow": null,
            "grid_auto_rows": null,
            "grid_column": null,
            "grid_gap": null,
            "grid_row": null,
            "grid_template_areas": null,
            "grid_template_columns": null,
            "grid_template_rows": null,
            "height": null,
            "justify_content": null,
            "justify_items": null,
            "left": null,
            "margin": null,
            "max_height": null,
            "max_width": null,
            "min_height": null,
            "min_width": null,
            "object_fit": null,
            "object_position": null,
            "order": null,
            "overflow": null,
            "overflow_x": null,
            "overflow_y": null,
            "padding": null,
            "right": null,
            "top": null,
            "visibility": null,
            "width": null
          }
        },
        "d77dc5295f194b80b73eb0ba77f35d1a": {
          "model_module": "@jupyter-widgets/base",
          "model_name": "LayoutModel",
          "model_module_version": "1.2.0",
          "state": {
            "_model_module": "@jupyter-widgets/base",
            "_model_module_version": "1.2.0",
            "_model_name": "LayoutModel",
            "_view_count": null,
            "_view_module": "@jupyter-widgets/base",
            "_view_module_version": "1.2.0",
            "_view_name": "LayoutView",
            "align_content": null,
            "align_items": null,
            "align_self": null,
            "border": null,
            "bottom": null,
            "display": null,
            "flex": null,
            "flex_flow": null,
            "grid_area": null,
            "grid_auto_columns": null,
            "grid_auto_flow": null,
            "grid_auto_rows": null,
            "grid_column": null,
            "grid_gap": null,
            "grid_row": null,
            "grid_template_areas": null,
            "grid_template_columns": null,
            "grid_template_rows": null,
            "height": null,
            "justify_content": null,
            "justify_items": null,
            "left": null,
            "margin": null,
            "max_height": null,
            "max_width": null,
            "min_height": null,
            "min_width": null,
            "object_fit": null,
            "object_position": null,
            "order": null,
            "overflow": null,
            "overflow_x": null,
            "overflow_y": null,
            "padding": null,
            "right": null,
            "top": null,
            "visibility": null,
            "width": null
          }
        },
        "810da25f2d2f4439ba4775c0549676e3": {
          "model_module": "@jupyter-widgets/controls",
          "model_name": "DescriptionStyleModel",
          "model_module_version": "1.5.0",
          "state": {
            "_model_module": "@jupyter-widgets/controls",
            "_model_module_version": "1.5.0",
            "_model_name": "DescriptionStyleModel",
            "_view_count": null,
            "_view_module": "@jupyter-widgets/base",
            "_view_module_version": "1.2.0",
            "_view_name": "StyleView",
            "description_width": ""
          }
        },
        "f9c6f563f77c4554955b58990b273122": {
          "model_module": "@jupyter-widgets/base",
          "model_name": "LayoutModel",
          "model_module_version": "1.2.0",
          "state": {
            "_model_module": "@jupyter-widgets/base",
            "_model_module_version": "1.2.0",
            "_model_name": "LayoutModel",
            "_view_count": null,
            "_view_module": "@jupyter-widgets/base",
            "_view_module_version": "1.2.0",
            "_view_name": "LayoutView",
            "align_content": null,
            "align_items": null,
            "align_self": null,
            "border": null,
            "bottom": null,
            "display": null,
            "flex": null,
            "flex_flow": null,
            "grid_area": null,
            "grid_auto_columns": null,
            "grid_auto_flow": null,
            "grid_auto_rows": null,
            "grid_column": null,
            "grid_gap": null,
            "grid_row": null,
            "grid_template_areas": null,
            "grid_template_columns": null,
            "grid_template_rows": null,
            "height": null,
            "justify_content": null,
            "justify_items": null,
            "left": null,
            "margin": null,
            "max_height": null,
            "max_width": null,
            "min_height": null,
            "min_width": null,
            "object_fit": null,
            "object_position": null,
            "order": null,
            "overflow": null,
            "overflow_x": null,
            "overflow_y": null,
            "padding": null,
            "right": null,
            "top": null,
            "visibility": null,
            "width": null
          }
        },
        "5e14019cb4d2448f8d17caddad0d3914": {
          "model_module": "@jupyter-widgets/controls",
          "model_name": "ProgressStyleModel",
          "model_module_version": "1.5.0",
          "state": {
            "_model_module": "@jupyter-widgets/controls",
            "_model_module_version": "1.5.0",
            "_model_name": "ProgressStyleModel",
            "_view_count": null,
            "_view_module": "@jupyter-widgets/base",
            "_view_module_version": "1.2.0",
            "_view_name": "StyleView",
            "bar_color": null,
            "description_width": ""
          }
        },
        "bcf22a9b7fa548c49ad7866520e5a151": {
          "model_module": "@jupyter-widgets/base",
          "model_name": "LayoutModel",
          "model_module_version": "1.2.0",
          "state": {
            "_model_module": "@jupyter-widgets/base",
            "_model_module_version": "1.2.0",
            "_model_name": "LayoutModel",
            "_view_count": null,
            "_view_module": "@jupyter-widgets/base",
            "_view_module_version": "1.2.0",
            "_view_name": "LayoutView",
            "align_content": null,
            "align_items": null,
            "align_self": null,
            "border": null,
            "bottom": null,
            "display": null,
            "flex": null,
            "flex_flow": null,
            "grid_area": null,
            "grid_auto_columns": null,
            "grid_auto_flow": null,
            "grid_auto_rows": null,
            "grid_column": null,
            "grid_gap": null,
            "grid_row": null,
            "grid_template_areas": null,
            "grid_template_columns": null,
            "grid_template_rows": null,
            "height": null,
            "justify_content": null,
            "justify_items": null,
            "left": null,
            "margin": null,
            "max_height": null,
            "max_width": null,
            "min_height": null,
            "min_width": null,
            "object_fit": null,
            "object_position": null,
            "order": null,
            "overflow": null,
            "overflow_x": null,
            "overflow_y": null,
            "padding": null,
            "right": null,
            "top": null,
            "visibility": null,
            "width": null
          }
        },
        "22e5b868b6484e09b49d489226e14656": {
          "model_module": "@jupyter-widgets/controls",
          "model_name": "DescriptionStyleModel",
          "model_module_version": "1.5.0",
          "state": {
            "_model_module": "@jupyter-widgets/controls",
            "_model_module_version": "1.5.0",
            "_model_name": "DescriptionStyleModel",
            "_view_count": null,
            "_view_module": "@jupyter-widgets/base",
            "_view_module_version": "1.2.0",
            "_view_name": "StyleView",
            "description_width": ""
          }
        }
      }
    }
  },
  "nbformat": 4,
  "nbformat_minor": 0
}