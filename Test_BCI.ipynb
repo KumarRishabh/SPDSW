{
 "cells": [
  {
   "cell_type": "code",
   "execution_count": 1,
   "metadata": {},
   "outputs": [],
   "source": [
    "import sys\n",
    "import torch\n",
    "\n",
    "import torch.nn as nn\n",
    "import torch.nn.functional as F\n",
    "import matplotlib.pyplot as plt\n",
    "\n",
    "from tqdm import trange\n",
    "from sklearn.manifold import TSNE\n",
    "from geoopt import linalg\n",
    "\n",
    "sys.path.append(\"./lib/data\")\n",
    "from get_data import get_data, get_cov\n",
    "\n",
    "sys.path.append(\"./lib/spdnet\")\n",
    "import nn as nn_spd\n",
    "from optimizers import MixOptimizer\n",
    "\n",
    "sys.path.append(\"./lib\")\n",
    "from swspd import sliced_wasserstein_spd"
   ]
  },
  {
   "cell_type": "code",
   "execution_count": 2,
   "metadata": {},
   "outputs": [
    {
     "data": {
      "text/plain": [
       "'cpu'"
      ]
     },
     "execution_count": 2,
     "metadata": {},
     "output_type": "execute_result"
    }
   ],
   "source": [
    "device = \"cuda\" if torch.cuda.is_available() else \"cpu\"\n",
    "device = \"cpu\"\n",
    "device"
   ]
  },
  {
   "cell_type": "markdown",
   "metadata": {},
   "source": [
    "### Data"
   ]
  },
  {
   "cell_type": "code",
   "execution_count": 3,
   "metadata": {},
   "outputs": [],
   "source": [
    "subject = 1\n",
    "Xs, ys = get_data(subject, True, \"./dataset/\")\n",
    "cov_Xs = torch.tensor(get_cov(Xs), device=device) #, dtype=torch.float32)\n",
    "ys = torch.tensor(ys, device=device, dtype=torch.long)-1\n",
    "\n",
    "Xt, yt = get_data(subject, False, \"./dataset/\")\n",
    "cov_Xt = torch.tensor(get_cov(Xt), device=device) #, dtype=torch.float32)\n",
    "yt = torch.tensor(yt, device=device, dtype=torch.long)-1"
   ]
  },
  {
   "cell_type": "code",
   "execution_count": 4,
   "metadata": {},
   "outputs": [
    {
     "name": "stdout",
     "output_type": "stream",
     "text": [
      "(273, 22, 1750) torch.Size([273, 1, 43, 22, 22]) (281, 22, 1750) torch.Size([281, 1, 43, 22, 22])\n"
     ]
    }
   ],
   "source": [
    "print(Xs.shape, cov_Xs.shape, Xt.shape, cov_Xt.shape)"
   ]
  },
  {
   "cell_type": "markdown",
   "metadata": {},
   "source": [
    "### NNs"
   ]
  },
  {
   "cell_type": "code",
   "execution_count": 5,
   "metadata": {},
   "outputs": [],
   "source": [
    "class SPDNet(nn.Module):\n",
    "    def __init__(self, d):\n",
    "        super().__init__()\n",
    "        dim = d\n",
    "        dim1 = d\n",
    "        dim2 = d\n",
    "        dim3 = d\n",
    "#         dim1=200; dim2=100; dim3=50\n",
    "                \n",
    "        self.re = nn_spd.ReEig()\n",
    "        self.bimap1 = nn_spd.BiMap(1,1,dim,dim1)\n",
    "        self.batchnorm1 = nn_spd.BatchNormSPD(dim1)\n",
    "        self.bimap2 = nn_spd.BiMap(1,1,dim1,dim2)\n",
    "        self.batchnorm2 = nn_spd.BatchNormSPD(dim2)\n",
    "        self.bimap3 = nn_spd.BiMap(1,1,dim2,dim3)\n",
    "        self.batchnorm3 = nn_spd.BatchNormSPD(dim3)\n",
    "#         self.logeig = nn_spd.LogEig() ## projection on Symmetric matrices\n",
    "\n",
    "#         self.linear=nn.Linear(dim3**2,classes).double()\n",
    "        \n",
    "    def forward(self,x):\n",
    "        x_spd = self.re(self.batchnorm1(self.bimap1(x)))\n",
    "#         print(\"0\", torch.any(torch.linalg.eigh(x_spd)[0]<0))\n",
    "        x_spd = self.re(self.batchnorm2(self.bimap2(x_spd)))\n",
    "#         print(\"1\", torch.any(torch.linalg.eigh(x_spd)[0]<0))\n",
    "        x_spd = self.batchnorm3(self.bimap3(x_spd))\n",
    "#         print(\"2\", torch.any(torch.linalg.eigh(x_spd)[0]<0))\n",
    "\n",
    "#         x_vec = self.logeig(x_spd) #.view(x_spd.shape[0],-1)\n",
    "#         y = self.linear(x_vec)\n",
    "#         print(\"x_vec\", torch.any(torch.linalg.eigh(x_vec)[0]<0))\n",
    "\n",
    "        return x_spd"
   ]
  },
  {
   "cell_type": "code",
   "execution_count": 6,
   "metadata": {},
   "outputs": [],
   "source": [
    "model = SPDNet(22).to(device)"
   ]
  },
  {
   "cell_type": "code",
   "execution_count": 7,
   "metadata": {},
   "outputs": [
    {
     "name": "stdout",
     "output_type": "stream",
     "text": [
      "SPDNet(\n",
      "  (re): ReEig()\n",
      "  (bimap1): BiMap()\n",
      "  (batchnorm1): BatchNormSPD()\n",
      "  (bimap2): BiMap()\n",
      "  (batchnorm2): BatchNormSPD()\n",
      "  (bimap3): BiMap()\n",
      "  (batchnorm3): BatchNormSPD()\n",
      ")\n"
     ]
    }
   ],
   "source": [
    "print(model)"
   ]
  },
  {
   "cell_type": "code",
   "execution_count": 8,
   "metadata": {},
   "outputs": [
    {
     "name": "stderr",
     "output_type": "stream",
     "text": [
      "/home/clement/anaconda3/envs/pytorch/lib/python3.7/site-packages/ipykernel_launcher.py:1: UserWarning: To copy construct from a tensor, it is recommended to use sourceTensor.clone().detach() or sourceTensor.clone().detach().requires_grad_(True), rather than torch.tensor(sourceTensor).\n",
      "  \"\"\"Entry point for launching an IPython kernel.\n",
      "./lib/spdnet/functional.py:68: UserWarning: torch.eig is deprecated in favor of torch.linalg.eig and will be removed in a future PyTorch release.\n",
      "torch.linalg.eig returns complex tensors of dtype cfloat or cdouble rather than real tensors mimicking complex tensors.\n",
      "L, _ = torch.eig(A)\n",
      "should be replaced with\n",
      "L_complex = torch.linalg.eigvals(A)\n",
      "and\n",
      "L, V = torch.eig(A, eigenvectors=True)\n",
      "should be replaced with\n",
      "L_complex, V_complex = torch.linalg.eig(A) (Triggered internally at  ../aten/src/ATen/native/BatchLinearAlgebra.cpp:2910.)\n",
      "  s, U[i,j] = th.eig(P[i,j],True)\n"
     ]
    },
    {
     "data": {
      "text/plain": [
       "torch.Size([273, 1, 22, 22])"
      ]
     },
     "execution_count": 8,
     "metadata": {},
     "output_type": "execute_result"
    }
   ],
   "source": [
    "out = model(torch.tensor(cov_Xs)[:,:,0])\n",
    "out.shape"
   ]
  },
  {
   "cell_type": "code",
   "execution_count": 9,
   "metadata": {},
   "outputs": [
    {
     "name": "stderr",
     "output_type": "stream",
     "text": [
      "/home/clement/anaconda3/envs/pytorch/lib/python3.7/site-packages/ipykernel_launcher.py:1: UserWarning: To copy construct from a tensor, it is recommended to use sourceTensor.clone().detach() or sourceTensor.clone().detach().requires_grad_(True), rather than torch.tensor(sourceTensor).\n",
      "  \"\"\"Entry point for launching an IPython kernel.\n"
     ]
    },
    {
     "data": {
      "text/plain": [
       "torch.Size([273, 1, 22, 22])"
      ]
     },
     "execution_count": 9,
     "metadata": {},
     "output_type": "execute_result"
    }
   ],
   "source": [
    "torch.tensor(cov_Xs)[:,:,0].shape"
   ]
  },
  {
   "cell_type": "code",
   "execution_count": null,
   "metadata": {},
   "outputs": [],
   "source": []
  },
  {
   "cell_type": "code",
   "execution_count": 10,
   "metadata": {},
   "outputs": [],
   "source": [
    "# class mlp_spd(nn.Module):\n",
    "#     def __init__(self, d_in, nh, d_out, n_layers):\n",
    "#         super().__init__()\n",
    "#         self.layers = nn.ModuleList()\n",
    "#         self.layers.append(nn.Linear(d_in,nh))\n",
    "#         for i in range(n_layers):\n",
    "#             self.layers.append(nn.Linear(nh,nh))\n",
    "#         self.layers.append(nn.Linear(nh,d_out))\n",
    "\n",
    "#         self.logeig = nn_spd.LogEig() ## projection on Symmetric matrices\n",
    "\n",
    "\n",
    "#     def forward(self, x_spd):\n",
    "#         x = self.logeig(x_spd).view(x_spd.shape[0], -1)\n",
    "        \n",
    "#         for layer in self.layers:\n",
    "#             x = F.leaky_relu(layer(x),0.2)\n",
    "#         return F.softmax(x, dim=-1)"
   ]
  },
  {
   "cell_type": "code",
   "execution_count": 11,
   "metadata": {},
   "outputs": [],
   "source": [
    "class mlp_spd(nn.Module):\n",
    "    def __init__(self, d_in, nh, d_out, n_layers):\n",
    "        super().__init__()\n",
    "#         self.layers = nn.ModuleList()\n",
    "#         self.layers.append(nn.Linear(d_in,nh))\n",
    "#         for i in range(n_layers):\n",
    "#             self.layers.append(nn.Linear(nh,nh))\n",
    "#         self.layers.append(nn.Linear(nh,d_out))\n",
    "\n",
    "        self.dense1 = nn.Linear(d_in, 500)\n",
    "        self.dense2 = nn.Linear(500, 200)\n",
    "        self.dense3 = nn.Linear(200,100)\n",
    "        self.dense4 = nn.Linear(100, d_out)\n",
    "        self.logeig = nn_spd.LogEig() ## projection on Symmetric matrices\n",
    "\n",
    "\n",
    "    def forward(self, x_spd):\n",
    "        x = self.logeig(x_spd).view(x_spd.shape[0], -1)\n",
    "        \n",
    "#         for layer in self.layers:\n",
    "#             x = F.leaky_relu(layer(x),0.2)\n",
    "\n",
    "        x = F.relu(self.dense1(x))\n",
    "        x = F.relu(self.dense2(x))\n",
    "        x = F.relu(self.dense3(x))\n",
    "        x = F.relu(self.dense4(x))\n",
    "            \n",
    "        return F.softmax(x, dim=-1)"
   ]
  },
  {
   "cell_type": "code",
   "execution_count": null,
   "metadata": {},
   "outputs": [],
   "source": []
  },
  {
   "cell_type": "markdown",
   "metadata": {},
   "source": [
    "### Training"
   ]
  },
  {
   "cell_type": "markdown",
   "metadata": {},
   "source": [
    "- Need to average over all frequences?\n",
    "- Add a regularization parameter in front of SW"
   ]
  },
  {
   "cell_type": "code",
   "execution_count": null,
   "metadata": {
    "scrolled": true
   },
   "outputs": [],
   "source": [
    "epochs = 1000\n",
    "num_projs = 500\n",
    "d = 22\n",
    "n_classes = 4\n",
    "lr = 1e-1\n",
    "\n",
    "freq = 0\n",
    "\n",
    "criterion = nn.CrossEntropyLoss()\n",
    "\n",
    "model = SPDNet(d).to(device)\n",
    "classifier = mlp_spd(d*d, 3, n_classes, 5).to(device)\n",
    "\n",
    "optimizer = MixOptimizer(list(model.parameters()) + list(classifier.parameters()), lr=lr)\n",
    "\n",
    "L_loss = []\n",
    "L_sw = []\n",
    "L_classif = []\n",
    "\n",
    "pbar = trange(epochs)\n",
    "\n",
    "for e in pbar:\n",
    "    zs = model(cov_Xs[:,:,freq])\n",
    "    zt = model(cov_Xt[:,:,freq])\n",
    "    \n",
    "    y_hat = classifier(zs.type(torch.float32))\n",
    "#     y_hat = classifier(zs.type(torch.float32).reshape(-1, d*d))\n",
    "#     print(y_hat.shape, zs.shape)\n",
    "    \n",
    "    align_loss = sliced_wasserstein_spd(zs[:,0], zt[:,0], num_projs, device, p=2)\n",
    "    classif_loss = criterion(y_hat, ys)\n",
    "    \n",
    "    loss = align_loss + classif_loss\n",
    "    loss.backward()\n",
    "    \n",
    "#     print(loss.item(), align_loss.item(), classif_loss.item())\n",
    "#     print(torch.any(torch.isnan(zs)), torch.any(torch.isnan(zt)))\n",
    "    \n",
    "    L_loss.append(loss.item())\n",
    "    L_sw.append(align_loss.item())\n",
    "    L_classif.append(classif_loss.item())\n",
    "    \n",
    "    optimizer.step()\n",
    "    optimizer.zero_grad()\n",
    "    \n",
    "    pbar.set_postfix_str(f\"loss = {loss.item():.3f} \" + f\"sw = {align_loss.item():.3f} \" + f\"bce = {classif_loss.item():.3f}\")\n",
    "#     print(loss.item(), align_loss.item(), classif_loss.item())\n"
   ]
  },
  {
   "cell_type": "code",
   "execution_count": 119,
   "metadata": {},
   "outputs": [
    {
     "data": {
      "image/png": "[encoded data removed]",
      "text/plain": [
       "<Figure size 432x288 with 1 Axes>"
      ]
     },
     "metadata": {
      "needs_background": "light"
     },
     "output_type": "display_data"
    }
   ],
   "source": [
    "plt.plot(L_loss)\n",
    "plt.show()"
   ]
  },
  {
   "cell_type": "code",
   "execution_count": 120,
   "metadata": {},
   "outputs": [
    {
     "data": {
      "image/png": "[encoded data removed]",
      "text/plain": [
       "<Figure size 432x288 with 1 Axes>"
      ]
     },
     "metadata": {
      "needs_background": "light"
     },
     "output_type": "display_data"
    }
   ],
   "source": [
    "plt.plot(L_classif)\n",
    "plt.show()"
   ]
  },
  {
   "cell_type": "code",
   "execution_count": 121,
   "metadata": {},
   "outputs": [
    {
     "data": {
      "image/png": "[encoded data removed]",
      "text/plain": [
       "<Figure size 432x288 with 1 Axes>"
      ]
     },
     "metadata": {
      "needs_background": "light"
     },
     "output_type": "display_data"
    }
   ],
   "source": [
    "plt.plot(L_sw)\n",
    "plt.show()"
   ]
  },
  {
   "cell_type": "code",
   "execution_count": 122,
   "metadata": {
    "scrolled": true
   },
   "outputs": [
    {
     "data": {
      "text/plain": [
       "[1.3883336741427799,\n",
       " 1.3882840641917304,\n",
       " 1.3882847379381038,\n",
       " 1.388285878666995,\n",
       " 1.3883256316676356,\n",
       " 1.3882755675452296,\n",
       " 1.3882980995023937,\n",
       " 1.3883155370372209,\n",
       " 1.3882681323816313,\n",
       " 1.3881206654233778,\n",
       " 1.3881589390818567,\n",
       " 1.3882287150193262,\n",
       " 1.3881638094762403,\n",
       " 1.3880912854985339,\n",
       " 1.3881691081518532,\n",
       " 1.3881828240985459,\n",
       " 1.3881613124479637,\n",
       " 1.3881053538126904,\n",
       " 1.3881183378742536,\n",
       " 1.3881703529421854,\n",
       " 1.3880909195090012,\n",
       " 1.3881051016671244,\n",
       " 1.3879889255206728,\n",
       " 1.3881170495888395,\n",
       " 1.3880726286576714,\n",
       " 1.3880182459201453,\n",
       " 1.3879177595157108,\n",
       " 1.388026184520503,\n",
       " 1.38806229818459,\n",
       " 1.3880434941335713,\n",
       " 1.3881043509890931,\n",
       " 1.3880447125201394,\n",
       " 1.3879918256395785,\n",
       " 1.388128976027953,\n",
       " 1.3880146349296407,\n",
       " 1.3880113127018263,\n",
       " 1.3880039300054612,\n",
       " 1.3879821397356906,\n",
       " 1.3879622547466137,\n",
       " 1.3879413105474943,\n",
       " 1.3879864219388223,\n",
       " 1.388010395452489,\n",
       " 1.3879478339172857,\n",
       " 1.3880480055108437,\n",
       " 1.3879822186285198,\n",
       " 1.3878794285627865,\n",
       " 1.387947935585292,\n",
       " 1.3878501087422874,\n",
       " 1.387933609093001,\n",
       " 1.3880282185881048,\n",
       " 1.3878898266538944,\n",
       " 1.3879412299514715,\n",
       " 1.3878837003507802,\n",
       " 1.3878686654924377,\n",
       " 1.3878865997460883,\n",
       " 1.387826021706598,\n",
       " 1.3878796665676474,\n",
       " 1.3878896528843925,\n",
       " 1.3877770499052842,\n",
       " 1.387783705134339,\n",
       " 1.3877942243619383,\n",
       " 1.3878742406968174,\n",
       " 1.387806184532614,\n",
       " 1.3878507465096972,\n",
       " 1.3878022425715568,\n",
       " 1.387902644045943,\n",
       " 1.3877793397551725,\n",
       " 1.3878669180782683,\n",
       " 1.3877896466821502,\n",
       " 1.3877721270980437,\n",
       " 1.3878552352038978,\n",
       " 1.3878086016665299,\n",
       " 1.3877636779764808,\n",
       " 1.387860921385886,\n",
       " 1.3877924680000606,\n",
       " 1.3877848744010741,\n",
       " 1.387722630734014,\n",
       " 1.3876407755557956,\n",
       " 1.3876264880246796,\n",
       " 1.3877495363582735,\n",
       " 1.3877012736707368,\n",
       " 1.387661371698967,\n",
       " 1.3876732319471512,\n",
       " 1.3876690604754198,\n",
       " 1.3877246869939475,\n",
       " 1.3876723766911903,\n",
       " 1.3876529074366217,\n",
       " 1.387667436387904,\n",
       " 1.3876620378061262,\n",
       " 1.3876735926056971,\n",
       " 1.3876705412771881,\n",
       " 1.3877007586576555,\n",
       " 1.3875899536979486,\n",
       " 1.3877241475846458,\n",
       " 1.387564693606717,\n",
       " 1.3876365832974744,\n",
       " 1.3876698496732756,\n",
       " 1.387624974122905,\n",
       " 1.3875365397771326,\n",
       " 1.3875105656001767,\n",
       " 1.3876216949263662,\n",
       " 1.387612676845498,\n",
       " 1.3876284844107167,\n",
       " 1.3875178610633818,\n",
       " 1.3875146570312924,\n",
       " 1.3876241101928757,\n",
       " 1.3876296205601673,\n",
       " 1.38748520796354,\n",
       " 1.3876278287919914,\n",
       " 1.3875287051588392,\n",
       " 1.3875570197898508,\n",
       " 1.3874804658925188,\n",
       " 1.3874324632097643,\n",
       " 1.3874904619993464,\n",
       " 1.3874758120792472,\n",
       " 1.3875064689563534,\n",
       " 1.387451139144567,\n",
       " 1.3874118891150657,\n",
       " 1.3874420901981803,\n",
       " 1.3874781769371054,\n",
       " 1.38735565244399,\n",
       " 1.3874890038219183,\n",
       " 1.3874653132301722,\n",
       " 1.3873840740742578,\n",
       " 1.3873891430149916,\n",
       " 1.3874022060166578,\n",
       " 1.3874679145174118,\n",
       " 1.3874062496049975,\n",
       " 1.3873903476999243,\n",
       " 1.3874513686264334,\n",
       " 1.387397695722402,\n",
       " 1.3874389638832043,\n",
       " 1.3874479270821098,\n",
       " 1.3873027270313643,\n",
       " 1.3873003877464982,\n",
       " 1.387308004174851,\n",
       " 1.3874079015237948,\n",
       " 1.3872971138530792,\n",
       " 1.387377942855006,\n",
       " 1.3873485175055236,\n",
       " 1.3873250876808092,\n",
       " 1.3873433557846053,\n",
       " 1.3873259325854754,\n",
       " 1.3873281110655735,\n",
       " 1.3873102120160434,\n",
       " 1.387244561103274,\n",
       " 1.387238764009038,\n",
       " 1.387248535810131,\n",
       " 1.3872214535962173,\n",
       " 1.3871444572305704,\n",
       " 1.3872442502234725,\n",
       " 1.3872811757237606,\n",
       " 1.3871880063450888,\n",
       " 1.3872209845920402,\n",
       " 1.3872178113552207,\n",
       " 1.3871728725466788,\n",
       " 1.3871726443553936,\n",
       " 1.3871558998848041,\n",
       " 1.3872121082712991,\n",
       " 1.3871445499409896,\n",
       " 1.387145193347465,\n",
       " 1.3871570214278808,\n",
       " 1.3871990583715248,\n",
       " 1.3872113647663047,\n",
       " 1.3871446505449498,\n",
       " 1.3871498430881173,\n",
       " 1.387215761292941,\n",
       " 1.3871028631938862,\n",
       " 1.3871690198973112,\n",
       " 1.387105254620783,\n",
       " 1.3871181363714389,\n",
       " 1.3871080445425044,\n",
       " 1.3870796713671598,\n",
       " 1.387159181615496,\n",
       " 1.3870473468913733,\n",
       " 1.387093514377231,\n",
       " 1.3870703843587107,\n",
       " 1.3869990866289998,\n",
       " 1.3870215413613967,\n",
       " 1.387047720771798,\n",
       " 1.386984309808884,\n",
       " 1.386954482882454,\n",
       " 1.3869501634291301,\n",
       " 1.386976425791142,\n",
       " 1.3869912109441018,\n",
       " 1.3870315055938471,\n",
       " 1.3869905075878977,\n",
       " 1.3869172732635082,\n",
       " 1.3869942337964936,\n",
       " 1.3869631065110453,\n",
       " 1.3868804140766915,\n",
       " 1.3870331694614266,\n",
       " 1.3868939053126477,\n",
       " 1.386970504365926,\n",
       " 1.3869070168393056,\n",
       " 1.3869754944670103,\n",
       " 1.386864198007987,\n",
       " 1.3868316556488558,\n",
       " 1.3869600549279655,\n",
       " 1.3869145149406097,\n",
       " 1.386896774253136,\n",
       " 1.3868705334744913,\n",
       " 1.3868564794642428,\n",
       " 1.3867849317655743,\n",
       " 1.3868045881082585,\n",
       " 1.3867938992688558,\n",
       " 1.3868542023555497,\n",
       " 1.3867864956270575,\n",
       " 1.3867241939877748,\n",
       " 1.3867952786765265,\n",
       " 1.3868083706111454,\n",
       " 1.3868473568058155,\n",
       " 1.3866842612955843,\n",
       " 1.3868063095272496,\n",
       " 1.3866705114910696,\n",
       " 1.3867526646908752,\n",
       " 1.3867228722938343,\n",
       " 1.3866246522146335,\n",
       " 1.386706537444468,\n",
       " 1.3866895190242674,\n",
       " 1.3867051792434957,\n",
       " 1.3867225746844332,\n",
       " 1.3867807445316074,\n",
       " 1.3867501393860866,\n",
       " 1.3866467156553215,\n",
       " 1.3866760373274452,\n",
       " 1.3865915175341825,\n",
       " 1.3867041775367839,\n",
       " 1.386587699217311,\n",
       " 1.3865391736499695,\n",
       " 1.3865938985938029,\n",
       " 1.3865507846323941,\n",
       " 1.3865654397463123,\n",
       " 1.386605926448928,\n",
       " 1.3865561593450886,\n",
       " 1.3865851436549483,\n",
       " 1.3866523492700098,\n",
       " 1.3865405506171362,\n",
       " 1.3865622138730263,\n",
       " 1.3865577338158366,\n",
       " 1.3866148203687327,\n",
       " 1.3865668413849424,\n",
       " 1.3865061134554097,\n",
       " 1.3865147625205483,\n",
       " 1.3863934910309754,\n",
       " 1.3865066537755708,\n",
       " 1.3865920318939673,\n",
       " 1.3864140457032799,\n",
       " 1.3864287189296427,\n",
       " 1.3865002054322624,\n",
       " 1.3865338707640205,\n",
       " 1.3864290918511217,\n",
       " 1.3864724317798627,\n",
       " 1.38642185268705,\n",
       " 1.3864262080085563,\n",
       " 1.3864460279083655,\n",
       " 1.3863947502361904,\n",
       " 1.3863512154161937,\n",
       " 1.386409931080863,\n",
       " 1.386310604652112,\n",
       " 1.3862937961716462,\n",
       " 1.3863600881381961,\n",
       " 1.3863301185858863,\n",
       " 1.3862909909864014,\n",
       " 1.3863717923973837,\n",
       " 1.3863155927450437,\n",
       " 1.3862978202886354,\n",
       " 1.3862330885902834,\n",
       " 1.386332106752007,\n",
       " 1.3861805769062936,\n",
       " 1.3862557740180455,\n",
       " 1.386216805981092,\n",
       " 1.386108205704646,\n",
       " 1.3862201260154916,\n",
       " 1.3861817982362414,\n",
       " 1.3861795793453087,\n",
       " 1.3861143943763232,\n",
       " 1.386162082521604,\n",
       " 1.3862088873604863,\n",
       " 1.3861129020833531,\n",
       " 1.3861308292731647,\n",
       " 1.386054256400158,\n",
       " 1.386117843297749,\n",
       " 1.386129644231388,\n",
       " 1.3860901047738992,\n",
       " 1.3861411818903213,\n",
       " 1.3860470423734024,\n",
       " 1.386051294812307,\n",
       " 1.3860787594955999,\n",
       " 1.3860879419135745,\n",
       " 1.3860715541742759,\n",
       " 1.3860321683109287,\n",
       " 1.386017551015092,\n",
       " 1.386019021632789,\n",
       " 1.3859746598550817,\n",
       " 1.3859427390771295,\n",
       " 1.3859237806551898,\n",
       " 1.3859251087876538,\n",
       " 1.3859882462579085,\n",
       " 1.385893822712926,\n",
       " 1.3859367896522368,\n",
       " 1.3859523400355966,\n",
       " 1.3858714213051615,\n",
       " 1.385982212750316,\n",
       " 1.385901953314848,\n",
       " 1.385879741794036,\n",
       " 1.3857851852161804,\n",
       " 1.3858910093408663,\n",
       " 1.3858346081241069,\n",
       " 1.3857840609369927,\n",
       " 1.3858615489274706,\n",
       " 1.385792069899771,\n",
       " 1.3857772169957656,\n",
       " 1.385803085394034,\n",
       " 1.3857366539945857,\n",
       " 1.3857523983423348,\n",
       " 1.385674988406522,\n",
       " 1.3856474369039034,\n",
       " 1.3856060715256426,\n",
       " 1.3856182613720578,\n",
       " 1.385590897815951,\n",
       " 1.3855115359671522,\n",
       " 1.385581992323045,\n",
       " 1.3855297581504105,\n",
       " 1.3854763839321722,\n",
       " 1.3855345419111247,\n",
       " 1.3855200722099452,\n",
       " 1.3854180954647624,\n",
       " 1.3854208425209913,\n",
       " 1.3853603531016974,\n",
       " 1.3853125407797915,\n",
       " 1.385198675245252,\n",
       " 1.3852541071758322,\n",
       " 1.3851898460852194,\n",
       " 1.3851671065329678,\n",
       " 1.3852303638062426,\n",
       " 1.3852078778233243,\n",
       " 1.3851403642052946,\n",
       " 1.3851098932436612,\n",
       " 1.385081944603069,\n",
       " 1.38508089651098,\n",
       " 1.3850384104011355,\n",
       " 1.3850780744898772,\n",
       " 1.3849938961586636,\n",
       " 1.3850412935924257,\n",
       " 1.3850096636276947,\n",
       " 1.3849088731289094,\n",
       " 1.384942185273823,\n",
       " 1.384921414258033,\n",
       " 1.38485257887688,\n",
       " 1.3849520058899754,\n",
       " 1.3848703097909318,\n",
       " 1.3848481166878388,\n",
       " 1.3848468230022086,\n",
       " 1.3848487329941348,\n",
       " 1.3847636172709035,\n",
       " 1.3847592301367464,\n",
       " 1.384745967287017,\n",
       " 1.3847668682543537,\n",
       " 1.3847032950585023,\n",
       " 1.3847179962521128,\n",
       " 1.3847293038583293,\n",
       " 1.3846550389446501,\n",
       " 1.3846315066157153,\n",
       " 1.3846554681519985,\n",
       " 1.3845190201648931,\n",
       " 1.3846518975573394,\n",
       " 1.3845720036813287,\n",
       " 1.3845246635022292,\n",
       " 1.384469317974856,\n",
       " 1.384520528242935,\n",
       " 1.3844891782565163,\n",
       " 1.384441412400269,\n",
       " 1.3844966575864701,\n",
       " 1.3844724568400395,\n",
       " 1.384435120452342,\n",
       " 1.3844619812707732,\n",
       " 1.384358516312927,\n",
       " 1.3843137963780074,\n",
       " 1.3842885662001214,\n",
       " 1.3843479713101587,\n",
       " 1.3842302703002791,\n",
       " 1.3843133359531805,\n",
       " 1.3842756564406726,\n",
       " 1.3841900666975269,\n",
       " 1.3841475910302663,\n",
       " 1.3841938765952952,\n",
       " 1.3841829807731763,\n",
       " 1.3841929584063595,\n",
       " 1.3841477087422658,\n",
       " 1.384037175391119,\n",
       " 1.384095935706865,\n",
       " 1.384087289375255,\n",
       " 1.3840450906681532,\n",
       " 1.3840267566080953,\n",
       " 1.3840339583320636,\n",
       " 1.3839175996681456,\n",
       " 1.3838868820601438,\n",
       " 1.3838297010173326,\n",
       " 1.3839571061644302,\n",
       " 1.3838108737589596,\n",
       " 1.383863894184876,\n",
       " 1.3837522708684797,\n",
       " 1.3837849587020947,\n",
       " 1.383756094728828,\n",
       " 1.3837781405785528,\n",
       " 1.3836081067083654,\n",
       " 1.3837235695252934,\n",
       " 1.383675817014508,\n",
       " 1.3836564976492638,\n",
       " 1.3837103420703447,\n",
       " 1.3836257897984168,\n",
       " 1.3835944212809446,\n",
       " 1.3835776272751854,\n",
       " 1.3835468679135225,\n",
       " 1.3834291407125525,\n",
       " 1.3834132063482436,\n",
       " 1.383431789404164,\n",
       " 1.383360545555944,\n",
       " 1.3834395057284956,\n",
       " 1.3833393799767173,\n",
       " 1.3834041370589365,\n",
       " 1.383352429164317,\n",
       " 1.3833413818114528,\n",
       " 1.3833362120456636,\n",
       " 1.3832855001819122,\n",
       " 1.3832036067198796,\n",
       " 1.3832501067537561,\n",
       " 1.383107262146009,\n",
       " 1.383173862395392,\n",
       " 1.3832515427483585,\n",
       " 1.383100801695427,\n",
       " 1.383073301751499,\n",
       " 1.3829800440934532,\n",
       " 1.383071862003004,\n",
       " 1.3829781257924294,\n",
       " 1.3829871466903627,\n",
       " 1.3829186647552367,\n",
       " 1.3828997534809178,\n",
       " 1.3828675762708968,\n",
       " 1.3828792175761289,\n",
       " 1.3828936639971685,\n",
       " 1.3826428469681482,\n",
       " 1.3826442093650737,\n",
       " 1.382692773139842,\n",
       " 1.3827255360215418,\n",
       " 1.382605232091387,\n",
       " 1.3825822245637995,\n",
       " 1.382586323491726,\n",
       " 1.3825210916649988,\n",
       " 1.3826032831545714,\n",
       " 1.3824480966953068,\n",
       " 1.3824536420578837,\n",
       " 1.3824749234803821,\n",
       " 1.382355110427746,\n",
       " 1.3823198457364023,\n",
       " 1.3823842746046398,\n",
       " 1.3822980978499197,\n",
       " 1.3822308242781096,\n",
       " 1.3822604877133733,\n",
       " 1.3822547400475271,\n",
       " 1.3822926060741907,\n",
       " 1.3821433027793364,\n",
       " 1.3819668581017028,\n",
       " 1.382049705514845,\n",
       " 1.3820463409101438,\n",
       " 1.3820742299768465,\n",
       " 1.3819035858800022,\n",
       " 1.3819492663495978,\n",
       " 1.381938979468047,\n",
       " 1.3818404922799046,\n",
       " 1.381919270738949,\n",
       " 1.381781173073708,\n",
       " 1.3817924040833818,\n",
       " 1.3817469825241004,\n",
       " 1.3816821138140734,\n",
       " 1.3816455171737971,\n",
       " 1.3816190091244493,\n",
       " 1.3816559793545924,\n",
       " 1.3815386151544864,\n",
       " 1.3815606736822474,\n",
       " 1.3814677978617975,\n",
       " 1.3814859040223904,\n",
       " 1.3814510341621031,\n",
       " 1.3814056630745128,\n",
       " 1.3813723529446982,\n",
       " 1.3813249206452913,\n",
       " 1.381254303945301,\n",
       " 1.3812034182723212,\n",
       " 1.3811835452420453,\n",
       " 1.3811635300665073,\n",
       " 1.380996105772228,\n",
       " 1.3811630813695872,\n",
       " 1.380972184011839,\n",
       " 1.3810278513864944,\n",
       " 1.380956342061308,\n",
       " 1.380933276378883,\n",
       " 1.380870971150855,\n",
       " 1.3807997062735733,\n",
       " 1.3807853374033519,\n",
       " 1.380738451188034,\n",
       " 1.38070113213391,\n",
       " 1.380679670109112,\n",
       " 1.3806755981464085,\n",
       " 1.3805681130456857,\n",
       " 1.380571418011113,\n",
       " 1.3805369284750633,\n",
       " 1.3804845757120585,\n",
       " 1.380358504107692,\n",
       " 1.3803604794219315,\n",
       " 1.380317503058321,\n",
       " 1.3802530196746892,\n",
       " 1.3801722890512331,\n",
       " 1.38018639047527,\n",
       " 1.380129013489937,\n",
       " 1.3801488132724644,\n",
       " 1.38011306264432,\n",
       " 1.3799360916903793,\n",
       " 1.379884854106825,\n",
       " 1.3799269249923696,\n",
       " 1.3799298744521276,\n",
       " 1.379809593706401,\n",
       " 1.3797644376205627,\n",
       " 1.3797650073199528,\n",
       " 1.379699788706839,\n",
       " 1.3795869021584506,\n",
       " 1.3795468794988615,\n",
       " 1.379562481812364,\n",
       " 1.379502262764474,\n",
       " 1.3793644531273284,\n",
       " 1.379398764416708,\n",
       " 1.3793033634023488,\n",
       " 1.379282437012015,\n",
       " 1.3792350934571134,\n",
       " 1.3791184433844084,\n",
       " 1.3790690055339785,\n",
       " 1.3791294029739967,\n",
       " 1.3789421912867759,\n",
       " 1.3789617419605362,\n",
       " 1.378831624719163,\n",
       " 1.378835844727674,\n",
       " 1.3787033506309936,\n",
       " 1.378764828953898,\n",
       " 1.3786774431359528,\n",
       " 1.3785781938959634,\n",
       " 1.3785501342412,\n",
       " 1.378469851812712,\n",
       " 1.3784305018993341,\n",
       " 1.378365333788483,\n",
       " 1.3783150882840347,\n",
       " 1.3782205652777328,\n",
       " 1.3781858043018549,\n",
       " 1.3780991069652144,\n",
       " 1.3780964567180438,\n",
       " 1.3779599469260893,\n",
       " 1.3779186397215115,\n",
       " 1.3779660035484653,\n",
       " 1.3778121196781525,\n",
       " 1.377825541171847,\n",
       " 1.3777330030500958,\n",
       " 1.3776501350005204,\n",
       " 1.3775643955539636,\n",
       " 1.3775185518312472,\n",
       " 1.3774215104871117,\n",
       " 1.377346352254232,\n",
       " 1.377272725137415,\n",
       " 1.377245070424478,\n",
       " 1.3771521536734679,\n",
       " 1.3770798939244115,\n",
       " 1.3770755389917209,\n",
       " 1.376950955629759,\n",
       " 1.376849707184415,\n",
       " 1.3768093543151756,\n",
       " 1.3767844044663449,\n",
       " 1.3766802578039943,\n",
       " 1.3766557647268907,\n",
       " 1.3765853660771747,\n",
       " 1.3764851800024744,\n",
       " 1.376440298502863,\n",
       " 1.3763440167463008,\n",
       " 1.3762604050521845,\n",
       " 1.3761682409224958,\n",
       " 1.3761323591622994,\n",
       " 1.3759627601836362,\n",
       " 1.3759635341792218,\n",
       " 1.3759151637913205,\n",
       " 1.3757645509257068,\n",
       " 1.3757049702397728,\n",
       " 1.3756069746054884,\n",
       " 1.3755417498917293,\n",
       " 1.3754228939815418,\n",
       " 1.3753880895174988,\n",
       " 1.3752642925316385,\n",
       " 1.3752097629134667,\n",
       " 1.3750623062070522,\n",
       " 1.3750308194442615,\n",
       " 1.3749012581988513,\n",
       " 1.374793630935151,\n",
       " 1.374777193197419,\n",
       " 1.3747054626547583,\n",
       " 1.3746266680155723,\n",
       " 1.3744620247686832,\n",
       " 1.3743324226752192,\n",
       " 1.3742817514118404,\n",
       " 1.3742485701194125,\n",
       " 1.3740243645702235,\n",
       " 1.374058872262651,\n",
       " 1.3739732484856426,\n",
       " 1.3738179015802532,\n",
       " 1.3737553936879916,\n",
       " 1.3736252232522839,\n",
       " 1.3735998396846838,\n",
       " 1.3733862628520632,\n",
       " 1.3733778680662807,\n",
       " 1.3732982541396186,\n",
       " 1.3731310617842236,\n",
       " 1.3729519685754006,\n",
       " 1.3729480719696872,\n",
       " 1.3728830621040706,\n",
       " 1.3727338148197772,\n",
       " 1.3726312364589637,\n",
       " 1.3724916210707683,\n",
       " 1.3724362557925636,\n",
       " 1.3722963300743374,\n",
       " 1.3721175457270696,\n",
       " 1.3720758723521882,\n",
       " 1.3718780797053463,\n",
       " 1.3719201812237314,\n",
       " 1.3717171565393738,\n",
       " 1.371646272097178,\n",
       " 1.37149486333316,\n",
       " 1.3714076401949886,\n",
       " 1.3712023453598312,\n",
       " 1.3711186829130544,\n",
       " 1.370946728085915,\n",
       " 1.37088149105987,\n",
       " 1.3707781304790991,\n",
       " 1.3705661181471247,\n",
       " 1.370498690089712,\n",
       " 1.3704132928219084,\n",
       " 1.370273566374228,\n",
       " 1.3701191103257082,\n",
       " 1.3699821049648737,\n",
       " 1.3698656693059452,\n",
       " 1.3697181533073821,\n",
       " 1.3695651014086692,\n",
       " 1.3693839347663312,\n",
       " 1.3693189986396581,\n",
       " 1.3691055614713108,\n",
       " 1.3690227702358138,\n",
       " 1.3688183463121537,\n",
       " 1.3687867457852647,\n",
       " 1.3685764815557555,\n",
       " 1.3685298221706736,\n",
       " 1.3682229307962952,\n",
       " 1.3681683104064206,\n",
       " 1.3680021606036186,\n",
       " 1.3678821113573807,\n",
       " 1.3676752376147214,\n",
       " 1.3675943776346133,\n",
       " 1.3674095490879628,\n",
       " 1.3672553795037912,\n",
       " 1.3671098663355055,\n",
       " 1.367002419329997,\n",
       " 1.366806458265137,\n",
       " 1.3666961302421807,\n",
       " 1.3664422612194822,\n",
       " 1.3662280097871715,\n",
       " 1.3660904321864058,\n",
       " 1.3658998360762462,\n",
       " 1.3657936860474582,\n",
       " 1.3655055513923944,\n",
       " 1.3653645921714737,\n",
       " 1.365195892452895,\n",
       " 1.3650439336216598,\n",
       " 1.3647560914937709,\n",
       " 1.3646365738060853,\n",
       " 1.3644413123400074,\n",
       " 1.364364695572719,\n",
       " 1.3640841048467902,\n",
       " 1.3639011801889322,\n",
       " 1.36375917178142,\n",
       " 1.3635543548598417,\n",
       " 1.3632733308037965,\n",
       " 1.3631445646756217,\n",
       " 1.362967821965246,\n",
       " 1.3626488445683378,\n",
       " 1.362571313999261,\n",
       " 1.3622496773314705,\n",
       " 1.3621658837954294,\n",
       " 1.3617660953163397,\n",
       " 1.3616339312149164,\n",
       " 1.3614874185734762,\n",
       " 1.36125372607931,\n",
       " 1.3610420743877636,\n",
       " 1.3607478679175729,\n",
       " 1.3605537108308636,\n",
       " 1.3603234462721232,\n",
       " 1.3600760348181988,\n",
       " 1.3598056875410987,\n",
       " 1.359627913821592,\n",
       " 1.359340147225592,\n",
       " 1.3592274316694024,\n",
       " 1.3588897908212492,\n",
       " 1.3585873381044413,\n",
       " 1.3584000486003625,\n",
       " 1.3580459132063816,\n",
       " 1.3578724623681884,\n",
       " 1.3574771204826557,\n",
       " 1.3572451006376038,\n",
       " 1.357047334206367,\n",
       " 1.3568387993372415,\n",
       " 1.3564791177217264,\n",
       " 1.356172191788025,\n",
       " 1.3559454979410859,\n",
       " 1.3556701945082779,\n",
       " 1.3553285625917457,\n",
       " 1.3550128809026567,\n",
       " 1.3548081944396058,\n",
       " 1.3544638757983039,\n",
       " 1.3542416838161802,\n",
       " 1.3538187853505703,\n",
       " 1.3535485776741967,\n",
       " 1.3532278757992753,\n",
       " 1.3528794494208232,\n",
       " 1.352579078370775,\n",
       " 1.35223708946003,\n",
       " 1.3519297833273523,\n",
       " 1.3516714230430384,\n",
       " 1.3513308495724246,\n",
       " 1.350937565196842,\n",
       " 1.3506636667525544,\n",
       " 1.3502242872091132,\n",
       " 1.3498731697651831,\n",
       " 1.3494884201949018,\n",
       " 1.3492294703194145,\n",
       " 1.3488726288581576,\n",
       " 1.3484279876662562,\n",
       " 1.3480627021624825,\n",
       " 1.347710918755241,\n",
       " 1.3472937814718196,\n",
       " 1.3469380434166613,\n",
       " 1.3466402187869324,\n",
       " 1.3461198298930084,\n",
       " 1.3457563511968051,\n",
       " 1.3454341437159485,\n",
       " 1.344984194786603,\n",
       " 1.3444469913421495,\n",
       " 1.3439863974375423,\n",
       " 1.3436573366480167,\n",
       " 1.3432221901668928,\n",
       " 1.3427712358340425,\n",
       " 1.3423582074249438,\n",
       " 1.341851195745505,\n",
       " 1.3414771988710041,\n",
       " 1.3410126327280676,\n",
       " 1.3404678691936294,\n",
       " 1.3400426120604125,\n",
       " 1.3396249947544914,\n",
       " 1.3390385534715359,\n",
       " 1.3386174276854412,\n",
       " 1.338102947501422,\n",
       " 1.3375582888943989,\n",
       " 1.33712639714185,\n",
       " 1.3364694669302946,\n",
       " 1.3360304637656228,\n",
       " 1.3355471857872854,\n",
       " 1.334952375834698,\n",
       " 1.3344112485519504,\n",
       " 1.3338324604722311,\n",
       " 1.333327026960768,\n",
       " 1.3327448448640031,\n",
       " 1.3322002438292482,\n",
       " 1.331617927805886,\n",
       " 1.3309849471783446,\n",
       " 1.3303869409813838,\n",
       " 1.3297981551151739,\n",
       " 1.329184227258815,\n",
       " 1.3286004077728655,\n",
       " 1.3279683748955529,\n",
       " 1.3272443464973653,\n",
       " 1.3266584997970459,\n",
       " 1.3259773601382772,\n",
       " 1.3253553158288924,\n",
       " 1.324731564921435,\n",
       " 1.324045838661042,\n",
       " 1.3233506464203648,\n",
       " 1.3226844790144967,\n",
       " 1.3219410095392647,\n",
       " 1.3213130102082156,\n",
       " 1.3205203297588861,\n",
       " 1.319872377334794,\n",
       " 1.3190720826295934,\n",
       " 1.3183016248456643,\n",
       " 1.31754558865996,\n",
       " 1.316778032252036,\n",
       " 1.316037787831405,\n",
       " 1.315245303760096,\n",
       " 1.3144411122588346,\n",
       " 1.313589657775082,\n",
       " 1.3128307924849305,\n",
       " 1.3119449706861332,\n",
       " 1.3110753411821685,\n",
       " 1.3102023320018201,\n",
       " 1.3093656907416658,\n",
       " 1.3084826338258835,\n",
       " 1.3076502205441198,\n",
       " 1.306726437046117,\n",
       " 1.305860235681558,\n",
       " 1.3049688571852904,\n",
       " 1.3038790520349848,\n",
       " 1.3030742851004307,\n",
       " 1.302063042053692,\n",
       " 1.3010359733741237,\n",
       " 1.300096294868206,\n",
       " 1.2990672410136073,\n",
       " 1.298083951233365,\n",
       " 1.2970770125691637,\n",
       " 1.2959393798884733,\n",
       " 1.2950055869761135,\n",
       " 1.2938764447381872,\n",
       " 1.2928139216678052,\n",
       " 1.2916870208399747,\n",
       " 1.2906164713858368,\n",
       " 1.2894911494536492,\n",
       " 1.2883533739913275,\n",
       " 1.287169095734581,\n",
       " 1.286016036322441,\n",
       " 1.284904246342097,\n",
       " 1.2836736382417024,\n",
       " 1.2824723349220453,\n",
       " 1.2812499336099301,\n",
       " 1.2799542218886077,\n",
       " 1.2787405182944305,\n",
       " 1.2774511949310392,\n",
       " 1.2762157184597844,\n",
       " 1.2748995248182249,\n",
       " 1.2735812940625926,\n",
       " 1.2723278047933715,\n",
       " 1.270977591356414,\n",
       " 1.269628129475913,\n",
       " 1.2683301197815036,\n",
       " 1.2669028163697897,\n",
       " 1.2655435405501727,\n",
       " 1.2641686849801872,\n",
       " 1.2625578503182053,\n",
       " 1.261292022897686,\n",
       " 1.259816692795359,\n",
       " 1.2583317601755075,\n",
       " 1.2568158851786433,\n",
       " 1.2553762106542752,\n",
       " 1.2537978136347279,\n",
       " 1.2523602386586992,\n",
       " 1.2507119103595532,\n",
       " 1.2491293453441914,\n",
       " 1.2476466634789198,\n",
       " 1.2460206529944455,\n",
       " 1.244366664540851,\n",
       " 1.2428651152978492,\n",
       " 1.2412084314253673,\n",
       " 1.2395246406078537,\n",
       " 1.2379460548566292,\n",
       " 1.236286336299896,\n",
       " 1.2346811131507287,\n",
       " 1.232923833493349,\n",
       " 1.2311972079596885,\n",
       " 1.2295062718521983,\n",
       " 1.2277260724132293,\n",
       " 1.226006103107023,\n",
       " 1.2242535411968354,\n",
       " 1.2225337810618282,\n",
       " 1.220705283983971,\n",
       " 1.2190170269173415,\n",
       " 1.21717115283462,\n",
       " 1.2153867211279767,\n",
       " 1.213568310529315,\n",
       " 1.211789083934433,\n",
       " 1.209915527177789,\n",
       " 1.2080259245530216,\n",
       " 1.206256101475397,\n",
       " 1.204330105988715,\n",
       " 1.202484183767664,\n",
       " 1.2004446153912132,\n",
       " 1.1985850965954632,\n",
       " 1.1967680882590388,\n",
       " 1.1948014277246952,\n",
       " 1.1928209610468643,\n",
       " 1.190862482143699,\n",
       " 1.1888988504753315,\n",
       " 1.1869904313291877,\n",
       " 1.1850249201438998,\n",
       " 1.1829999499157866,\n",
       " 1.1809389103588475,\n",
       " 1.1789681065398963,\n",
       " 1.1769303321189521,\n",
       " 1.1748136109876286,\n",
       " 1.1727452767985251,\n",
       " 1.1706511620351727,\n",
       " 1.1685731357551865,\n",
       " 1.1662839731443502,\n",
       " 1.1641394374664416,\n",
       " 1.1619696883252197,\n",
       " 1.1598596157468597,\n",
       " 1.1577012277480598,\n",
       " 1.1554116251195532,\n",
       " 1.1530345530790616,\n",
       " 1.1507437637524152,\n",
       " 1.148531394363388,\n",
       " 1.146192001618262,\n",
       " 1.1438433754118187,\n",
       " 1.141498253663265,\n",
       " 1.1390159133825577,\n",
       " 1.1366064959929987,\n",
       " 1.1340935541236654,\n",
       " 1.1315435553242383,\n",
       " 1.1290956373508811,\n",
       " 1.1264815241950916,\n",
       " 1.1238442498188341,\n",
       " 1.1212556450147384,\n",
       " 1.1186008965155878,\n",
       " 1.1157950985307277,\n",
       " 1.1130946752164692,\n",
       " 1.1102482450413915,\n",
       " 1.1074433803200587,\n",
       " 1.1045442249744142,\n",
       " 1.1016821782175084,\n",
       " 1.0986717553742043,\n",
       " 1.0956408443926495,\n",
       " 1.0924987754407722,\n",
       " 1.0894232006390752,\n",
       " 1.08627590033853,\n",
       " 1.0832064353369029,\n",
       " 1.0797889996481655,\n",
       " 1.076602507372121,\n",
       " 1.0732448588434835,\n",
       " 1.0699147706937617,\n",
       " 1.0663863885599376,\n",
       " 1.0629907624163426,\n",
       " 1.0593320811489941,\n",
       " 1.0559159308029362,\n",
       " 1.0522143836849789,\n",
       " 1.0487183358772305,\n",
       " 1.0448917952088734,\n",
       " 1.0412306229033692,\n",
       " 1.0373631306244626,\n",
       " 1.0335259726234889,\n",
       " 1.029591201926448,\n",
       " 1.0257374474716727,\n",
       " 1.0217893885154175,\n",
       " 1.017884431171394,\n",
       " 1.0140030507394604,\n",
       " 1.00985618870614,\n",
       " 1.0060059212877062,\n",
       " 1.0019037895619758,\n",
       " 0.9979340995379753,\n",
       " 0.9938767745675935,\n",
       " 0.9898432784553686,\n",
       " 0.9856996850942809,\n",
       " 0.9816697489718441,\n",
       " 0.9774971908031308,\n",
       " 0.97354103705009,\n",
       " 0.9694980564541357,\n",
       " 0.9654970267625221,\n",
       " 0.961470482281845,\n",
       " 0.957518854906721,\n",
       " 0.9535949902155143,\n",
       " 0.9495195481460488,\n",
       " 0.9458644473485586,\n",
       " 0.9419500516847689,\n",
       " 0.9381826131822254,\n",
       " 0.9342400495359457,\n",
       " 0.9305022212016663,\n",
       " 0.9268316251902724,\n",
       " 0.9231855143301901,\n",
       " 0.9195049601878073,\n",
       " 0.9159836308108454,\n",
       " 0.9125033086926297,\n",
       " 0.9089611652895861,\n",
       " 0.9054779652676899,\n",
       " 0.9023039703658315,\n",
       " 0.8988349372736395,\n",
       " 0.8956567244899835,\n",
       " 0.8923102691805276,\n",
       " 0.8891881998951919,\n",
       " 0.8859968141233694,\n",
       " 0.8830078600595824,\n",
       " 0.879882909177967,\n",
       " 0.8770611434826029,\n",
       " 0.8741009761800319,\n",
       " 0.8713767436191365,\n",
       " 0.8685081459666102,\n",
       " 0.8657812232878204,\n",
       " 0.8631188367500086,\n",
       " 0.8605320901867373,\n",
       " 0.8580852024174995,\n",
       " 0.8555593637971701,\n",
       " 0.8530825224987191,\n",
       " 0.8506860333015872,\n",
       " 0.8483473821190244,\n",
       " 0.8460996552698555]"
      ]
     },
     "execution_count": 122,
     "metadata": {},
     "output_type": "execute_result"
    }
   ],
   "source": [
    "L_loss"
   ]
  },
  {
   "cell_type": "code",
   "execution_count": null,
   "metadata": {},
   "outputs": [],
   "source": []
  },
  {
   "cell_type": "code",
   "execution_count": null,
   "metadata": {},
   "outputs": [],
   "source": []
  },
  {
   "cell_type": "code",
   "execution_count": 123,
   "metadata": {},
   "outputs": [
    {
     "name": "stdout",
     "output_type": "stream",
     "text": [
      "Accuracy = 36.65480422973633%\n"
     ]
    }
   ],
   "source": [
    "y_test = classifier(zt.type(torch.float32))\n",
    "acc = torch.sum(torch.argmax(y_test, dim=-1) == yt) * 100/len(yt)\n",
    "print(\"Accuracy = \" + str(acc.item()) + \"%\")"
   ]
  },
  {
   "cell_type": "code",
   "execution_count": 124,
   "metadata": {},
   "outputs": [
    {
     "data": {
      "text/plain": [
       "tensor([0, 1, 2, 1, 0, 0, 2, 3, 2, 2, 2, 2, 0, 2, 3, 3, 2, 2, 2, 2, 2, 1, 3, 3,\n",
       "        1, 0, 2, 2, 1, 2, 2, 1, 2, 2, 1, 0, 1, 2, 3, 3, 2, 2, 3, 2, 0, 1, 3, 0,\n",
       "        1, 2, 1, 2, 1, 3, 0, 1, 0, 2, 2, 3, 0, 2, 1, 0, 2, 2, 0, 1, 2, 1, 1, 1,\n",
       "        0, 1, 0, 2, 1, 2, 2, 2, 1, 1, 1, 1, 2, 0, 3, 3, 1, 2, 0, 0, 2, 1, 0, 1,\n",
       "        1, 3, 2, 2, 2, 0, 1, 2, 0, 2, 2, 3, 2, 3, 2, 1, 1, 1, 2, 3, 0, 1, 0, 1,\n",
       "        1, 0, 0, 3, 0, 0, 1, 1, 3, 1, 3, 3, 0, 1, 0, 3, 0, 0, 3, 3, 2, 2, 1, 1,\n",
       "        2, 2, 3, 0, 1, 1, 3, 2, 0, 3, 0, 2, 1, 2, 3, 1, 3, 3, 0, 2, 1, 2, 3, 1,\n",
       "        2, 0, 1, 2, 0, 0, 1, 2, 1, 3, 3, 2, 3, 1, 2, 0, 1, 0, 2, 2, 3, 0, 0, 1,\n",
       "        3, 0, 0, 3, 2, 1, 2, 2, 0, 3, 3, 2, 2, 2, 0, 2, 3, 2, 2, 3, 0, 2, 2, 2,\n",
       "        2, 2, 2, 0, 3, 0, 0, 1, 0, 3, 3, 0, 1, 1, 0, 3, 2, 3, 1, 3, 1, 3, 2, 0,\n",
       "        0, 0, 0, 2, 2, 1, 1, 1, 1, 3, 0, 0, 1, 3, 3, 0, 3, 2, 3, 1, 2, 2, 2, 2,\n",
       "        0, 2, 2, 0, 2, 1, 2, 2, 2, 0, 2, 2, 1, 2, 2, 0, 0])"
      ]
     },
     "execution_count": 124,
     "metadata": {},
     "output_type": "execute_result"
    }
   ],
   "source": [
    "torch.argmax(y_test, dim=-1)"
   ]
  },
  {
   "cell_type": "code",
   "execution_count": 125,
   "metadata": {},
   "outputs": [
    {
     "data": {
      "text/plain": [
       "tensor([0, 1, 1, 0, 1, 0, 1, 2, 1, 3, 0, 2, 1, 0, 3, 3, 3, 3, 2, 1, 0, 0, 2, 3,\n",
       "        0, 2, 2, 2, 0, 1, 0, 1, 0, 1, 2, 1, 2, 2, 3, 2, 2, 3, 3, 3, 3, 3, 2, 1,\n",
       "        0, 0, 1, 3, 1, 2, 0, 0, 0, 3, 1, 1, 0, 0, 2, 0, 3, 3, 2, 0, 3, 3, 1, 3,\n",
       "        3, 1, 0, 1, 2, 2, 2, 3, 2, 0, 3, 1, 2, 1, 2, 3, 1, 2, 0, 0, 0, 3, 1, 0,\n",
       "        2, 0, 2, 1, 3, 0, 2, 2, 0, 2, 1, 3, 3, 3, 2, 0, 3, 1, 3, 1, 0, 1, 0, 2,\n",
       "        2, 0, 2, 3, 3, 1, 0, 1, 3, 1, 3, 2, 1, 1, 1, 2, 3, 0, 1, 3, 0, 2, 2, 3,\n",
       "        0, 0, 2, 1, 3, 3, 3, 1, 0, 2, 1, 3, 0, 3, 2, 1, 3, 3, 0, 1, 1, 2, 3, 1,\n",
       "        0, 0, 3, 1, 0, 2, 1, 1, 0, 3, 2, 2, 2, 2, 0, 1, 0, 1, 0, 0, 2, 2, 1, 2,\n",
       "        3, 0, 3, 0, 0, 1, 3, 2, 1, 3, 2, 3, 2, 3, 1, 1, 3, 0, 1, 1, 1, 2, 3, 0,\n",
       "        3, 0, 2, 0, 3, 0, 2, 0, 1, 2, 2, 3, 0, 1, 3, 1, 2, 2, 0, 3, 1, 3, 0, 0,\n",
       "        2, 2, 1, 3, 1, 1, 0, 1, 3, 3, 1, 1, 1, 1, 3, 3, 2, 3, 0, 1, 2, 1, 0, 3,\n",
       "        0, 3, 0, 0, 0, 0, 2, 2, 3, 1, 2, 2, 2, 3, 2, 0, 2])"
      ]
     },
     "execution_count": 125,
     "metadata": {},
     "output_type": "execute_result"
    }
   ],
   "source": [
    "yt"
   ]
  },
  {
   "cell_type": "code",
   "execution_count": 126,
   "metadata": {},
   "outputs": [
    {
     "data": {
      "text/plain": [
       "tensor([[0.3694, 0.2635, 0.3210, 0.0462],\n",
       "        [0.0930, 0.5225, 0.2671, 0.1174],\n",
       "        [0.1550, 0.0242, 0.7853, 0.0355],\n",
       "        ...,\n",
       "        [0.1515, 0.2837, 0.4689, 0.0959],\n",
       "        [0.6851, 0.2232, 0.0782, 0.0135],\n",
       "        [0.7563, 0.1016, 0.1304, 0.0117]], grad_fn=<SoftmaxBackward0>)"
      ]
     },
     "execution_count": 126,
     "metadata": {},
     "output_type": "execute_result"
    }
   ],
   "source": [
    "y_test"
   ]
  },
  {
   "cell_type": "code",
   "execution_count": null,
   "metadata": {},
   "outputs": [],
   "source": []
  },
  {
   "cell_type": "code",
   "execution_count": null,
   "metadata": {},
   "outputs": [],
   "source": []
  },
  {
   "cell_type": "code",
   "execution_count": 67,
   "metadata": {
    "scrolled": true
   },
   "outputs": [
    {
     "name": "stderr",
     "output_type": "stream",
     "text": [
      "100%|██████████| 1000/1000 [54:53<00:00,  3.29s/it, loss = 0.909 sw = 0.002 bce = 0.907 acc = 31.673]\n"
     ]
    }
   ],
   "source": [
    "epochs = 1000\n",
    "num_projs = 500\n",
    "d = 22\n",
    "n_classes = 4\n",
    "lr = 1e-1\n",
    "\n",
    "freq = 0\n",
    "\n",
    "criterion = nn.CrossEntropyLoss()\n",
    "\n",
    "model = SPDNet(d).to(device)\n",
    "classifier = mlp_spd(d*d, 3, n_classes, 5).to(device)\n",
    "\n",
    "optimizer = MixOptimizer(list(model.parameters()) + list(classifier.parameters()), lr=lr,\n",
    "                        momentum=0.9, weight_decay=5e-4)\n",
    "\n",
    "L_loss = []\n",
    "L_sw = []\n",
    "L_classif = []\n",
    "L_acc = []\n",
    "\n",
    "pbar = trange(epochs)\n",
    "\n",
    "for e in pbar:\n",
    "    zs = model(cov_Xs[:,:,freq])\n",
    "    zt = model(cov_Xt[:,:,freq])\n",
    "    \n",
    "    y_hat = classifier(zs.type(torch.float32))\n",
    "    \n",
    "    align_loss = sliced_wasserstein_spd(zs[:,0], zt[:,0], num_projs, device, p=2)\n",
    "    classif_loss = criterion(y_hat, ys)\n",
    "    \n",
    "    loss = align_loss + classif_loss\n",
    "    loss.backward()\n",
    "    \n",
    "    L_loss.append(loss.item())\n",
    "    L_sw.append(align_loss.item())\n",
    "    L_classif.append(classif_loss.item())\n",
    "    \n",
    "    optimizer.step()\n",
    "    optimizer.zero_grad()\n",
    "    \n",
    "    with torch.no_grad():\n",
    "        y_test = classifier(zt.type(torch.float32))\n",
    "        acc = torch.sum(torch.argmax(y_test, dim=-1) == yt) * 100/len(yt)\n",
    "        \n",
    "        L_acc.append(acc.item())\n",
    "    \n",
    "    pbar.set_postfix_str(f\"loss = {loss.item():.3f} \" + f\"sw = {align_loss.item():.3f} \" \n",
    "                         + f\"bce = {classif_loss.item():.3f} \" + f\"acc = {acc.item():.3f}\")\n",
    "#     print(loss.item(), align_loss.item(), classif_loss.item())\n"
   ]
  },
  {
   "cell_type": "code",
   "execution_count": 68,
   "metadata": {},
   "outputs": [
    {
     "data": {
      "image/png": "[encoded data removed]",
      "text/plain": [
       "<Figure size 432x288 with 1 Axes>"
      ]
     },
     "metadata": {
      "needs_background": "light"
     },
     "output_type": "display_data"
    }
   ],
   "source": [
    "plt.plot(L_loss)\n",
    "plt.show()"
   ]
  },
  {
   "cell_type": "code",
   "execution_count": 69,
   "metadata": {},
   "outputs": [
    {
     "data": {
      "image/png": "[encoded data removed]",
      "text/plain": [
       "<Figure size 432x288 with 1 Axes>"
      ]
     },
     "metadata": {
      "needs_background": "light"
     },
     "output_type": "display_data"
    }
   ],
   "source": [
    "plt.plot(L_classif)\n",
    "plt.show()"
   ]
  },
  {
   "cell_type": "code",
   "execution_count": 70,
   "metadata": {},
   "outputs": [
    {
     "data": {
      "image/png": "[encoded data removed]",
      "text/plain": [
       "<Figure size 432x288 with 1 Axes>"
      ]
     },
     "metadata": {
      "needs_background": "light"
     },
     "output_type": "display_data"
    }
   ],
   "source": [
    "plt.plot(L_sw)\n",
    "plt.show()"
   ]
  },
  {
   "cell_type": "code",
   "execution_count": 71,
   "metadata": {},
   "outputs": [
    {
     "data": {
      "image/png": "[encoded data removed]",
      "text/plain": [
       "<Figure size 432x288 with 1 Axes>"
      ]
     },
     "metadata": {
      "needs_background": "light"
     },
     "output_type": "display_data"
    }
   ],
   "source": [
    "plt.plot(L_acc)\n",
    "plt.show()"
   ]
  },
  {
   "cell_type": "code",
   "execution_count": 72,
   "metadata": {},
   "outputs": [
    {
     "name": "stdout",
     "output_type": "stream",
     "text": [
      "Accuracy = 31.672597885131836%\n"
     ]
    }
   ],
   "source": [
    "y_test = classifier(zt.type(torch.float32))\n",
    "acc = torch.sum(torch.argmax(y_test, dim=-1) == yt) * 100/len(yt)\n",
    "print(\"Accuracy = \" + str(acc.item()) + \"%\")"
   ]
  },
  {
   "cell_type": "code",
   "execution_count": null,
   "metadata": {},
   "outputs": [],
   "source": []
  },
  {
   "cell_type": "code",
   "execution_count": 73,
   "metadata": {},
   "outputs": [],
   "source": [
    "log_Xs = linalg.sym_logm(zs.detach().cpu()).reshape(-1, d*d)\n",
    "log_Xt = linalg.sym_logm(zt.detach().cpu()).reshape(-1, d*d)\n",
    "\n",
    "data = torch.cat([log_Xs, log_Xt], dim=0)\n",
    "X_embedded = TSNE(n_components=2, init='random', perplexity=3).fit_transform(data.numpy())"
   ]
  },
  {
   "cell_type": "code",
   "execution_count": 74,
   "metadata": {},
   "outputs": [
    {
     "data": {
      "image/png": "[encoded data removed]",
      "text/plain": [
       "<Figure size 1080x360 with 2 Axes>"
      ]
     },
     "metadata": {
      "needs_background": "light"
     },
     "output_type": "display_data"
    }
   ],
   "source": [
    "fig, ax = plt.subplots(1, 2, figsize=(15,5))\n",
    "\n",
    "ax[0].scatter(X_embedded[:len(log_Xs),0], X_embedded[:len(log_Xs),1], c=\"blue\", label=\"Session 1\")\n",
    "ax[0].scatter(X_embedded[len(log_Xs):,0], X_embedded[len(log_Xs):,1], c=\"red\", label=\"Session 2\")\n",
    "\n",
    "ax[1].scatter(X_embedded[:len(log_Xs),0][ys==0], X_embedded[:len(log_Xs),1][ys==0], c=\"blue\", label=\"Class 0\")\n",
    "ax[1].scatter(X_embedded[:len(log_Xs),0][ys==1], X_embedded[:len(log_Xs),1][ys==1], c=\"red\", label=\"Class 1\")\n",
    "ax[1].scatter(X_embedded[len(log_Xs):,0][yt==0], X_embedded[len(log_Xs):,1][yt==0], c=\"blue\")\n",
    "ax[1].scatter(X_embedded[len(log_Xs):,0][yt==1], X_embedded[len(log_Xs):,1][yt==1], c=\"red\")\n",
    "\n",
    "ax[0].legend()\n",
    "ax[1].legend()\n",
    "\n",
    "plt.suptitle(\"TSNE, Subject 1\")\n",
    "plt.show()"
   ]
  },
  {
   "cell_type": "code",
   "execution_count": null,
   "metadata": {},
   "outputs": [],
   "source": []
  },
  {
   "cell_type": "code",
   "execution_count": null,
   "metadata": {},
   "outputs": [],
   "source": []
  },
  {
   "cell_type": "code",
   "execution_count": null,
   "metadata": {},
   "outputs": [],
   "source": [
    "## TO DO : RELANCER AVEC 10000 EPOQUES"
   ]
  },
  {
   "cell_type": "code",
   "execution_count": 12,
   "metadata": {
    "scrolled": true
   },
   "outputs": [
    {
     "name": "stderr",
     "output_type": "stream",
     "text": [
      "100%|██████████| 5000/5000 [3:44:18<00:00,  2.69s/it, loss = 0.746 sw = 0.002 bce = 0.744 acc = 41.993]  \n"
     ]
    }
   ],
   "source": [
    "epochs = 5000\n",
    "num_projs = 500\n",
    "d = 22\n",
    "n_classes = 4\n",
    "lr = 1e-1\n",
    "\n",
    "freq = 0\n",
    "\n",
    "criterion = nn.CrossEntropyLoss()\n",
    "\n",
    "model = SPDNet(d).to(device)\n",
    "classifier = mlp_spd(d*d, 3, n_classes, 5).to(device)\n",
    "\n",
    "optimizer = MixOptimizer(list(model.parameters()) + list(classifier.parameters()), lr=lr)\n",
    "#                         ,momentum=0.9, weight_decay=5e-4)\n",
    "\n",
    "L_loss = []\n",
    "L_sw = []\n",
    "L_classif = []\n",
    "L_acc = []\n",
    "\n",
    "pbar = trange(epochs)\n",
    "\n",
    "for e in pbar:\n",
    "    zs = model(cov_Xs[:,:,freq])\n",
    "    zt = model(cov_Xt[:,:,freq])\n",
    "    \n",
    "    y_hat = classifier(zs.type(torch.float32))\n",
    "    \n",
    "    align_loss = sliced_wasserstein_spd(zs[:,0], zt[:,0], num_projs, device, p=2)\n",
    "    classif_loss = criterion(y_hat, ys)\n",
    "    \n",
    "    loss = align_loss + classif_loss\n",
    "    loss.backward()\n",
    "    \n",
    "    L_loss.append(loss.item())\n",
    "    L_sw.append(align_loss.item())\n",
    "    L_classif.append(classif_loss.item())\n",
    "    \n",
    "    optimizer.step()\n",
    "    optimizer.zero_grad()\n",
    "    \n",
    "    with torch.no_grad():\n",
    "        y_test = classifier(zt.type(torch.float32))\n",
    "        acc = torch.sum(torch.argmax(y_test, dim=-1) == yt) * 100/len(yt)\n",
    "        \n",
    "        L_acc.append(acc.item())\n",
    "    \n",
    "    pbar.set_postfix_str(f\"loss = {loss.item():.3f} \" + f\"sw = {align_loss.item():.3f} \" \n",
    "                         + f\"bce = {classif_loss.item():.3f} \" + f\"acc = {acc.item():.3f}\")\n",
    "#     print(loss.item(), align_loss.item(), classif_loss.item())\n"
   ]
  },
  {
   "cell_type": "code",
   "execution_count": 13,
   "metadata": {},
   "outputs": [
    {
     "data": {
      "image/png": "[encoded data removed]",
      "text/plain": [
       "<Figure size 432x288 with 1 Axes>"
      ]
     },
     "metadata": {
      "needs_background": "light"
     },
     "output_type": "display_data"
    }
   ],
   "source": [
    "plt.plot(L_loss)\n",
    "plt.show()"
   ]
  },
  {
   "cell_type": "code",
   "execution_count": 14,
   "metadata": {},
   "outputs": [
    {
     "data": {
      "image/png": "[encoded data removed]",
      "text/plain": [
       "<Figure size 432x288 with 1 Axes>"
      ]
     },
     "metadata": {
      "needs_background": "light"
     },
     "output_type": "display_data"
    }
   ],
   "source": [
    "plt.plot(L_classif)\n",
    "plt.show()"
   ]
  },
  {
   "cell_type": "code",
   "execution_count": 15,
   "metadata": {},
   "outputs": [
    {
     "data": {
      "image/png": "[encoded data removed]",
      "text/plain": [
       "<Figure size 432x288 with 1 Axes>"
      ]
     },
     "metadata": {
      "needs_background": "light"
     },
     "output_type": "display_data"
    }
   ],
   "source": [
    "plt.plot(L_sw)\n",
    "plt.show()"
   ]
  },
  {
   "cell_type": "code",
   "execution_count": 16,
   "metadata": {},
   "outputs": [
    {
     "data": {
      "image/png": "[encoded data removed]",
      "text/plain": [
       "<Figure size 432x288 with 1 Axes>"
      ]
     },
     "metadata": {
      "needs_background": "light"
     },
     "output_type": "display_data"
    }
   ],
   "source": [
    "plt.plot(L_acc)\n",
    "plt.show()"
   ]
  },
  {
   "cell_type": "code",
   "execution_count": 17,
   "metadata": {},
   "outputs": [
    {
     "name": "stdout",
     "output_type": "stream",
     "text": [
      "Accuracy = 41.992881774902344%\n"
     ]
    }
   ],
   "source": [
    "y_test = classifier(zt.type(torch.float32))\n",
    "acc = torch.sum(torch.argmax(y_test, dim=-1) == yt) * 100/len(yt)\n",
    "print(\"Accuracy = \" + str(acc.item()) + \"%\")"
   ]
  },
  {
   "cell_type": "code",
   "execution_count": null,
   "metadata": {},
   "outputs": [],
   "source": []
  },
  {
   "cell_type": "code",
   "execution_count": 18,
   "metadata": {},
   "outputs": [],
   "source": [
    "log_Xs = linalg.sym_logm(zs.detach().cpu()).reshape(-1, d*d)\n",
    "log_Xt = linalg.sym_logm(zt.detach().cpu()).reshape(-1, d*d)\n",
    "\n",
    "data = torch.cat([log_Xs, log_Xt], dim=0)\n",
    "X_embedded = TSNE(n_components=2, init='random', perplexity=3).fit_transform(data.numpy())"
   ]
  },
  {
   "cell_type": "code",
   "execution_count": 23,
   "metadata": {},
   "outputs": [
    {
     "data": {
      "image/png": "[encoded data removed]",
      "text/plain": [
       "<Figure size 1080x360 with 2 Axes>"
      ]
     },
     "metadata": {
      "needs_background": "light"
     },
     "output_type": "display_data"
    }
   ],
   "source": [
    "fig, ax = plt.subplots(1, 2, figsize=(15,5))\n",
    "\n",
    "ax[0].scatter(X_embedded[:len(log_Xs),0], X_embedded[:len(log_Xs),1], c=\"blue\", label=\"Session 1\")\n",
    "ax[0].scatter(X_embedded[len(log_Xs):,0], X_embedded[len(log_Xs):,1], c=\"red\", label=\"Session 2\")\n",
    "\n",
    "ax[1].scatter(X_embedded[:len(log_Xs),0][ys==0], X_embedded[:len(log_Xs),1][ys==0], c=\"blue\", label=\"Class 0\")\n",
    "ax[1].scatter(X_embedded[:len(log_Xs),0][ys==1], X_embedded[:len(log_Xs),1][ys==1], c=\"red\", label=\"Class 1\")\n",
    "ax[1].scatter(X_embedded[:len(log_Xs),0][ys==2], X_embedded[:len(log_Xs),1][ys==2], c=\"green\", label=\"Class 2\")\n",
    "ax[1].scatter(X_embedded[:len(log_Xs),0][ys==3], X_embedded[:len(log_Xs),1][ys==3], c=\"yellow\", label=\"Class 3\")\n",
    "\n",
    "ax[1].scatter(X_embedded[len(log_Xs):,0][yt==0], X_embedded[len(log_Xs):,1][yt==0], c=\"blue\")\n",
    "ax[1].scatter(X_embedded[len(log_Xs):,0][yt==1], X_embedded[len(log_Xs):,1][yt==1], c=\"red\")\n",
    "ax[1].scatter(X_embedded[len(log_Xs):,0][yt==2], X_embedded[len(log_Xs):,1][yt==2], c=\"green\")\n",
    "ax[1].scatter(X_embedded[len(log_Xs):,0][yt==3], X_embedded[len(log_Xs):,1][yt==3], c=\"yellow\")\n",
    "\n",
    "ax[0].legend()\n",
    "ax[1].legend()\n",
    "\n",
    "plt.suptitle(\"TSNE, Subject 1\")\n",
    "plt.show()"
   ]
  },
  {
   "cell_type": "code",
   "execution_count": null,
   "metadata": {},
   "outputs": [],
   "source": []
  },
  {
   "cell_type": "markdown",
   "metadata": {},
   "source": [
    "### Baseline: Classifier on source"
   ]
  },
  {
   "cell_type": "code",
   "execution_count": 34,
   "metadata": {},
   "outputs": [
    {
     "name": "stderr",
     "output_type": "stream",
     "text": [
      "100%|██████████| 10000/10000 [23:20<00:00,  7.14it/s, loss = 0.915 acc = 35.231]\n"
     ]
    }
   ],
   "source": [
    "epochs = 10000\n",
    "num_projs = 500\n",
    "d = 22\n",
    "n_classes = 4\n",
    "lr = 1e-2\n",
    "\n",
    "freq = 0\n",
    "\n",
    "criterion = nn.CrossEntropyLoss()\n",
    "\n",
    "classifier = mlp_spd(d*d, 3, n_classes, 5).to(device)\n",
    "\n",
    "optimizer = MixOptimizer(list(classifier.parameters()), lr=lr, momentum=0.9, weight_decay=5e-4)\n",
    "\n",
    "L_loss = []\n",
    "L_acc = []\n",
    "\n",
    "pbar = trange(epochs)\n",
    "\n",
    "for e in pbar:    \n",
    "    y_hat = classifier(cov_Xs[:,:,freq].type(torch.float32))\n",
    "    classif_loss = criterion(y_hat, ys)\n",
    "    \n",
    "    loss = classif_loss\n",
    "    loss.backward()\n",
    "    \n",
    "    L_loss.append(loss.item())\n",
    "    \n",
    "    optimizer.step()\n",
    "    optimizer.zero_grad()\n",
    "    \n",
    "#     pbar.set_postfix_str(f\"loss = {loss.item():.3f} \")\n",
    "#     print(loss.item(), align_loss.item(), classif_loss.item())\n",
    "\n",
    "    with torch.no_grad():\n",
    "        y_test = classifier(cov_Xt[:,:,freq].type(torch.float32))\n",
    "        acc = torch.sum(torch.argmax(y_test, dim=-1) == yt) * 100/len(yt)\n",
    "        \n",
    "        L_acc.append(acc.item())\n",
    "    \n",
    "    pbar.set_postfix_str(f\"loss = {loss.item():.3f} \" + f\"acc = {acc.item():.3f}\")\n"
   ]
  },
  {
   "cell_type": "code",
   "execution_count": 35,
   "metadata": {},
   "outputs": [
    {
     "name": "stdout",
     "output_type": "stream",
     "text": [
      "Accuracy = 35.23131561279297%\n"
     ]
    }
   ],
   "source": [
    "y_test = classifier(cov_Xt[:,:,freq].type(torch.float32))\n",
    "acc = torch.sum(torch.argmax(y_test, dim=-1) == yt) * 100/len(yt)\n",
    "print(\"Accuracy = \" + str(acc.item()) + \"%\")"
   ]
  },
  {
   "cell_type": "code",
   "execution_count": 36,
   "metadata": {},
   "outputs": [
    {
     "data": {
      "image/png": "[encoded data removed]",
      "text/plain": [
       "<Figure size 432x288 with 1 Axes>"
      ]
     },
     "metadata": {
      "needs_background": "light"
     },
     "output_type": "display_data"
    }
   ],
   "source": [
    "plt.plot(L_loss)\n",
    "plt.show()"
   ]
  },
  {
   "cell_type": "code",
   "execution_count": 37,
   "metadata": {},
   "outputs": [
    {
     "data": {
      "image/png": "[encoded data removed]",
      "text/plain": [
       "<Figure size 432x288 with 1 Axes>"
      ]
     },
     "metadata": {
      "needs_background": "light"
     },
     "output_type": "display_data"
    }
   ],
   "source": [
    "plt.plot(L_acc)\n",
    "plt.show()"
   ]
  },
  {
   "cell_type": "code",
   "execution_count": 38,
   "metadata": {},
   "outputs": [],
   "source": [
    "log_Xs = linalg.sym_logm(cov_Xs[:,:,freq].detach().cpu()).reshape(-1, d*d)\n",
    "log_Xt = linalg.sym_logm(cov_Xt[:,:,freq].detach().cpu()).reshape(-1, d*d)"
   ]
  },
  {
   "cell_type": "code",
   "execution_count": 40,
   "metadata": {},
   "outputs": [],
   "source": [
    "data = torch.cat([log_Xs, log_Xt], dim=0)"
   ]
  },
  {
   "cell_type": "code",
   "execution_count": 41,
   "metadata": {},
   "outputs": [],
   "source": [
    "X_embedded = TSNE(n_components=2, init='random', perplexity=3).fit_transform(data.numpy())"
   ]
  },
  {
   "cell_type": "code",
   "execution_count": 42,
   "metadata": {},
   "outputs": [
    {
     "data": {
      "image/png": "[encoded data removed]",
      "text/plain": [
       "<Figure size 1080x360 with 2 Axes>"
      ]
     },
     "metadata": {
      "needs_background": "light"
     },
     "output_type": "display_data"
    }
   ],
   "source": [
    "fig, ax = plt.subplots(1, 2, figsize=(15,5))\n",
    "\n",
    "ax[0].scatter(X_embedded[:len(log_Xs),0], X_embedded[:len(log_Xs),1], c=\"blue\", label=\"Session 1\")\n",
    "ax[0].scatter(X_embedded[len(log_Xs):,0], X_embedded[len(log_Xs):,1], c=\"red\", label=\"Session 2\")\n",
    "\n",
    "ax[1].scatter(X_embedded[:len(log_Xs),0][ys==0], X_embedded[:len(log_Xs),1][ys==0], c=\"blue\", label=\"Class 0\")\n",
    "ax[1].scatter(X_embedded[:len(log_Xs),0][ys==1], X_embedded[:len(log_Xs),1][ys==1], c=\"red\", label=\"Class 1\")\n",
    "ax[1].scatter(X_embedded[:len(log_Xs),0][ys==2], X_embedded[:len(log_Xs),1][ys==2], c=\"green\", label=\"Class 2\")\n",
    "ax[1].scatter(X_embedded[:len(log_Xs),0][ys==3], X_embedded[:len(log_Xs),1][ys==3], c=\"yellow\", label=\"Class 3\")\n",
    "\n",
    "ax[1].scatter(X_embedded[len(log_Xs):,0][yt==0], X_embedded[len(log_Xs):,1][yt==0], c=\"blue\")\n",
    "ax[1].scatter(X_embedded[len(log_Xs):,0][yt==1], X_embedded[len(log_Xs):,1][yt==1], c=\"red\")\n",
    "ax[1].scatter(X_embedded[len(log_Xs):,0][yt==2], X_embedded[len(log_Xs):,1][yt==2], c=\"green\")\n",
    "ax[1].scatter(X_embedded[len(log_Xs):,0][yt==3], X_embedded[len(log_Xs):,1][yt==3], c=\"yellow\")\n",
    "\n",
    "ax[0].legend()\n",
    "ax[1].legend()\n",
    "\n",
    "plt.suptitle(\"TSNE, Subject 1\")\n",
    "plt.show()"
   ]
  },
  {
   "cell_type": "code",
   "execution_count": null,
   "metadata": {},
   "outputs": [],
   "source": []
  },
  {
   "cell_type": "code",
   "execution_count": null,
   "metadata": {},
   "outputs": [],
   "source": []
  },
  {
   "cell_type": "code",
   "execution_count": null,
   "metadata": {},
   "outputs": [],
   "source": []
  },
  {
   "cell_type": "code",
   "execution_count": null,
   "metadata": {},
   "outputs": [],
   "source": []
  },
  {
   "cell_type": "code",
   "execution_count": 17,
   "metadata": {},
   "outputs": [
    {
     "name": "stdout",
     "output_type": "stream",
     "text": [
      "Accuracy = 33.807830810546875%\n"
     ]
    }
   ],
   "source": [
    "y_test = classifier(cov_Xt[:,:,freq].type(torch.float32))\n",
    "acc = torch.sum(torch.argmax(y_test, dim=-1) == yt) * 100/len(yt)\n",
    "print(\"Accuracy = \" + str(acc.item()) + \"%\")"
   ]
  },
  {
   "cell_type": "code",
   "execution_count": 18,
   "metadata": {},
   "outputs": [
    {
     "data": {
      "image/png": "[encoded data removed]",
      "text/plain": [
       "<Figure size 432x288 with 1 Axes>"
      ]
     },
     "metadata": {
      "needs_background": "light"
     },
     "output_type": "display_data"
    }
   ],
   "source": [
    "plt.plot(L_loss)\n",
    "plt.show()"
   ]
  },
  {
   "cell_type": "code",
   "execution_count": null,
   "metadata": {},
   "outputs": [],
   "source": []
  },
  {
   "cell_type": "code",
   "execution_count": 27,
   "metadata": {},
   "outputs": [],
   "source": []
  },
  {
   "cell_type": "code",
   "execution_count": 40,
   "metadata": {},
   "outputs": [],
   "source": [
    "log_Xs = linalg.sym_logm(cov_Xs[:,:,freq].detach().cpu()).reshape(-1, d*d)\n",
    "log_Xt = linalg.sym_logm(cov_Xt[:,:,freq].detach().cpu()).reshape(-1, d*d)"
   ]
  },
  {
   "cell_type": "code",
   "execution_count": 41,
   "metadata": {},
   "outputs": [
    {
     "data": {
      "text/plain": [
       "torch.float64"
      ]
     },
     "execution_count": 41,
     "metadata": {},
     "output_type": "execute_result"
    }
   ],
   "source": [
    "log_Xs.dtype"
   ]
  },
  {
   "cell_type": "code",
   "execution_count": 44,
   "metadata": {},
   "outputs": [],
   "source": [
    "data = torch.cat([log_Xs, log_Xt], dim=0)"
   ]
  },
  {
   "cell_type": "code",
   "execution_count": 46,
   "metadata": {},
   "outputs": [],
   "source": [
    "X_embedded = TSNE(n_components=2, init='random', perplexity=3).fit_transform(data.numpy())"
   ]
  },
  {
   "cell_type": "code",
   "execution_count": 58,
   "metadata": {},
   "outputs": [
    {
     "data": {
      "image/png": "[encoded data removed]",
      "text/plain": [
       "<Figure size 432x288 with 1 Axes>"
      ]
     },
     "metadata": {
      "needs_background": "light"
     },
     "output_type": "display_data"
    }
   ],
   "source": [
    "plt.scatter(X_embedded[:len(log_Xs),0], X_embedded[:len(log_Xs),1], c=\"blue\", label=\"Session 1\")\n",
    "plt.scatter(X_embedded[len(log_Xs):,0], X_embedded[len(log_Xs):,1], c=\"red\", label=\"Session 2\")\n",
    "plt.legend()\n",
    "plt.show()"
   ]
  },
  {
   "cell_type": "code",
   "execution_count": 57,
   "metadata": {},
   "outputs": [
    {
     "data": {
      "image/png": "[encoded data removed]",
      "text/plain": [
       "<Figure size 432x288 with 1 Axes>"
      ]
     },
     "metadata": {
      "needs_background": "light"
     },
     "output_type": "display_data"
    }
   ],
   "source": [
    "plt.scatter(X_embedded[:len(log_Xs),0][ys==0], X_embedded[:len(log_Xs),1][ys==0], c=\"blue\", label=\"Class 0\")\n",
    "plt.scatter(X_embedded[:len(log_Xs),0][ys==1], X_embedded[:len(log_Xs),1][ys==1], c=\"red\", label=\"Class 1\")\n",
    "\n",
    "plt.scatter(X_embedded[len(log_Xs):,0][yt==0], X_embedded[len(log_Xs):,1][yt==0], c=\"blue\")\n",
    "plt.scatter(X_embedded[len(log_Xs):,0][yt==1], X_embedded[len(log_Xs):,1][yt==1], c=\"red\")\n",
    "\n",
    "plt.legend()\n",
    "plt.show()"
   ]
  },
  {
   "cell_type": "code",
   "execution_count": 65,
   "metadata": {},
   "outputs": [
    {
     "data": {
      "image/png": "[encoded data removed]",
      "text/plain": [
       "<Figure size 1080x360 with 2 Axes>"
      ]
     },
     "metadata": {
      "needs_background": "light"
     },
     "output_type": "display_data"
    }
   ],
   "source": [
    "fig, ax = plt.subplots(1, 2, figsize=(15,5))\n",
    "\n",
    "ax[0].scatter(X_embedded[:len(log_Xs),0], X_embedded[:len(log_Xs),1], c=\"blue\", label=\"Session 1\")\n",
    "ax[0].scatter(X_embedded[len(log_Xs):,0], X_embedded[len(log_Xs):,1], c=\"red\", label=\"Session 2\")\n",
    "\n",
    "ax[1].scatter(X_embedded[:len(log_Xs),0][ys==0], X_embedded[:len(log_Xs),1][ys==0], c=\"blue\", label=\"Class 0\")\n",
    "ax[1].scatter(X_embedded[:len(log_Xs),0][ys==1], X_embedded[:len(log_Xs),1][ys==1], c=\"red\", label=\"Class 1\")\n",
    "ax[1].scatter(X_embedded[:len(log_Xs),0][ys==2], X_embedded[:len(log_Xs),1][ys==2], c=\"green\", label=\"Class 2\")\n",
    "ax[1].scatter(X_embedded[:len(log_Xs),0][ys==3], X_embedded[:len(log_Xs),1][ys==3], c=\"yellow\", label=\"Class 3\")\n",
    "\n",
    "ax[1].scatter(X_embedded[len(log_Xs):,0][yt==0], X_embedded[len(log_Xs):,1][yt==0], c=\"blue\")\n",
    "ax[1].scatter(X_embedded[len(log_Xs):,0][yt==1], X_embedded[len(log_Xs):,1][yt==1], c=\"red\")\n",
    "ax[1].scatter(X_embedded[len(log_Xs):,0][yt==2], X_embedded[len(log_Xs):,1][yt==2], c=\"green\")\n",
    "ax[1].scatter(X_embedded[len(log_Xs):,0][yt==3], X_embedded[len(log_Xs):,1][yt==3], c=\"yellow\")\n",
    "\n",
    "ax[0].legend()\n",
    "ax[1].legend()\n",
    "\n",
    "plt.suptitle(\"TSNE, Subject 1\")\n",
    "plt.show()"
   ]
  },
  {
   "cell_type": "code",
   "execution_count": null,
   "metadata": {},
   "outputs": [],
   "source": []
  },
  {
   "cell_type": "markdown",
   "metadata": {},
   "source": [
    "### Golden Score: Classifier on target"
   ]
  },
  {
   "cell_type": "code",
   "execution_count": 108,
   "metadata": {},
   "outputs": [
    {
     "name": "stderr",
     "output_type": "stream",
     "text": [
      "100%|██████████| 10000/10000 [20:28<00:00,  8.14it/s, loss = 0.913 ]\n"
     ]
    }
   ],
   "source": [
    "epochs = 10000\n",
    "# num_projs = 500\n",
    "d = 22\n",
    "n_classes = 4\n",
    "lr = 1e-1\n",
    "\n",
    "freq = 0\n",
    "\n",
    "criterion = nn.CrossEntropyLoss()\n",
    "\n",
    "classifier = mlp_spd(d*d, 100, n_classes, 5).to(device)\n",
    "\n",
    "optimizer = MixOptimizer(list(classifier.parameters()), lr=lr)\n",
    "\n",
    "L_loss = []\n",
    "\n",
    "pbar = trange(epochs)\n",
    "\n",
    "for e in pbar:    \n",
    "    y_hat = classifier(cov_Xt[:,:,freq].type(torch.float32))\n",
    "    classif_loss = criterion(y_hat, yt)\n",
    "    \n",
    "    loss = classif_loss\n",
    "    loss.backward()\n",
    "    \n",
    "    L_loss.append(loss.item())\n",
    "    \n",
    "    optimizer.step()\n",
    "    optimizer.zero_grad()\n",
    "    \n",
    "    pbar.set_postfix_str(f\"loss = {loss.item():.3f} \")\n",
    "#     print(loss.item(), align_loss.item(), classif_loss.item())\n"
   ]
  },
  {
   "cell_type": "code",
   "execution_count": 109,
   "metadata": {},
   "outputs": [
    {
     "name": "stdout",
     "output_type": "stream",
     "text": [
      "Accuracy = 74.37722778320312%\n"
     ]
    }
   ],
   "source": [
    "y_test = classifier(cov_Xt[:,:,freq].type(torch.float32))\n",
    "acc = torch.sum(torch.argmax(y_test, dim=-1) == yt) * 100/len(yt)\n",
    "print(\"Accuracy = \" + str(acc.item()) + \"%\")"
   ]
  },
  {
   "cell_type": "code",
   "execution_count": 110,
   "metadata": {},
   "outputs": [
    {
     "data": {
      "image/png": "[encoded data removed]",
      "text/plain": [
       "<Figure size 432x288 with 1 Axes>"
      ]
     },
     "metadata": {
      "needs_background": "light"
     },
     "output_type": "display_data"
    }
   ],
   "source": [
    "plt.plot(L_loss)\n",
    "plt.show()"
   ]
  },
  {
   "cell_type": "code",
   "execution_count": 111,
   "metadata": {},
   "outputs": [
    {
     "data": {
      "text/plain": [
       "tensor([0, 1, 1, 0, 1, 0, 1, 2, 1, 0, 0, 2, 1, 0, 0, 0, 0, 0, 2, 1, 0, 0, 2, 0,\n",
       "        0, 2, 2, 2, 0, 1, 0, 1, 0, 1, 0, 1, 2, 2, 0, 2, 2, 0, 0, 0, 0, 0, 2, 1,\n",
       "        0, 0, 1, 0, 1, 2, 0, 0, 0, 0, 1, 1, 0, 0, 2, 0, 0, 0, 2, 0, 0, 0, 1, 0,\n",
       "        0, 1, 0, 1, 2, 2, 2, 0, 2, 0, 0, 1, 2, 1, 2, 0, 1, 2, 0, 0, 0, 0, 1, 0,\n",
       "        2, 0, 2, 1, 0, 0, 2, 2, 0, 2, 1, 0, 2, 0, 2, 0, 0, 1, 0, 1, 0, 1, 0, 2,\n",
       "        2, 0, 2, 0, 1, 1, 0, 1, 0, 1, 0, 2, 1, 1, 1, 2, 0, 0, 1, 0, 0, 2, 2, 0,\n",
       "        0, 0, 2, 1, 0, 0, 0, 1, 0, 2, 1, 0, 0, 0, 2, 1, 0, 0, 0, 1, 1, 2, 0, 1,\n",
       "        0, 0, 0, 1, 0, 2, 1, 1, 0, 0, 2, 2, 2, 2, 0, 1, 0, 1, 0, 0, 2, 2, 1, 2,\n",
       "        0, 0, 0, 0, 0, 1, 0, 2, 1, 0, 2, 0, 2, 0, 1, 1, 0, 0, 1, 1, 1, 2, 0, 0,\n",
       "        0, 0, 2, 0, 0, 0, 2, 0, 1, 2, 2, 0, 0, 1, 0, 1, 2, 2, 0, 0, 1, 2, 0, 0,\n",
       "        2, 2, 1, 0, 1, 1, 0, 1, 0, 0, 1, 1, 1, 1, 0, 0, 2, 0, 0, 1, 2, 1, 0, 0,\n",
       "        0, 0, 0, 0, 0, 0, 2, 2, 0, 1, 2, 2, 2, 0, 2, 0, 2])"
      ]
     },
     "execution_count": 111,
     "metadata": {},
     "output_type": "execute_result"
    }
   ],
   "source": [
    "torch.argmax(y_test, dim=-1)"
   ]
  },
  {
   "cell_type": "code",
   "execution_count": 112,
   "metadata": {},
   "outputs": [
    {
     "data": {
      "text/plain": [
       "tensor([0, 1, 1, 0, 1, 0, 1, 2, 1, 3, 0, 2, 1, 0, 3, 3, 3, 3, 2, 1, 0, 0, 2, 3,\n",
       "        0, 2, 2, 2, 0, 1, 0, 1, 0, 1, 2, 1, 2, 2, 3, 2, 2, 3, 3, 3, 3, 3, 2, 1,\n",
       "        0, 0, 1, 3, 1, 2, 0, 0, 0, 3, 1, 1, 0, 0, 2, 0, 3, 3, 2, 0, 3, 3, 1, 3,\n",
       "        3, 1, 0, 1, 2, 2, 2, 3, 2, 0, 3, 1, 2, 1, 2, 3, 1, 2, 0, 0, 0, 3, 1, 0,\n",
       "        2, 0, 2, 1, 3, 0, 2, 2, 0, 2, 1, 3, 3, 3, 2, 0, 3, 1, 3, 1, 0, 1, 0, 2,\n",
       "        2, 0, 2, 3, 3, 1, 0, 1, 3, 1, 3, 2, 1, 1, 1, 2, 3, 0, 1, 3, 0, 2, 2, 3,\n",
       "        0, 0, 2, 1, 3, 3, 3, 1, 0, 2, 1, 3, 0, 3, 2, 1, 3, 3, 0, 1, 1, 2, 3, 1,\n",
       "        0, 0, 3, 1, 0, 2, 1, 1, 0, 3, 2, 2, 2, 2, 0, 1, 0, 1, 0, 0, 2, 2, 1, 2,\n",
       "        3, 0, 3, 0, 0, 1, 3, 2, 1, 3, 2, 3, 2, 3, 1, 1, 3, 0, 1, 1, 1, 2, 3, 0,\n",
       "        3, 0, 2, 0, 3, 0, 2, 0, 1, 2, 2, 3, 0, 1, 3, 1, 2, 2, 0, 3, 1, 3, 0, 0,\n",
       "        2, 2, 1, 3, 1, 1, 0, 1, 3, 3, 1, 1, 1, 1, 3, 3, 2, 3, 0, 1, 2, 1, 0, 3,\n",
       "        0, 3, 0, 0, 0, 0, 2, 2, 3, 1, 2, 2, 2, 3, 2, 0, 2])"
      ]
     },
     "execution_count": 112,
     "metadata": {},
     "output_type": "execute_result"
    }
   ],
   "source": [
    "yt"
   ]
  },
  {
   "cell_type": "code",
   "execution_count": 113,
   "metadata": {},
   "outputs": [
    {
     "data": {
      "text/plain": [
       "tensor([[1.0000e+00, 3.0477e-07, 3.0477e-07, 3.0477e-07],\n",
       "        [7.2193e-05, 9.9978e-01, 7.2193e-05, 7.2193e-05],\n",
       "        [4.5796e-05, 9.9986e-01, 4.5796e-05, 4.5796e-05],\n",
       "        ...,\n",
       "        [1.5903e-05, 1.5903e-05, 9.9995e-01, 1.5903e-05],\n",
       "        [9.9999e-01, 3.6616e-06, 3.6616e-06, 3.6616e-06],\n",
       "        [5.3785e-05, 5.3785e-05, 9.9984e-01, 5.3785e-05]],\n",
       "       grad_fn=<SoftmaxBackward0>)"
      ]
     },
     "execution_count": 113,
     "metadata": {},
     "output_type": "execute_result"
    }
   ],
   "source": [
    "y_test"
   ]
  },
  {
   "cell_type": "code",
   "execution_count": null,
   "metadata": {},
   "outputs": [],
   "source": []
  },
  {
   "cell_type": "code",
   "execution_count": 114,
   "metadata": {},
   "outputs": [
    {
     "name": "stdout",
     "output_type": "stream",
     "text": [
      "mlp_spd(\n",
      "  (dense1): Linear(in_features=484, out_features=500, bias=True)\n",
      "  (dense2): Linear(in_features=500, out_features=200, bias=True)\n",
      "  (dense3): Linear(in_features=200, out_features=100, bias=True)\n",
      "  (dense4): Linear(in_features=100, out_features=4, bias=True)\n",
      "  (logeig): LogEig()\n",
      ")\n"
     ]
    }
   ],
   "source": [
    "print(classifier)"
   ]
  },
  {
   "cell_type": "code",
   "execution_count": null,
   "metadata": {},
   "outputs": [],
   "source": []
  }
 ],
 "metadata": {
  "kernelspec": {
   "display_name": "Python 3",
   "language": "python",
   "name": "python3"
  },
  "language_info": {
   "codemirror_mode": {
    "name": "ipython",
    "version": 3
   },
   "file_extension": ".py",
   "mimetype": "text/x-python",
   "name": "python",
   "nbconvert_exporter": "python",
   "pygments_lexer": "ipython3",
   "version": "3.7.9"
  },
  "toc": {
   "base_numbering": 1,
   "nav_menu": {},
   "number_sections": true,
   "sideBar": true,
   "skip_h1_title": true,
   "title_cell": "Table of Contents",
   "title_sidebar": "Contents",
   "toc_cell": false,
   "toc_position": {},
   "toc_section_display": true,
   "toc_window_display": true
  }
 },
 "nbformat": 4,
 "nbformat_minor": 4
}
