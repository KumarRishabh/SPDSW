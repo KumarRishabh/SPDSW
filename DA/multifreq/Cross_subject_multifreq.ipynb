{
 "cells": [
  {
   "cell_type": "code",
   "execution_count": 1,
   "id": "740df75b",
   "metadata": {},
   "outputs": [],
   "source": [
    "import sys\n",
    "import torch\n",
    "import geoopt\n",
    "\n",
    "import numpy as np\n",
    "import torch.nn as nn\n",
    "import torch.nn.functional as F\n",
    "import matplotlib.pyplot as plt\n",
    "\n",
    "from tqdm import trange\n",
    "from sklearn.manifold import TSNE, SpectralEmbedding\n",
    "from sklearn.decomposition import PCA\n",
    "from sklearn.neighbors import KNeighborsClassifier\n",
    "from sklearn.linear_model import LogisticRegression, LogisticRegressionCV\n",
    "from sklearn.metrics import accuracy_score\n",
    "from sklearn.model_selection import GridSearchCV\n",
    "from sklearn.svm import SVC\n",
    "from sklearn.pipeline import make_pipeline\n",
    "from geoopt import linalg, ManifoldParameter, Stiefel\n",
    "from geoopt.optim import RiemannianSGD, RiemannianAdam\n",
    "from copy import deepcopy\n",
    "\n",
    "sys.path.append(\"./lib/data\")\n",
    "from get_data import get_data, get_cov2\n",
    "\n",
    "sys.path.append(\"./lib\")\n",
    "from swspd import sliced_wasserstein_spd\n",
    "# from transformations import Translation, Rotation, sym_reeig"
   ]
  },
  {
   "cell_type": "code",
   "execution_count": 2,
   "id": "cc8bdc5c",
   "metadata": {},
   "outputs": [
    {
     "data": {
      "text/plain": [
       "'cpu'"
      ]
     },
     "execution_count": 2,
     "metadata": {},
     "output_type": "execute_result"
    }
   ],
   "source": [
    "device = \"cuda\" if torch.cuda.is_available() else \"cpu\"\n",
    "device = \"cpu\"\n",
    "device"
   ]
  },
  {
   "cell_type": "code",
   "execution_count": 3,
   "id": "f27423be",
   "metadata": {},
   "outputs": [],
   "source": [
    "def plot_embedding(Xs, Xt, suptitle=None, embedding=\"tsne\"):\n",
    "    d = Xs.shape[-1]\n",
    "    log_Xs = linalg.sym_logm(Xs.detach().cpu()).reshape(-1, d*d)\n",
    "    log_Xt = linalg.sym_logm(Xt.detach().cpu()).reshape(-1, d*d)\n",
    "\n",
    "    log_data = torch.cat([log_Xs, log_Xt], dim=0)\n",
    "    \n",
    "    if embedding == \"tsne\":\n",
    "        X_embedded = TSNE(n_components=2, init='random', perplexity=3).fit_transform(log_data.numpy())\n",
    "    elif embedding == \"pca\":\n",
    "        X_embedded = PCA(n_components=2).fit_transform(log_data.numpy())\n",
    "    elif embedding == \"spectral\":\n",
    "        X_embedded = SpectralEmbedding(n_components=2).fit_transform(log_data.numpy())\n",
    "\n",
    "\n",
    "    fig, ax = plt.subplots(1, 2, figsize=(15,5))\n",
    "\n",
    "    ax[0].scatter(X_embedded[:len(log_Xs),0], X_embedded[:len(log_Xs),1], c=\"blue\", label=\"Session 1\")\n",
    "    ax[0].scatter(X_embedded[len(log_Xs):,0], X_embedded[len(log_Xs):,1], c=\"red\", label=\"Session 2\")\n",
    "\n",
    "    ax[1].scatter(X_embedded[:len(log_Xs),0][ys==0], X_embedded[:len(log_Xs),1][ys==0], c=\"blue\", label=\"Class 0\")\n",
    "    ax[1].scatter(X_embedded[:len(log_Xs),0][ys==1], X_embedded[:len(log_Xs),1][ys==1], c=\"red\", label=\"Class 1\")\n",
    "    ax[1].scatter(X_embedded[:len(log_Xs),0][ys==2], X_embedded[:len(log_Xs),1][ys==2], c=\"green\", label=\"Class 2\")\n",
    "    ax[1].scatter(X_embedded[:len(log_Xs),0][ys==3], X_embedded[:len(log_Xs),1][ys==3], c=\"yellow\", label=\"Class 3\")\n",
    "\n",
    "    ax[1].scatter(X_embedded[len(log_Xs):,0][yt==0], X_embedded[len(log_Xs):,1][yt==0], c=\"blue\")\n",
    "    ax[1].scatter(X_embedded[len(log_Xs):,0][yt==1], X_embedded[len(log_Xs):,1][yt==1], c=\"red\")\n",
    "    ax[1].scatter(X_embedded[len(log_Xs):,0][yt==2], X_embedded[len(log_Xs):,1][yt==2], c=\"green\")\n",
    "    ax[1].scatter(X_embedded[len(log_Xs):,0][yt==3], X_embedded[len(log_Xs):,1][yt==3], c=\"yellow\")\n",
    "\n",
    "    ax[0].legend()\n",
    "    ax[1].legend()\n",
    "    \n",
    "    if suptitle is not None:\n",
    "        plt.suptitle(suptitle)\n",
    "        \n",
    "    plt.show()"
   ]
  },
  {
   "cell_type": "markdown",
   "id": "cc325970",
   "metadata": {},
   "source": [
    "### Data"
   ]
  },
  {
   "cell_type": "code",
   "execution_count": 4,
   "id": "527a1575",
   "metadata": {},
   "outputs": [
    {
     "name": "stdout",
     "output_type": "stream",
     "text": [
      "torch.Size([273, 1, 43, 22, 22]) torch.Size([281, 1, 43, 22, 22])\n"
     ]
    }
   ],
   "source": [
    "Xs, ys = get_data(1, True, \"./dataset/\")\n",
    "cov_Xs = torch.tensor(get_cov2(Xs), device=device) #, dtype=torch.float32)\n",
    "ys = torch.tensor(ys, device=device, dtype=torch.long)-1\n",
    "\n",
    "Xt, yt = get_data(1, False, \"./dataset/\")\n",
    "cov_Xt = torch.tensor(get_cov2(Xt), device=device) #, dtype=torch.float32)\n",
    "yt = torch.tensor(yt, device=device, dtype=torch.long)-1\n",
    "\n",
    "# plot_embedding(cov_Xs[:,:,0], cov_Xt[:,:,0], suptitle=\"PCA Subject \"+str(subject), embedding=\"pca\")\n",
    "\n",
    "print(cov_Xs.shape, cov_Xt.shape)"
   ]
  },
  {
   "cell_type": "markdown",
   "id": "09c90d61",
   "metadata": {},
   "source": [
    "### NN"
   ]
  },
  {
   "cell_type": "code",
   "execution_count": 5,
   "id": "f4a0e604",
   "metadata": {},
   "outputs": [],
   "source": [
    "class Translation(nn.Module):\n",
    "    def __init__(self, d, n_freq, device):\n",
    "        super().__init__()\n",
    "\n",
    "        manifold_spdai = geoopt.SymmetricPositiveDefinite(\"AIM\")        \n",
    "        self._W = ManifoldParameter(torch.eye(d, dtype=torch.double, device=device)[None, :].repeat(n_freq, 1, 1), manifold=manifold_spdai)\n",
    "\n",
    "        with torch.no_grad():\n",
    "            self._W.proj_()\n",
    "\n",
    "    def forward(self, X):\n",
    "        return torch.matmul(self._W, torch.matmul(X, self._W.transpose(2, 1)))\n",
    "\n",
    "class Rotation(nn.Module):\n",
    "    def __init__(self, d, n_freq, device):\n",
    "        super().__init__()\n",
    "\n",
    "        manifold = Stiefel()        \n",
    "        self._W = ManifoldParameter(torch.eye(d, dtype=torch.double, device=device)[None, :].repeat(n_freq, 1, 1), manifold=manifold)\n",
    "\n",
    "        with torch.no_grad():\n",
    "            self._W.proj_()\n",
    "\n",
    "    def forward(self, X):\n",
    "        return torch.matmul(self._W, torch.matmul(X, self._W.transpose(2, 1)))\n",
    "\n",
    "\n",
    "class Transformations(nn.Module):\n",
    "    def __init__(self, d, n_freq, device, seed=42):\n",
    "        super().__init__()\n",
    "        torch.manual_seed(seed)\n",
    "        self.translation = Translation(d, n_freq, device)\n",
    "        self.rotation = Rotation(d, n_freq,device)\n",
    "\n",
    "    def forward(self, X):\n",
    "        Y = self.translation(X)\n",
    "        Y = self.rotation(Y)\n",
    "        return Y"
   ]
  },
  {
   "cell_type": "code",
   "execution_count": 6,
   "id": "f356f039",
   "metadata": {},
   "outputs": [],
   "source": [
    "# class SPDNet(nn.Module):\n",
    "#     def __init__(self, d):\n",
    "#         super().__init__()\n",
    "        \n",
    "#         self.translation1 = Translation(d)\n",
    "#         self.rotation1 = Rotation(d)\n",
    "        \n",
    "#         self.translation2 = Translation(d)\n",
    "#         self.rotation2 = Rotation(d)\n",
    "    \n",
    "#     def forward(self, X):\n",
    "# #         Y = self.rotation1(self.translation1(X))\n",
    "# #         Y = self.rotation1(X)\n",
    "#         Y = sym_reeig(self.rotation1(self.translation1(X)))\n",
    "#         Y = self.rotation2(self.translation2(Y))\n",
    "        \n",
    "#         return Y"
   ]
  },
  {
   "cell_type": "code",
   "execution_count": 7,
   "id": "dd2d6714",
   "metadata": {},
   "outputs": [],
   "source": [
    "# class BasicTransf(nn.Module):\n",
    "#     def __init__(self, d):\n",
    "#         super().__init__()\n",
    "        \n",
    "#         self.translation1 = Translation(d)\n",
    "#         self.rotation1 = Rotation(d)\n",
    "    \n",
    "#     def forward(self, X):\n",
    "#         Y = self.rotation1(self.translation1(X))\n",
    "        \n",
    "#         return Y"
   ]
  },
  {
   "cell_type": "code",
   "execution_count": 8,
   "id": "7f2f23a4",
   "metadata": {},
   "outputs": [],
   "source": [
    "from sklearn.base import BaseEstimator, TransformerMixin\n",
    "\n",
    "\n",
    "class FeaturesKernel(BaseEstimator, TransformerMixin):\n",
    "    \n",
    "    def __init__(self, sigma=1.):\n",
    "        self.sigma = sigma\n",
    "    \n",
    "    def fit(self, X, y=None):\n",
    "        self.X = X.astype(np.float64)\n",
    "        self.N =  np.sum(self.X ** 2, axis=(2, 3))\n",
    "#         print(self.N)\n",
    "        return self\n",
    "    \n",
    "    def transform(self, X, y=None):\n",
    "        C = 1.\n",
    "        X_d = X.astype(np.float64)\n",
    "        \n",
    "#         print(\"??\", self.N)\n",
    "        \n",
    "        N = np.sum(X_d ** 2, axis=(2, 3))\n",
    "        for i in range(X_d.shape[1]):\n",
    "            C1 = self.N[None, :, i] + N[:, i, None]\n",
    "            C2 = X_d[:, i].reshape(X_d.shape[0], -1) @ self.X[:, i].reshape(self.X.shape[0], -1).T\n",
    "            C_current = np.exp(-(C1 - 2 * C2) / (self.sigma ** 2))\n",
    "            C += C_current\n",
    "        \n",
    "        return C \n",
    "    \n",
    "    def get_params(self, deep=True):\n",
    "        return {\"sigma\": self.sigma}\n",
    "\n",
    "    def set_params(self, **parameters):\n",
    "        for parameter, value in parameters.items():\n",
    "            setattr(self, parameter, value)\n",
    "        return self"
   ]
  },
  {
   "cell_type": "markdown",
   "id": "0b018f4f",
   "metadata": {},
   "source": [
    "### Subject 1 to 3"
   ]
  },
  {
   "cell_type": "code",
   "execution_count": 17,
   "id": "66098fd7",
   "metadata": {},
   "outputs": [],
   "source": [
    "Xs, ys = get_data(1, True, \"./dataset/\")\n",
    "cov_Xs = torch.tensor(get_cov2(Xs), device=device) #, dtype=torch.float32)\n",
    "ys = torch.tensor(ys, device=device, dtype=torch.long)-1\n",
    "\n",
    "Xt, yt = get_data(3, True, \"./dataset/\")\n",
    "cov_Xt = torch.tensor(get_cov2(Xt), device=device) #, dtype=torch.float32)\n",
    "yt = torch.tensor(yt, device=device, dtype=torch.long)-1"
   ]
  },
  {
   "cell_type": "code",
   "execution_count": 18,
   "id": "8ed85531",
   "metadata": {},
   "outputs": [],
   "source": [
    "d = 22\n",
    "n_classes = 4\n",
    "n_freq = cov_Xs.shape[2]"
   ]
  },
  {
   "cell_type": "code",
   "execution_count": 19,
   "id": "7ff03411",
   "metadata": {},
   "outputs": [
    {
     "name": "stderr",
     "output_type": "stream",
     "text": [
      "100%|████████████████████████████████████████████████████████████████████████████████████████████████████████████████████████████████████████████████████████████| 500/500 [2:16:04<00:00, 16.33s/it, loss = 0.207]\n"
     ]
    }
   ],
   "source": [
    "epochs = 500\n",
    "num_projs = 500\n",
    "\n",
    "model = Transformations(d, n_freq, device)\n",
    "optimizer = RiemannianSGD(model.parameters(), lr=1e-1)\n",
    "# optimizer = RiemannianAdam(model.parameters(), lr=1e-1)\n",
    "\n",
    "L_loss = []\n",
    "\n",
    "pbar = trange(epochs)\n",
    "\n",
    "for e in pbar:\n",
    "    zs = model(cov_Xs)\n",
    "    loss = 0\n",
    "    for i in range(zs.shape[2]):\n",
    "        sw = sliced_wasserstein_spd(zs[:,0,i], cov_Xt[:,0,i], num_projs, device, p=2)\n",
    "        loss += sw\n",
    "        \n",
    "    loss.backward()\n",
    "    optimizer.step()\n",
    "    optimizer.zero_grad()\n",
    "    \n",
    "    L_loss.append(loss.item())\n",
    "    \n",
    "    pbar.set_postfix_str(f\"loss = {loss.item():.3f}\")"
   ]
  },
  {
   "cell_type": "code",
   "execution_count": 20,
   "id": "3d8a50d0",
   "metadata": {},
   "outputs": [
    {
     "data": {
      "image/png": "[encoded data removed]",
      "text/plain": [
       "<Figure size 432x288 with 1 Axes>"
      ]
     },
     "metadata": {
      "needs_background": "light"
     },
     "output_type": "display_data"
    }
   ],
   "source": [
    "plt.plot(L_loss)\n",
    "plt.show()"
   ]
  },
  {
   "cell_type": "code",
   "execution_count": null,
   "id": "880e0ff6",
   "metadata": {},
   "outputs": [],
   "source": []
  },
  {
   "cell_type": "code",
   "execution_count": 24,
   "id": "a1ff9d28",
   "metadata": {},
   "outputs": [
    {
     "name": "stdout",
     "output_type": "stream",
     "text": [
      "1.0\n",
      "0.6555555555555556\n"
     ]
    }
   ],
   "source": [
    "log_Xs = linalg.sym_logm(model(cov_Xs)[:, 0]).detach().cpu().numpy()\n",
    "log_Xt = linalg.sym_logm(cov_Xt[:, 0]).detach().cpu().numpy()\n",
    "\n",
    "\n",
    "svc = make_pipeline(\n",
    "    FeaturesKernel(7),\n",
    "    GridSearchCV(SVC(), {\"C\": np.logspace(-2, 2, 10), \"kernel\": [\"precomputed\"]}, n_jobs=10)\n",
    ")\n",
    "\n",
    "# svc = LinearSVC(C = 0.1, intercept_scaling=1., max_iter=10000, loss='hinge', multi_class='ovr', penalty='l2', random_state=1, tol=0.00001)\n",
    "\n",
    "svc.fit(log_Xs, ys.cpu())\n",
    "print(svc.score(log_Xs, ys.cpu()))\n",
    "print(svc.score(log_Xt, yt.cpu()))"
   ]
  },
  {
   "cell_type": "code",
   "execution_count": 25,
   "id": "eb41b4ca",
   "metadata": {},
   "outputs": [
    {
     "name": "stdout",
     "output_type": "stream",
     "text": [
      "1.0\n",
      "0.5037037037037037\n"
     ]
    }
   ],
   "source": [
    "log_Xs = linalg.sym_logm(cov_Xs[:, 0]).detach().cpu().numpy()\n",
    "log_Xt = linalg.sym_logm(cov_Xt[:, 0]).detach().cpu().numpy()\n",
    "\n",
    "\n",
    "svc = make_pipeline(\n",
    "    FeaturesKernel(7),\n",
    "    GridSearchCV(SVC(), {\"C\": np.logspace(-2, 2, 10), \"kernel\": [\"precomputed\"]}, n_jobs=10)\n",
    ")\n",
    "\n",
    "# svc = LinearSVC(C = 0.1, intercept_scaling=1., max_iter=10000, loss='hinge', multi_class='ovr', penalty='l2', random_state=1, tol=0.00001)\n",
    "\n",
    "svc.fit(log_Xs, ys.cpu())\n",
    "print(svc.score(log_Xs, ys.cpu()))\n",
    "print(svc.score(log_Xt, yt.cpu()))"
   ]
  },
  {
   "cell_type": "code",
   "execution_count": null,
   "id": "7eff4f9a",
   "metadata": {},
   "outputs": [],
   "source": []
  },
  {
   "cell_type": "code",
   "execution_count": 26,
   "id": "a236b50d",
   "metadata": {},
   "outputs": [
    {
     "name": "stderr",
     "output_type": "stream",
     "text": [
      "2023-01-02 13:47:47.145200: I tensorflow/core/platform/cpu_feature_guard.cc:193] This TensorFlow binary is optimized with oneAPI Deep Neural Network Library (oneDNN) to use the following CPU instructions in performance-critical operations:  AVX2 FMA\n",
      "To enable them in other operations, rebuild TensorFlow with the appropriate compiler flags.\n",
      "2023-01-02 13:47:47.401711: W tensorflow/compiler/xla/stream_executor/platform/default/dso_loader.cc:64] Could not load dynamic library 'libcudart.so.11.0'; dlerror: libcudart.so.11.0: cannot open shared object file: No such file or directory\n",
      "2023-01-02 13:47:47.401746: I tensorflow/compiler/xla/stream_executor/cuda/cudart_stub.cc:29] Ignore above cudart dlerror if you do not have a GPU set up on your machine.\n",
      "2023-01-02 13:47:48.762511: W tensorflow/compiler/xla/stream_executor/platform/default/dso_loader.cc:64] Could not load dynamic library 'libnvinfer.so.7'; dlerror: libnvinfer.so.7: cannot open shared object file: No such file or directory\n",
      "2023-01-02 13:47:48.762610: W tensorflow/compiler/xla/stream_executor/platform/default/dso_loader.cc:64] Could not load dynamic library 'libnvinfer_plugin.so.7'; dlerror: libnvinfer_plugin.so.7: cannot open shared object file: No such file or directory\n",
      "2023-01-02 13:47:48.762621: W tensorflow/compiler/tf2tensorrt/utils/py_utils.cc:38] TF-TRT Warning: Cannot dlopen some TensorRT libraries. If you would like to use Nvidia GPU with TensorRT, please make sure the missing libraries mentioned above are installed properly.\n"
     ]
    }
   ],
   "source": [
    "import ot"
   ]
  },
  {
   "cell_type": "code",
   "execution_count": 31,
   "id": "bc6878fd",
   "metadata": {},
   "outputs": [
    {
     "name": "stderr",
     "output_type": "stream",
     "text": [
      "/share/home/bonet/.conda/envs/pytorch/lib/python3.9/site-packages/geoopt/manifolds/symmetric_positive_definite.py:52: UserWarning: SPDMetric.LEM is not fully implemented and results may be not as you expect\n",
      "  warnings.warn(\n",
      "100%|██████████████████████████████████████████████████████████████████████████████████████████████████████████████████████████████████████████████████████████| 500/500 [1:14:43<00:00,  8.97s/it, loss = 272.548]\n"
     ]
    }
   ],
   "source": [
    "epochs = 500\n",
    "num_projs = 500\n",
    "\n",
    "model = Transformations(d, n_freq, device)\n",
    "optimizer = RiemannianSGD(model.parameters(), lr=1e-2)\n",
    "# optimizer = RiemannianAdam(model.parameters(), lr=1e-1)\n",
    "\n",
    "manifold_spdai = geoopt.SymmetricPositiveDefinite(\"LEM\")        \n",
    "\n",
    "\n",
    "L_loss = []\n",
    "\n",
    "pbar = trange(epochs)\n",
    "\n",
    "for e in pbar:\n",
    "    zs = model(cov_Xs)\n",
    "    loss = 0\n",
    "    for i in range(zs.shape[2]):\n",
    "#         sw = sliced_wasserstein_spd(zs[:,0,i], cov_Xt[:,0,i], num_projs, device, p=2)\n",
    "#         loss += sw\n",
    "        \n",
    "        a = torch.ones((len(zs),), device=device, dtype=torch.float64)/len(zs)\n",
    "        b = torch.ones((len(cov_Xt),), device=device, dtype=torch.float64)/len(cov_Xt)\n",
    "        M = manifold_spdai.dist(zs[:,0,i][:,None], cov_Xt[:,0,i][None])**2\n",
    "        loss += 0.1 * ot.emd2(a, b, M)\n",
    "        \n",
    "    loss.backward()\n",
    "    optimizer.step()\n",
    "    optimizer.zero_grad()\n",
    "    \n",
    "    L_loss.append(loss.item())\n",
    "    \n",
    "    pbar.set_postfix_str(f\"loss = {loss.item():.3f}\")"
   ]
  },
  {
   "cell_type": "code",
   "execution_count": 32,
   "id": "3d8a50d0",
   "metadata": {},
   "outputs": [
    {
     "data": {
      "image/png": "[encoded data removed]",
      "text/plain": [
       "<Figure size 432x288 with 1 Axes>"
      ]
     },
     "metadata": {
      "needs_background": "light"
     },
     "output_type": "display_data"
    }
   ],
   "source": [
    "plt.plot(L_loss)\n",
    "plt.show()"
   ]
  },
  {
   "cell_type": "code",
   "execution_count": null,
   "id": "880e0ff6",
   "metadata": {},
   "outputs": [],
   "source": []
  },
  {
   "cell_type": "code",
   "execution_count": null,
   "id": "f8aa24d4",
   "metadata": {},
   "outputs": [],
   "source": []
  },
  {
   "cell_type": "code",
   "execution_count": 33,
   "id": "a1ff9d28",
   "metadata": {},
   "outputs": [
    {
     "name": "stdout",
     "output_type": "stream",
     "text": [
      "1.0\n",
      "0.6296296296296297\n"
     ]
    }
   ],
   "source": [
    "log_Xs = linalg.sym_logm(model(cov_Xs)[:, 0]).detach().cpu().numpy()\n",
    "log_Xt = linalg.sym_logm(cov_Xt[:, 0]).detach().cpu().numpy()\n",
    "\n",
    "\n",
    "svc = make_pipeline(\n",
    "    FeaturesKernel(7),\n",
    "    GridSearchCV(SVC(), {\"C\": np.logspace(-2, 2, 10), \"kernel\": [\"precomputed\"]}, n_jobs=10)\n",
    ")\n",
    "\n",
    "# svc = LinearSVC(C = 0.1, intercept_scaling=1., max_iter=10000, loss='hinge', multi_class='ovr', penalty='l2', random_state=1, tol=0.00001)\n",
    "\n",
    "svc.fit(log_Xs, ys.cpu())\n",
    "print(svc.score(log_Xs, ys.cpu()))\n",
    "print(svc.score(log_Xt, yt.cpu()))"
   ]
  },
  {
   "cell_type": "code",
   "execution_count": 34,
   "id": "b27ecaf2",
   "metadata": {},
   "outputs": [
    {
     "name": "stdout",
     "output_type": "stream",
     "text": [
      "1.0\n",
      "0.5037037037037037\n"
     ]
    }
   ],
   "source": [
    "log_Xs = linalg.sym_logm(cov_Xs[:, 0]).detach().cpu().numpy()\n",
    "log_Xt = linalg.sym_logm(cov_Xt[:, 0]).detach().cpu().numpy()\n",
    "\n",
    "\n",
    "svc = make_pipeline(\n",
    "    FeaturesKernel(7),\n",
    "    GridSearchCV(SVC(), {\"C\": np.logspace(-2, 2, 10), \"kernel\": [\"precomputed\"]}, n_jobs=10)\n",
    ")\n",
    "\n",
    "# svc = LinearSVC(C = 0.1, intercept_scaling=1., max_iter=10000, loss='hinge', multi_class='ovr', penalty='l2', random_state=1, tol=0.00001)\n",
    "\n",
    "svc.fit(log_Xs, ys.cpu())\n",
    "print(svc.score(log_Xs, ys.cpu()))\n",
    "print(svc.score(log_Xt, yt.cpu()))"
   ]
  },
  {
   "cell_type": "code",
   "execution_count": null,
   "id": "45670dd5",
   "metadata": {},
   "outputs": [],
   "source": []
  },
  {
   "cell_type": "code",
   "execution_count": 36,
   "id": "82675f85",
   "metadata": {},
   "outputs": [
    {
     "name": "stderr",
     "output_type": "stream",
     "text": [
      "100%|██████████████████████████████████████████████████████████████████████████████████████████████████████████████████████████████████████████████████████████| 500/500 [1:02:52<00:00,  7.55s/it, loss = 283.083]\n"
     ]
    }
   ],
   "source": [
    "epochs = 500\n",
    "num_projs = 500\n",
    "\n",
    "model = Transformations(d, n_freq, device)\n",
    "optimizer = RiemannianSGD(model.parameters(), lr=1e-3)\n",
    "# optimizer = RiemannianAdam(model.parameters(), lr=1e-1)\n",
    "\n",
    "manifold_spdai = geoopt.SymmetricPositiveDefinite(\"LEM\")        \n",
    "\n",
    "\n",
    "L_loss = []\n",
    "\n",
    "pbar = trange(epochs)\n",
    "\n",
    "for e in pbar:\n",
    "    zs = model(cov_Xs)\n",
    "    loss = 0\n",
    "    for i in range(zs.shape[2]):\n",
    "#         sw = sliced_wasserstein_spd(zs[:,0,i], cov_Xt[:,0,i], num_projs, device, p=2)\n",
    "#         loss += sw\n",
    "        \n",
    "        a = torch.ones((len(zs),), device=device, dtype=torch.float64)/len(zs)\n",
    "        b = torch.ones((len(cov_Xt),), device=device, dtype=torch.float64)/len(cov_Xt)\n",
    "        M = manifold_spdai.dist(zs[:,0,i][:,None], cov_Xt[:,0,i][None])**2\n",
    "        loss += 0.1 * ot.emd2(a, b, M)\n",
    "        \n",
    "    loss.backward()\n",
    "    optimizer.step()\n",
    "    optimizer.zero_grad()\n",
    "    \n",
    "    L_loss.append(loss.item())\n",
    "    \n",
    "    pbar.set_postfix_str(f\"loss = {loss.item():.3f}\")"
   ]
  },
  {
   "cell_type": "code",
   "execution_count": 37,
   "id": "727a9c54",
   "metadata": {},
   "outputs": [
    {
     "data": {
      "image/png": "[encoded data removed]",
      "text/plain": [
       "<Figure size 432x288 with 1 Axes>"
      ]
     },
     "metadata": {
      "needs_background": "light"
     },
     "output_type": "display_data"
    }
   ],
   "source": [
    "plt.plot(L_loss)\n",
    "plt.show()"
   ]
  },
  {
   "cell_type": "code",
   "execution_count": 38,
   "id": "b0358e37",
   "metadata": {},
   "outputs": [
    {
     "name": "stdout",
     "output_type": "stream",
     "text": [
      "1.0\n",
      "0.6222222222222222\n"
     ]
    }
   ],
   "source": [
    "log_Xs = linalg.sym_logm(model(cov_Xs)[:, 0]).detach().cpu().numpy()\n",
    "log_Xt = linalg.sym_logm(cov_Xt[:, 0]).detach().cpu().numpy()\n",
    "\n",
    "\n",
    "svc = make_pipeline(\n",
    "    FeaturesKernel(7),\n",
    "    GridSearchCV(SVC(), {\"C\": np.logspace(-2, 2, 10), \"kernel\": [\"precomputed\"]}, n_jobs=10)\n",
    ")\n",
    "\n",
    "# svc = LinearSVC(C = 0.1, intercept_scaling=1., max_iter=10000, loss='hinge', multi_class='ovr', penalty='l2', random_state=1, tol=0.00001)\n",
    "\n",
    "svc.fit(log_Xs, ys.cpu())\n",
    "print(svc.score(log_Xs, ys.cpu()))\n",
    "print(svc.score(log_Xt, yt.cpu()))"
   ]
  },
  {
   "cell_type": "code",
   "execution_count": null,
   "id": "3aea80d8",
   "metadata": {},
   "outputs": [],
   "source": []
  },
  {
   "cell_type": "code",
   "execution_count": 39,
   "id": "dfbaf9c1",
   "metadata": {},
   "outputs": [
    {
     "name": "stderr",
     "output_type": "stream",
     "text": [
      "/share/home/bonet/.conda/envs/pytorch/lib/python3.9/site-packages/geoopt/manifolds/symmetric_positive_definite.py:52: UserWarning: SPDMetric.LEM is not fully implemented and results may be not as you expect\n",
      "  warnings.warn(\n",
      "100%|████████████████████████████████████████████████████████████████████████████████████████████████████████████████████████████████████████████████████████████| 500/500 [54:53<00:00,  6.59s/it, loss = 906.837]\n"
     ]
    }
   ],
   "source": [
    "epochs = 500\n",
    "num_projs = 500\n",
    "\n",
    "model = Transformations(d, n_freq, device)\n",
    "optimizer = RiemannianSGD(model.parameters(), lr=1e-1)\n",
    "# optimizer = RiemannianAdam(model.parameters(), lr=1e-1)\n",
    "\n",
    "manifold_spdai = geoopt.SymmetricPositiveDefinite(\"LEM\")        \n",
    "\n",
    "\n",
    "L_loss = []\n",
    "\n",
    "pbar = trange(epochs)\n",
    "\n",
    "for e in pbar:\n",
    "    zs = model(cov_Xs)\n",
    "    loss = 0\n",
    "    for i in range(zs.shape[2]):\n",
    "#         sw = sliced_wasserstein_spd(zs[:,0,i], cov_Xt[:,0,i], num_projs, device, p=2)\n",
    "#         loss += sw\n",
    "        \n",
    "        a = torch.ones((len(zs),), device=device, dtype=torch.float64)/len(zs)\n",
    "        b = torch.ones((len(cov_Xt),), device=device, dtype=torch.float64)/len(cov_Xt)\n",
    "        M = manifold_spdai.dist(zs[:,0,i][:,None], cov_Xt[:,0,i][None])**2\n",
    "        loss += 0.1 * ot.emd2(a, b, M)\n",
    "        \n",
    "    loss.backward()\n",
    "    optimizer.step()\n",
    "    optimizer.zero_grad()\n",
    "    \n",
    "    L_loss.append(loss.item())\n",
    "    \n",
    "    pbar.set_postfix_str(f\"loss = {loss.item():.3f}\")"
   ]
  },
  {
   "cell_type": "code",
   "execution_count": 40,
   "id": "e79f4e56",
   "metadata": {},
   "outputs": [
    {
     "data": {
      "image/png": "[encoded data removed]",
      "text/plain": [
       "<Figure size 432x288 with 1 Axes>"
      ]
     },
     "metadata": {
      "needs_background": "light"
     },
     "output_type": "display_data"
    }
   ],
   "source": [
    "plt.plot(L_loss)\n",
    "plt.show()"
   ]
  },
  {
   "cell_type": "code",
   "execution_count": 41,
   "id": "c93199b6",
   "metadata": {},
   "outputs": [
    {
     "name": "stdout",
     "output_type": "stream",
     "text": [
      "1.0\n",
      "0.4444444444444444\n"
     ]
    }
   ],
   "source": [
    "log_Xs = linalg.sym_logm(model(cov_Xs)[:, 0]).detach().cpu().numpy()\n",
    "log_Xt = linalg.sym_logm(cov_Xt[:, 0]).detach().cpu().numpy()\n",
    "\n",
    "\n",
    "svc = make_pipeline(\n",
    "    FeaturesKernel(7),\n",
    "    GridSearchCV(SVC(), {\"C\": np.logspace(-2, 2, 10), \"kernel\": [\"precomputed\"]}, n_jobs=10)\n",
    ")\n",
    "\n",
    "# svc = LinearSVC(C = 0.1, intercept_scaling=1., max_iter=10000, loss='hinge', multi_class='ovr', penalty='l2', random_state=1, tol=0.00001)\n",
    "\n",
    "svc.fit(log_Xs, ys.cpu())\n",
    "print(svc.score(log_Xs, ys.cpu()))\n",
    "print(svc.score(log_Xt, yt.cpu()))"
   ]
  },
  {
   "cell_type": "code",
   "execution_count": null,
   "id": "31c4d5a7",
   "metadata": {},
   "outputs": [],
   "source": []
  },
  {
   "cell_type": "code",
   "execution_count": null,
   "id": "db4e5213",
   "metadata": {},
   "outputs": [],
   "source": []
  },
  {
   "cell_type": "markdown",
   "id": "0b018f4f",
   "metadata": {},
   "source": [
    "### Cross Session - Subject 1"
   ]
  },
  {
   "cell_type": "code",
   "execution_count": 9,
   "id": "66098fd7",
   "metadata": {},
   "outputs": [],
   "source": [
    "Xs, ys = get_data(1, True, \"./dataset/\")\n",
    "cov_Xs = torch.tensor(get_cov2(Xs), device=device) #, dtype=torch.float32)\n",
    "ys = torch.tensor(ys, device=device, dtype=torch.long)-1\n",
    "\n",
    "Xt, yt = get_data(1, False, \"./dataset/\")\n",
    "cov_Xt = torch.tensor(get_cov2(Xt), device=device) #, dtype=torch.float32)\n",
    "yt = torch.tensor(yt, device=device, dtype=torch.long)-1"
   ]
  },
  {
   "cell_type": "code",
   "execution_count": 10,
   "id": "8ed85531",
   "metadata": {},
   "outputs": [],
   "source": [
    "d = 22\n",
    "n_classes = 4\n",
    "n_freq = cov_Xs.shape[2]"
   ]
  },
  {
   "cell_type": "code",
   "execution_count": 11,
   "id": "7ff03411",
   "metadata": {},
   "outputs": [
    {
     "name": "stderr",
     "output_type": "stream",
     "text": [
      "100%|████████████████████████████████████████████████████████████████████████████████████████████████████████████████████████████████████████████████████████████| 500/500 [1:32:24<00:00, 11.09s/it, loss = 0.112]\n"
     ]
    }
   ],
   "source": [
    "epochs = 500\n",
    "num_projs = 500\n",
    "\n",
    "model = Transformations(d, n_freq, device)\n",
    "optimizer = RiemannianSGD(model.parameters(), lr=1e-1)\n",
    "# optimizer = RiemannianAdam(model.parameters(), lr=1e-1)\n",
    "\n",
    "L_loss = []\n",
    "\n",
    "pbar = trange(epochs)\n",
    "\n",
    "for e in pbar:\n",
    "    zs = model(cov_Xs)\n",
    "    loss = 0\n",
    "    for i in range(zs.shape[2]):\n",
    "        sw = sliced_wasserstein_spd(zs[:,0,i], cov_Xt[:,0,i], num_projs, device, p=2)\n",
    "        loss += sw\n",
    "        \n",
    "    loss.backward()\n",
    "    optimizer.step()\n",
    "    optimizer.zero_grad()\n",
    "    \n",
    "    L_loss.append(loss.item())\n",
    "    \n",
    "    pbar.set_postfix_str(f\"loss = {loss.item():.3f}\")"
   ]
  },
  {
   "cell_type": "code",
   "execution_count": 12,
   "id": "3d8a50d0",
   "metadata": {},
   "outputs": [
    {
     "data": {
      "image/png": "[encoded data removed]",
      "text/plain": [
       "<Figure size 432x288 with 1 Axes>"
      ]
     },
     "metadata": {
      "needs_background": "light"
     },
     "output_type": "display_data"
    }
   ],
   "source": [
    "plt.plot(L_loss)\n",
    "plt.show()"
   ]
  },
  {
   "cell_type": "code",
   "execution_count": 15,
   "id": "a1ff9d28",
   "metadata": {},
   "outputs": [
    {
     "name": "stdout",
     "output_type": "stream",
     "text": [
      "1.0\n",
      "0.8540925266903915\n"
     ]
    }
   ],
   "source": [
    "log_Xs = linalg.sym_logm(model(cov_Xs)[:, 0]).detach().cpu().numpy()\n",
    "log_Xt = linalg.sym_logm(cov_Xt[:, 0]).detach().cpu().numpy()\n",
    "\n",
    "\n",
    "svc = make_pipeline(\n",
    "    FeaturesKernel(7),\n",
    "    GridSearchCV(SVC(), {\"C\": np.logspace(-2, 2, 10), \"kernel\": [\"precomputed\"]}, n_jobs=10)\n",
    ")\n",
    "\n",
    "# svc = LinearSVC(C = 0.1, intercept_scaling=1., max_iter=10000, loss='hinge', multi_class='ovr', penalty='l2', random_state=1, tol=0.00001)\n",
    "\n",
    "svc.fit(log_Xs, ys.cpu())\n",
    "print(svc.score(log_Xs, ys.cpu()))\n",
    "print(svc.score(log_Xt, yt.cpu()))"
   ]
  },
  {
   "cell_type": "code",
   "execution_count": null,
   "id": "c1f52e22",
   "metadata": {},
   "outputs": [],
   "source": []
  },
  {
   "cell_type": "code",
   "execution_count": 16,
   "id": "540e2a18",
   "metadata": {},
   "outputs": [
    {
     "name": "stdout",
     "output_type": "stream",
     "text": [
      "1.0\n",
      "0.8327402135231317\n"
     ]
    }
   ],
   "source": [
    "log_Xs = linalg.sym_logm(cov_Xs[:, 0]).detach().cpu().numpy()\n",
    "log_Xt = linalg.sym_logm(cov_Xt[:, 0]).detach().cpu().numpy()\n",
    "\n",
    "\n",
    "svc = make_pipeline(\n",
    "    FeaturesKernel(7),\n",
    "    GridSearchCV(SVC(), {\"C\": np.logspace(-2, 2, 10), \"kernel\": [\"precomputed\"]}, n_jobs=10)\n",
    ")\n",
    "\n",
    "# svc = LinearSVC(C = 0.1, intercept_scaling=1., max_iter=10000, loss='hinge', multi_class='ovr', penalty='l2', random_state=1, tol=0.00001)\n",
    "\n",
    "svc.fit(log_Xs, ys.cpu())\n",
    "print(svc.score(log_Xs, ys.cpu()))\n",
    "print(svc.score(log_Xt, yt.cpu()))"
   ]
  },
  {
   "cell_type": "code",
   "execution_count": null,
   "id": "038dcf1a",
   "metadata": {},
   "outputs": [],
   "source": []
  }
 ],
 "metadata": {
  "kernelspec": {
   "display_name": "Python 3 (ipykernel)",
   "language": "python",
   "name": "python3"
  },
  "language_info": {
   "codemirror_mode": {
    "name": "ipython",
    "version": 3
   },
   "file_extension": ".py",
   "mimetype": "text/x-python",
   "name": "python",
   "nbconvert_exporter": "python",
   "pygments_lexer": "ipython3",
   "version": "3.9.7"
  }
 },
 "nbformat": 4,
 "nbformat_minor": 5
}
