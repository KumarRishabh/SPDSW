{
 "cells": [
  {
   "cell_type": "code",
   "execution_count": 1,
   "id": "5b285e47",
   "metadata": {},
   "outputs": [],
   "source": [
    "import sys\n",
    "\n",
    "sys.path.append(\"../lib/data\")\n",
    "from main_riemannian import Riemannian_Model\n",
    "from main_csp import CSP_Model"
   ]
  },
  {
   "cell_type": "markdown",
   "id": "78da5c1e",
   "metadata": {},
   "source": [
    "From https://github.com/MultiScale-BCI/IV-2a."
   ]
  },
  {
   "cell_type": "markdown",
   "id": "6c0eef60",
   "metadata": {},
   "source": [
    "### Riemannian Model"
   ]
  },
  {
   "cell_type": "code",
   "execution_count": 6,
   "id": "4d92fa5c",
   "metadata": {},
   "outputs": [
    {
     "name": "stdout",
     "output_type": "stream",
     "text": [
      "Number of used features: 253\n",
      "Riemann\n",
      "Test data set\n",
      "\n",
      "Subject 1 0.8078291814946619\n",
      "Subject 2 0.4664310954063604\n",
      "Subject 3 0.7472527472527473\n",
      "Subject 4 0.5175438596491229\n",
      "Subject 5 0.4891304347826087\n",
      "Subject 6 0.5023255813953489\n",
      "Subject 7 0.740072202166065\n",
      "Subject 8 0.8302583025830258\n",
      "Subject 9 0.7992424242424242\n",
      "Average success rate: 0.6555650921080405\n"
     ]
    }
   ],
   "source": [
    "model = Riemannian_Model()\n",
    "model.data_path = \"../dataset/\"\n",
    "\n",
    "print(\"Number of used features: \"+ str(model.NO_features))\n",
    "print(model.riem_opt)\n",
    "\n",
    "# success rate sum over all subjects \n",
    "success_tot_sum = 0\n",
    "\n",
    "if model.crossvalidation:\n",
    "    print(\"Cross validation run\")\n",
    "else: \n",
    "    print(\"Test data set\")\n",
    "\n",
    "print()\n",
    "\n",
    "# Go through all subjects \n",
    "# subject = 1\n",
    "# model.subject = subject\n",
    "\n",
    "\n",
    "for model.subject in range(1,model.NO_subjects+1):\n",
    "\n",
    "    if model.crossvalidation:\n",
    "        success_sub_sum = 0 \n",
    "\n",
    "        for model.split in range(model.NO_splits):\n",
    "            model.load_data()\n",
    "            success_sub_sum += model.run_riemannian()\n",
    "\n",
    "        # average over all splits \n",
    "        success_rate = success_sub_sum/model.NO_splits\n",
    "\n",
    "    else: \n",
    "        # load Eval data \n",
    "        model.load_data()\n",
    "        success_rate = model.run_riemannian()\n",
    "\n",
    "    print(\"Subject \" + str(model.subject), success_rate)\n",
    "    success_tot_sum += success_rate \n",
    "\n",
    "\n",
    "# Average success rate over all subjects \n",
    "print(\"Average success rate: \" + str(success_tot_sum/model.NO_subjects))"
   ]
  },
  {
   "cell_type": "markdown",
   "id": "01ee3343",
   "metadata": {},
   "source": [
    "### CSP Model"
   ]
  },
  {
   "cell_type": "code",
   "execution_count": 10,
   "id": "f693caae",
   "metadata": {},
   "outputs": [
    {
     "name": "stdout",
     "output_type": "stream",
     "text": [
      "Number of used features: 264\n",
      "Test data set\n",
      "\n"
     ]
    },
    {
     "name": "stderr",
     "output_type": "stream",
     "text": [
      "/share/home/bonet/.conda/envs/pytorch/lib/python3.9/site-packages/sklearn/svm/_base.py:1199: ConvergenceWarning: Liblinear failed to converge, increase the number of iterations.\n",
      "  warnings.warn(\n"
     ]
    },
    {
     "name": "stdout",
     "output_type": "stream",
     "text": [
      "Subject 1 0.7259786476868327\n"
     ]
    },
    {
     "name": "stderr",
     "output_type": "stream",
     "text": [
      "/share/home/bonet/.conda/envs/pytorch/lib/python3.9/site-packages/sklearn/svm/_base.py:1199: ConvergenceWarning: Liblinear failed to converge, increase the number of iterations.\n",
      "  warnings.warn(\n"
     ]
    },
    {
     "name": "stdout",
     "output_type": "stream",
     "text": [
      "Subject 2 0.5724381625441696\n",
      "Subject 3 0.7728937728937729\n",
      "Subject 4 0.543859649122807\n"
     ]
    },
    {
     "name": "stderr",
     "output_type": "stream",
     "text": [
      "/share/home/bonet/.conda/envs/pytorch/lib/python3.9/site-packages/sklearn/svm/_base.py:1199: ConvergenceWarning: Liblinear failed to converge, increase the number of iterations.\n",
      "  warnings.warn(\n"
     ]
    },
    {
     "name": "stdout",
     "output_type": "stream",
     "text": [
      "Subject 5 0.4673913043478261\n",
      "Subject 6 0.413953488372093\n",
      "Subject 7 0.7581227436823105\n",
      "Subject 8 0.8634686346863468\n",
      "Subject 9 0.8409090909090909\n",
      "Average success rate: 0.6621128326939166\n"
     ]
    }
   ],
   "source": [
    "model = CSP_Model()\n",
    "model.data_path = \"../dataset/\"\n",
    "\n",
    "print(\"Number of used features: \"+ str(model.NO_features))\n",
    "\n",
    "# success rate sum over all subjects \n",
    "success_tot_sum = 0\n",
    "\n",
    "if model.crossvalidation:\n",
    "    print(\"Cross validation run\")\n",
    "else: \n",
    "    print(\"Test data set\")\n",
    "    \n",
    "print()\n",
    "\n",
    "# Go through all subjects \n",
    "# model.subject = subject\n",
    "\n",
    "\n",
    "for model.subject in range(1,model.NO_subjects+1):\n",
    "\n",
    "\n",
    "    if model.crossvalidation:\n",
    "        success_sub_sum = 0 \n",
    "\n",
    "        for model.split in range(model.NO_splits):\n",
    "            model.load_data()\n",
    "            success_sub_sum += model.run_csp()\n",
    "            print(success_sub_sum/(model.split+1))\n",
    "        # average over all splits \n",
    "        success_rate = success_sub_sum/model.NO_splits\n",
    "\n",
    "    else: \n",
    "        # load Eval data \n",
    "        model.load_data()\n",
    "        success_rate = model.run_csp()\n",
    "\n",
    "    print(\"Subject \" + str(model.subject), success_rate)\n",
    "    success_tot_sum += success_rate \n",
    "\n",
    "\n",
    "# Average success rate over all subjects \n",
    "print(\"Average success rate: \" + str(success_tot_sum/model.NO_subjects))"
   ]
  },
  {
   "cell_type": "code",
   "execution_count": null,
   "id": "d27d714f",
   "metadata": {},
   "outputs": [],
   "source": []
  }
 ],
 "metadata": {
  "kernelspec": {
   "display_name": "Python 3 (ipykernel)",
   "language": "python",
   "name": "python3"
  },
  "language_info": {
   "codemirror_mode": {
    "name": "ipython",
    "version": 3
   },
   "file_extension": ".py",
   "mimetype": "text/x-python",
   "name": "python",
   "nbconvert_exporter": "python",
   "pygments_lexer": "ipython3",
   "version": "3.9.7"
  }
 },
 "nbformat": 4,
 "nbformat_minor": 5
}
