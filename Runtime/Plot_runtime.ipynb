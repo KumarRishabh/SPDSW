{
 "cells": [
  {
   "cell_type": "code",
   "execution_count": 1,
   "id": "1104a821",
   "metadata": {},
   "outputs": [],
   "source": [
    "import numpy as np\n",
    "import matplotlib.pyplot as plt"
   ]
  },
  {
   "cell_type": "code",
   "execution_count": 2,
   "id": "d3a7f559",
   "metadata": {},
   "outputs": [],
   "source": [
    "# L_s = np.loadtxt(\"./Comparison_SW_Sinkhorn_d3\").reshape(1,5,20)\n",
    "L_aiw = np.loadtxt(\"./Comparison_AIW_d2\").reshape(1,7,20)\n",
    "L_lew = np.loadtxt(\"./Comparison_LEW_d2\").reshape(1,7,20)\n",
    "L_les = np.loadtxt(\"./Comparison_LES_d2\").reshape(1,7,20)\n",
    "\n",
    "# print(np.loadtxt(\"./Comparison_SW_Sinkhorn_d3\").shape)\n",
    "\n",
    "L_spdsw = np.zeros((1, 2, 7, 20))\n",
    "for k, proj in enumerate([200]):\n",
    "    L_spdsw[0, k] = np.loadtxt(\"./Comparison_SWSPDp_projs_\"+str(proj)+\"_d2\")\n",
    "#     L_hsw[0, k] = np.loadtxt(\"./Colab_20trys/Comparison_HSW_projs_\"+str(proj))"
   ]
  },
  {
   "cell_type": "code",
   "execution_count": 6,
   "id": "879d05c4",
   "metadata": {},
   "outputs": [
    {
     "name": "stderr",
     "output_type": "stream",
     "text": [
      "/share/home/bonet/.conda/envs/pytorch/lib/python3.9/site-packages/numpy/core/_methods.py:229: RuntimeWarning: invalid value encountered in subtract\n",
      "  x = asanyarray(arr - arrmean)\n",
      "/share/home/bonet/.conda/envs/pytorch/lib/python3.9/site-packages/numpy/core/_methods.py:229: RuntimeWarning: invalid value encountered in subtract\n",
      "  x = asanyarray(arr - arrmean)\n",
      "/share/home/bonet/.conda/envs/pytorch/lib/python3.9/site-packages/numpy/core/_methods.py:229: RuntimeWarning: invalid value encountered in subtract\n",
      "  x = asanyarray(arr - arrmean)\n"
     ]
    },
    {
     "data": {
      "image/png": "[encoded data removed]",
      "text/plain": [
       "<Figure size 432x144 with 1 Axes>"
      ]
     },
     "metadata": {
      "needs_background": "light"
     },
     "output_type": "display_data"
    }
   ],
   "source": [
    "fig = plt.figure(figsize=(6,2))\n",
    "\n",
    "# plt.rcParams.update({\n",
    "#     \"text.usetex\": True,\n",
    "#     \"font.family\": \"serif\",\n",
    "#     \"font.serif\": \"cm\"\n",
    "# })\n",
    "\n",
    "ds = [3]\n",
    "# samples = [int(1e2),int(1e3),int(1e4),int(1e5/2),int(1e5)]\n",
    "samples = [int(1e2),int(1e3/2),int(1e3),int(1e4/2),int(1e4),int(1e5/2),int(1e5)] #,int(1e6/2)]\n",
    "\n",
    "for i, d in enumerate(ds):\n",
    "    for l, n_projs in enumerate([200]):\n",
    "        m = np.mean(L_spdsw[i, l], axis=-1)\n",
    "        s = np.std(L_spdsw[i, l], axis=-1)\n",
    "        \n",
    "        plt.loglog(samples, m, label=r\"$SPDSW_2$,\" + r\" $L=$\"+str(n_projs))\n",
    "        plt.fill_between(samples, m-s, m+s,alpha=0.5)\n",
    "        \n",
    "\n",
    "    m_w = np.mean(L_aiw[i], axis=-1)\n",
    "    s_w = np.std(L_aiw[i], axis=-1)\n",
    "\n",
    "    plt.loglog(samples, m_w, label=r\"$AIW_2$\")\n",
    "    plt.fill_between(samples, m_w-s_w, m_w+s_w, alpha=0.5)\n",
    "\n",
    "\n",
    "    m_w = np.mean(L_lew[i], axis=-1)\n",
    "    s_w = np.std(L_lew[i], axis=-1)\n",
    "\n",
    "    plt.loglog(samples, m_w, label=r\"$LEW_2$\")\n",
    "    plt.fill_between(samples, m_w-s_w, m_w+s_w, alpha=0.5)\n",
    "    \n",
    "    \n",
    "    m_w = np.mean(L_les[i], axis=-1)\n",
    "    s_w = np.std(L_les[i], axis=-1)\n",
    "\n",
    "    plt.loglog(samples, m_w, label=r\"$LES_2$\")\n",
    "    plt.fill_between(samples, m_w-s_w, m_w+s_w, alpha=0.5)\n",
    "    \n",
    "\n",
    "plt.xlabel(r\"Number of samples in each distribution\", fontsize=13)\n",
    "plt.ylabel(r\"Seconds\", fontsize=13)\n",
    "#     plt.yscale(\"log\")\n",
    "    # plt.xscale(\"log\")\n",
    "    \n",
    "# plt.legend(fontsize=13, bbox_to_anchor=(-0.05,1.02,1,0.2), loc=\"lower left\", ncol=3)\n",
    "plt.legend(fontsize=13, bbox_to_anchor=(0,1.02,1,0.2), loc=\"lower left\", ncol=2)\n",
    "# plt.legend(fontsize=13, loc=\"upper right\")\n",
    "# plt.title(\"Computational Time\", fontsize=13)\n",
    "plt.grid(True)\n",
    "plt.yticks([10,1,0.1,0.01,0.001])\n",
    "\n",
    "plt.savefig(\"./Comparison_Time_SPDSW_d2.pdf\", format=\"pdf\", bbox_inches=\"tight\")\n",
    "plt.show()"
   ]
  },
  {
   "cell_type": "code",
   "execution_count": null,
   "id": "de7f5b43",
   "metadata": {},
   "outputs": [],
   "source": []
  },
  {
   "cell_type": "code",
   "execution_count": null,
   "id": "6b4725fa",
   "metadata": {},
   "outputs": [],
   "source": []
  },
  {
   "cell_type": "code",
   "execution_count": 4,
   "id": "0cbbdfde",
   "metadata": {},
   "outputs": [],
   "source": [
    "# L_s = np.loadtxt(\"./Comparison_SW_Sinkhorn_d3\").reshape(1,5,20)\n",
    "L_aiw = np.loadtxt(\"./Comparison_AIW_d10\").reshape(1,7,20)\n",
    "L_lew = np.loadtxt(\"./Comparison_LEW_d10\").reshape(1,7,20)\n",
    "\n",
    "# print(np.loadtxt(\"./Comparison_SW_Sinkhorn_d3\").shape)\n",
    "\n",
    "L_spdsw = np.zeros((1, 2, 7, 20))\n",
    "for k, proj in enumerate([200]):\n",
    "    L_spdsw[0, k] = np.loadtxt(\"./Comparison_SWSPDp_projs_\"+str(proj)+\"_d10\")\n",
    "#     L_hsw[0, k] = np.loadtxt(\"./Colab_20trys/Comparison_HSW_projs_\"+str(proj))"
   ]
  },
  {
   "cell_type": "code",
   "execution_count": 6,
   "id": "cc448137",
   "metadata": {},
   "outputs": [
    {
     "name": "stderr",
     "output_type": "stream",
     "text": [
      "/share/home/bonet/.conda/envs/pytorch/lib/python3.9/site-packages/numpy/core/_methods.py:229: RuntimeWarning: invalid value encountered in subtract\n",
      "  x = asanyarray(arr - arrmean)\n",
      "/share/home/bonet/.conda/envs/pytorch/lib/python3.9/site-packages/numpy/core/_methods.py:229: RuntimeWarning: invalid value encountered in subtract\n",
      "  x = asanyarray(arr - arrmean)\n",
      "/share/home/bonet/.conda/envs/pytorch/lib/python3.9/site-packages/numpy/core/_methods.py:229: RuntimeWarning: invalid value encountered in subtract\n",
      "  x = asanyarray(arr - arrmean)\n"
     ]
    },
    {
     "data": {
      "image/png": "[encoded data removed]",
      "text/plain": [
       "<Figure size 432x144 with 1 Axes>"
      ]
     },
     "metadata": {
      "needs_background": "light"
     },
     "output_type": "display_data"
    }
   ],
   "source": [
    "fig = plt.figure(figsize=(6,2))\n",
    "\n",
    "# plt.rcParams.update({\n",
    "#     \"text.usetex\": True,\n",
    "#     \"font.family\": \"serif\",\n",
    "#     \"font.serif\": \"cm\"\n",
    "# })\n",
    "\n",
    "ds = [100]\n",
    "# samples = [int(1e2),int(1e3),int(1e4),int(1e5/2),int(1e5)]\n",
    "samples = [int(1e2),int(1e3/2),int(1e3),int(1e4/2),int(1e4),int(1e5/2),int(1e5)] #,int(1e6/2)]\n",
    "\n",
    "for i, d in enumerate(ds):\n",
    "    for l, n_projs in enumerate([200]):\n",
    "        m = np.mean(L_spdsw[i, l], axis=-1)\n",
    "        s = np.std(L_spdsw[i, l], axis=-1)\n",
    "        \n",
    "        plt.loglog(samples, m, label=r\"$SPDSW_2$,\" + r\" $L=$\"+str(n_projs))\n",
    "        plt.fill_between(samples, m-s, m+s,alpha=0.5)\n",
    "        \n",
    "\n",
    "    m_w = np.mean(L_aiw[i], axis=-1)\n",
    "    s_w = np.std(L_aiw[i], axis=-1)\n",
    "\n",
    "    plt.loglog(samples, m_w, label=r\"$AIW_2$\")\n",
    "    plt.fill_between(samples, m_w-s_w, m_w+s_w, alpha=0.5)\n",
    "\n",
    "\n",
    "    m_w = np.mean(L_lew[i], axis=-1)\n",
    "    s_w = np.std(L_lew[i], axis=-1)\n",
    "\n",
    "    plt.loglog(samples, m_w, label=r\"$LEW_2$\")\n",
    "    plt.fill_between(samples, m_w-s_w, m_w+s_w, alpha=0.5)\n",
    "    \n",
    "\n",
    "plt.xlabel(r\"Number of samples in each distribution\", fontsize=13)\n",
    "plt.ylabel(r\"Seconds\", fontsize=13)\n",
    "#     plt.yscale(\"log\")\n",
    "    # plt.xscale(\"log\")\n",
    "    \n",
    "plt.legend(fontsize=13, bbox_to_anchor=(-0.05,1.02,1,0.2), loc=\"lower left\", ncol=3)\n",
    "# plt.legend(fontsize=13, loc=\"upper right\")\n",
    "# plt.title(\"Computational Time\", fontsize=13)\n",
    "plt.grid(True)\n",
    "plt.yticks([10,1,0.1,0.01,0.001])\n",
    "\n",
    "plt.savefig(\"./Comparison_Time_SPDSW_d10.pdf\", format=\"pdf\", bbox_inches=\"tight\")\n",
    "plt.show()"
   ]
  },
  {
   "cell_type": "code",
   "execution_count": null,
   "id": "e7c2fb6f",
   "metadata": {},
   "outputs": [],
   "source": []
  },
  {
   "cell_type": "code",
   "execution_count": null,
   "id": "d8852501",
   "metadata": {},
   "outputs": [],
   "source": []
  },
  {
   "cell_type": "code",
   "execution_count": 4,
   "id": "f3e74fe8",
   "metadata": {},
   "outputs": [],
   "source": [
    "# import matplotlib.font_manager"
   ]
  },
  {
   "cell_type": "code",
   "execution_count": null,
   "id": "1cc1aa08",
   "metadata": {},
   "outputs": [],
   "source": []
  },
  {
   "cell_type": "code",
   "execution_count": 5,
   "id": "bbb15b6a",
   "metadata": {
    "scrolled": true
   },
   "outputs": [],
   "source": [
    "# fig = plt.figure(figsize=(6,2))\n",
    "\n",
    "# plt.rcParams.update({\n",
    "#     \"text.usetex\": True,\n",
    "#     \"font.family\": \"serif\",\n",
    "#     \"font.serif\": \"cm\"\n",
    "# })\n",
    "\n",
    "\n",
    "# ds = [3]\n",
    "# samples = [int(1e2),int(1e3),int(1e4),int(1e5/2),int(1e5)]\n",
    "\n",
    "# for i, d in enumerate(ds):\n",
    "#     for l, n_projs in enumerate([200]):\n",
    "#         m = np.mean(L_spdsw[i, l], axis=-1)\n",
    "#         s = np.std(L_spdsw[i, l], axis=-1)\n",
    "        \n",
    "#         plt.loglog(samples, m, label=r\"$SPDSW_2$,\" + r\" $L=$\"+str(n_projs))\n",
    "#         plt.fill_between(samples, m-s, m+s,alpha=0.5)\n",
    "        \n",
    "\n",
    "#     m_w = np.mean(L_aiw[i], axis=-1)\n",
    "#     s_w = np.std(L_aiw[i], axis=-1)\n",
    "\n",
    "#     plt.loglog(samples, m_w, label=r\"Affine-Invariant Wasserstein\")\n",
    "#     plt.fill_between(samples, m_w-s_w, m_w+s_w, alpha=0.5)\n",
    "\n",
    "\n",
    "#     m_w = np.mean(L_lew[i], axis=-1)\n",
    "#     s_w = np.std(L_lew[i], axis=-1)\n",
    "\n",
    "#     plt.loglog(samples, m_w, label=r\"Log-Euclidean Wasserstein\")\n",
    "#     plt.fill_between(samples, m_w-s_w, m_w+s_w, alpha=0.5)\n",
    "    \n",
    "\n",
    "# plt.xlabel(r\"Number of samples in each distribution\", fontsize=13)\n",
    "# plt.ylabel(r\"Seconds\", fontsize=13)\n",
    "# #     plt.yscale(\"log\")\n",
    "#     # plt.xscale(\"log\")\n",
    "    \n",
    "# plt.legend(fontsize=13, bbox_to_anchor=(0,1.02,1,0.2), loc=\"lower left\", ncol=2)\n",
    "# # plt.title(\"Computational Time\", fontsize=13)\n",
    "# plt.grid(True)\n",
    "# plt.yticks([10,1,0.1,0.01,0.001])\n",
    "\n",
    "# plt.savefig(\"./Comparison_Time_SPDSW_LateX.pdf\", format=\"pdf\", bbox_inches=\"tight\")\n",
    "# plt.show()"
   ]
  }
 ],
 "metadata": {
  "kernelspec": {
   "display_name": "Python 3 (ipykernel)",
   "language": "python",
   "name": "python3"
  },
  "language_info": {
   "codemirror_mode": {
    "name": "ipython",
    "version": 3
   },
   "file_extension": ".py",
   "mimetype": "text/x-python",
   "name": "python",
   "nbconvert_exporter": "python",
   "pygments_lexer": "ipython3",
   "version": "3.9.7"
  },
  "toc": {
   "base_numbering": 1,
   "nav_menu": {},
   "number_sections": true,
   "sideBar": true,
   "skip_h1_title": true,
   "title_cell": "Table of Contents",
   "title_sidebar": "Contents",
   "toc_cell": false,
   "toc_position": {},
   "toc_section_display": true,
   "toc_window_display": false
  }
 },
 "nbformat": 4,
 "nbformat_minor": 5
}
